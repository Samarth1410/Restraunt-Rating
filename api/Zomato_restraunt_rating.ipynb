{
  "nbformat": 4,
  "nbformat_minor": 0,
  "metadata": {
    "colab": {
      "provenance": []
    },
    "kernelspec": {
      "name": "python3",
      "display_name": "Python 3"
    },
    "language_info": {
      "name": "python"
    }
  },
  "cells": [
    {
      "cell_type": "code",
      "source": [
        "import pandas as pd\n",
        "import numpy as np\n",
        "import plotly.graph_objs as go \n",
        "import matplotlib.pyplot as plt\n",
        "import plotly.offline as py \n",
        "import seaborn as sns \n",
        "\n",
        "import matplotlib.ticker as mtick\n",
        "plt.style.use('fivethirtyeight')\n",
        "from sklearn.linear_model import LogisticRegression\n",
        "from sklearn.linear_model import LinearRegression\n",
        "from sklearn.ensemble import ExtraTreesRegressor\n",
        "from sklearn.model_selection import train_test_split\n",
        "\n",
        "import warnings \n",
        "warnings.filterwarnings('ignore')\n",
        "%matplotlib inline"
      ],
      "metadata": {
        "id": "QiGDj_9EUC4Y"
      },
      "execution_count": 1,
      "outputs": []
    },
    {
      "cell_type": "markdown",
      "source": [
        "MOUNT DRIVE"
      ],
      "metadata": {
        "id": "fwN_fhCcXZiN"
      }
    },
    {
      "cell_type": "code",
      "source": [
        "from google.colab import drive\n",
        "drive.mount('/content/drive')"
      ],
      "metadata": {
        "colab": {
          "base_uri": "https://localhost:8080/"
        },
        "id": "1rV8q1VlT6QG",
        "outputId": "a53200aa-ae30-44fd-ff4b-3678552fcd76"
      },
      "execution_count": 2,
      "outputs": [
        {
          "output_type": "stream",
          "name": "stdout",
          "text": [
            "Mounted at /content/drive\n"
          ]
        }
      ]
    },
    {
      "cell_type": "markdown",
      "source": [
        "**LOAD DATASET**"
      ],
      "metadata": {
        "id": "yu4aUBsIYEUh"
      }
    },
    {
      "cell_type": "code",
      "source": [
        "data = pd.read_csv(\"/content/drive/MyDrive/zomato.csv\")\n",
        "data.head()"
      ],
      "metadata": {
        "colab": {
          "base_uri": "https://localhost:8080/",
          "height": 652
        },
        "id": "7Sv7iZqJXH0h",
        "outputId": "a6169978-e9a5-4159-cdc6-6a0cfcbfce66"
      },
      "execution_count": 3,
      "outputs": [
        {
          "output_type": "execute_result",
          "data": {
            "text/plain": [
              "                                                 url  \\\n",
              "0  https://www.zomato.com/bangalore/jalsa-banasha...   \n",
              "1  https://www.zomato.com/bangalore/spice-elephan...   \n",
              "2  https://www.zomato.com/SanchurroBangalore?cont...   \n",
              "3  https://www.zomato.com/bangalore/addhuri-udupi...   \n",
              "4  https://www.zomato.com/bangalore/grand-village...   \n",
              "\n",
              "                                             address                   name  \\\n",
              "0  942, 21st Main Road, 2nd Stage, Banashankari, ...                  Jalsa   \n",
              "1  2nd Floor, 80 Feet Road, Near Big Bazaar, 6th ...         Spice Elephant   \n",
              "2  1112, Next to KIMS Medical College, 17th Cross...        San Churro Cafe   \n",
              "3  1st Floor, Annakuteera, 3rd Stage, Banashankar...  Addhuri Udupi Bhojana   \n",
              "4  10, 3rd Floor, Lakshmi Associates, Gandhi Baza...          Grand Village   \n",
              "\n",
              "  online_order book_table   rate  votes                             phone  \\\n",
              "0          Yes        Yes  4.1/5    775    080 42297555\\r\\n+91 9743772233   \n",
              "1          Yes         No  4.1/5    787                      080 41714161   \n",
              "2          Yes         No  3.8/5    918                    +91 9663487993   \n",
              "3           No         No  3.7/5     88                    +91 9620009302   \n",
              "4           No         No  3.8/5    166  +91 8026612447\\r\\n+91 9901210005   \n",
              "\n",
              "       location            rest_type  \\\n",
              "0  Banashankari        Casual Dining   \n",
              "1  Banashankari        Casual Dining   \n",
              "2  Banashankari  Cafe, Casual Dining   \n",
              "3  Banashankari          Quick Bites   \n",
              "4  Basavanagudi        Casual Dining   \n",
              "\n",
              "                                          dish_liked  \\\n",
              "0  Pasta, Lunch Buffet, Masala Papad, Paneer Laja...   \n",
              "1  Momos, Lunch Buffet, Chocolate Nirvana, Thai G...   \n",
              "2  Churros, Cannelloni, Minestrone Soup, Hot Choc...   \n",
              "3                                        Masala Dosa   \n",
              "4                                Panipuri, Gol Gappe   \n",
              "\n",
              "                         cuisines approx_cost(for two people)  \\\n",
              "0  North Indian, Mughlai, Chinese                         800   \n",
              "1     Chinese, North Indian, Thai                         800   \n",
              "2          Cafe, Mexican, Italian                         800   \n",
              "3      South Indian, North Indian                         300   \n",
              "4        North Indian, Rajasthani                         600   \n",
              "\n",
              "                                        reviews_list menu_item  \\\n",
              "0  [('Rated 4.0', 'RATED\\n  A beautiful place to ...        []   \n",
              "1  [('Rated 4.0', 'RATED\\n  Had been here for din...        []   \n",
              "2  [('Rated 3.0', \"RATED\\n  Ambience is not that ...        []   \n",
              "3  [('Rated 4.0', \"RATED\\n  Great food and proper...        []   \n",
              "4  [('Rated 4.0', 'RATED\\n  Very good restaurant ...        []   \n",
              "\n",
              "  listed_in(type) listed_in(city)  \n",
              "0          Buffet    Banashankari  \n",
              "1          Buffet    Banashankari  \n",
              "2          Buffet    Banashankari  \n",
              "3          Buffet    Banashankari  \n",
              "4          Buffet    Banashankari  "
            ],
            "text/html": [
              "\n",
              "  <div id=\"df-7f0df4a4-0809-469c-8f99-8aed98e9b15a\">\n",
              "    <div class=\"colab-df-container\">\n",
              "      <div>\n",
              "<style scoped>\n",
              "    .dataframe tbody tr th:only-of-type {\n",
              "        vertical-align: middle;\n",
              "    }\n",
              "\n",
              "    .dataframe tbody tr th {\n",
              "        vertical-align: top;\n",
              "    }\n",
              "\n",
              "    .dataframe thead th {\n",
              "        text-align: right;\n",
              "    }\n",
              "</style>\n",
              "<table border=\"1\" class=\"dataframe\">\n",
              "  <thead>\n",
              "    <tr style=\"text-align: right;\">\n",
              "      <th></th>\n",
              "      <th>url</th>\n",
              "      <th>address</th>\n",
              "      <th>name</th>\n",
              "      <th>online_order</th>\n",
              "      <th>book_table</th>\n",
              "      <th>rate</th>\n",
              "      <th>votes</th>\n",
              "      <th>phone</th>\n",
              "      <th>location</th>\n",
              "      <th>rest_type</th>\n",
              "      <th>dish_liked</th>\n",
              "      <th>cuisines</th>\n",
              "      <th>approx_cost(for two people)</th>\n",
              "      <th>reviews_list</th>\n",
              "      <th>menu_item</th>\n",
              "      <th>listed_in(type)</th>\n",
              "      <th>listed_in(city)</th>\n",
              "    </tr>\n",
              "  </thead>\n",
              "  <tbody>\n",
              "    <tr>\n",
              "      <th>0</th>\n",
              "      <td>https://www.zomato.com/bangalore/jalsa-banasha...</td>\n",
              "      <td>942, 21st Main Road, 2nd Stage, Banashankari, ...</td>\n",
              "      <td>Jalsa</td>\n",
              "      <td>Yes</td>\n",
              "      <td>Yes</td>\n",
              "      <td>4.1/5</td>\n",
              "      <td>775</td>\n",
              "      <td>080 42297555\\r\\n+91 9743772233</td>\n",
              "      <td>Banashankari</td>\n",
              "      <td>Casual Dining</td>\n",
              "      <td>Pasta, Lunch Buffet, Masala Papad, Paneer Laja...</td>\n",
              "      <td>North Indian, Mughlai, Chinese</td>\n",
              "      <td>800</td>\n",
              "      <td>[('Rated 4.0', 'RATED\\n  A beautiful place to ...</td>\n",
              "      <td>[]</td>\n",
              "      <td>Buffet</td>\n",
              "      <td>Banashankari</td>\n",
              "    </tr>\n",
              "    <tr>\n",
              "      <th>1</th>\n",
              "      <td>https://www.zomato.com/bangalore/spice-elephan...</td>\n",
              "      <td>2nd Floor, 80 Feet Road, Near Big Bazaar, 6th ...</td>\n",
              "      <td>Spice Elephant</td>\n",
              "      <td>Yes</td>\n",
              "      <td>No</td>\n",
              "      <td>4.1/5</td>\n",
              "      <td>787</td>\n",
              "      <td>080 41714161</td>\n",
              "      <td>Banashankari</td>\n",
              "      <td>Casual Dining</td>\n",
              "      <td>Momos, Lunch Buffet, Chocolate Nirvana, Thai G...</td>\n",
              "      <td>Chinese, North Indian, Thai</td>\n",
              "      <td>800</td>\n",
              "      <td>[('Rated 4.0', 'RATED\\n  Had been here for din...</td>\n",
              "      <td>[]</td>\n",
              "      <td>Buffet</td>\n",
              "      <td>Banashankari</td>\n",
              "    </tr>\n",
              "    <tr>\n",
              "      <th>2</th>\n",
              "      <td>https://www.zomato.com/SanchurroBangalore?cont...</td>\n",
              "      <td>1112, Next to KIMS Medical College, 17th Cross...</td>\n",
              "      <td>San Churro Cafe</td>\n",
              "      <td>Yes</td>\n",
              "      <td>No</td>\n",
              "      <td>3.8/5</td>\n",
              "      <td>918</td>\n",
              "      <td>+91 9663487993</td>\n",
              "      <td>Banashankari</td>\n",
              "      <td>Cafe, Casual Dining</td>\n",
              "      <td>Churros, Cannelloni, Minestrone Soup, Hot Choc...</td>\n",
              "      <td>Cafe, Mexican, Italian</td>\n",
              "      <td>800</td>\n",
              "      <td>[('Rated 3.0', \"RATED\\n  Ambience is not that ...</td>\n",
              "      <td>[]</td>\n",
              "      <td>Buffet</td>\n",
              "      <td>Banashankari</td>\n",
              "    </tr>\n",
              "    <tr>\n",
              "      <th>3</th>\n",
              "      <td>https://www.zomato.com/bangalore/addhuri-udupi...</td>\n",
              "      <td>1st Floor, Annakuteera, 3rd Stage, Banashankar...</td>\n",
              "      <td>Addhuri Udupi Bhojana</td>\n",
              "      <td>No</td>\n",
              "      <td>No</td>\n",
              "      <td>3.7/5</td>\n",
              "      <td>88</td>\n",
              "      <td>+91 9620009302</td>\n",
              "      <td>Banashankari</td>\n",
              "      <td>Quick Bites</td>\n",
              "      <td>Masala Dosa</td>\n",
              "      <td>South Indian, North Indian</td>\n",
              "      <td>300</td>\n",
              "      <td>[('Rated 4.0', \"RATED\\n  Great food and proper...</td>\n",
              "      <td>[]</td>\n",
              "      <td>Buffet</td>\n",
              "      <td>Banashankari</td>\n",
              "    </tr>\n",
              "    <tr>\n",
              "      <th>4</th>\n",
              "      <td>https://www.zomato.com/bangalore/grand-village...</td>\n",
              "      <td>10, 3rd Floor, Lakshmi Associates, Gandhi Baza...</td>\n",
              "      <td>Grand Village</td>\n",
              "      <td>No</td>\n",
              "      <td>No</td>\n",
              "      <td>3.8/5</td>\n",
              "      <td>166</td>\n",
              "      <td>+91 8026612447\\r\\n+91 9901210005</td>\n",
              "      <td>Basavanagudi</td>\n",
              "      <td>Casual Dining</td>\n",
              "      <td>Panipuri, Gol Gappe</td>\n",
              "      <td>North Indian, Rajasthani</td>\n",
              "      <td>600</td>\n",
              "      <td>[('Rated 4.0', 'RATED\\n  Very good restaurant ...</td>\n",
              "      <td>[]</td>\n",
              "      <td>Buffet</td>\n",
              "      <td>Banashankari</td>\n",
              "    </tr>\n",
              "  </tbody>\n",
              "</table>\n",
              "</div>\n",
              "      <button class=\"colab-df-convert\" onclick=\"convertToInteractive('df-7f0df4a4-0809-469c-8f99-8aed98e9b15a')\"\n",
              "              title=\"Convert this dataframe to an interactive table.\"\n",
              "              style=\"display:none;\">\n",
              "        \n",
              "  <svg xmlns=\"http://www.w3.org/2000/svg\" height=\"24px\"viewBox=\"0 0 24 24\"\n",
              "       width=\"24px\">\n",
              "    <path d=\"M0 0h24v24H0V0z\" fill=\"none\"/>\n",
              "    <path d=\"M18.56 5.44l.94 2.06.94-2.06 2.06-.94-2.06-.94-.94-2.06-.94 2.06-2.06.94zm-11 1L8.5 8.5l.94-2.06 2.06-.94-2.06-.94L8.5 2.5l-.94 2.06-2.06.94zm10 10l.94 2.06.94-2.06 2.06-.94-2.06-.94-.94-2.06-.94 2.06-2.06.94z\"/><path d=\"M17.41 7.96l-1.37-1.37c-.4-.4-.92-.59-1.43-.59-.52 0-1.04.2-1.43.59L10.3 9.45l-7.72 7.72c-.78.78-.78 2.05 0 2.83L4 21.41c.39.39.9.59 1.41.59.51 0 1.02-.2 1.41-.59l7.78-7.78 2.81-2.81c.8-.78.8-2.07 0-2.86zM5.41 20L4 18.59l7.72-7.72 1.47 1.35L5.41 20z\"/>\n",
              "  </svg>\n",
              "      </button>\n",
              "      \n",
              "  <style>\n",
              "    .colab-df-container {\n",
              "      display:flex;\n",
              "      flex-wrap:wrap;\n",
              "      gap: 12px;\n",
              "    }\n",
              "\n",
              "    .colab-df-convert {\n",
              "      background-color: #E8F0FE;\n",
              "      border: none;\n",
              "      border-radius: 50%;\n",
              "      cursor: pointer;\n",
              "      display: none;\n",
              "      fill: #1967D2;\n",
              "      height: 32px;\n",
              "      padding: 0 0 0 0;\n",
              "      width: 32px;\n",
              "    }\n",
              "\n",
              "    .colab-df-convert:hover {\n",
              "      background-color: #E2EBFA;\n",
              "      box-shadow: 0px 1px 2px rgba(60, 64, 67, 0.3), 0px 1px 3px 1px rgba(60, 64, 67, 0.15);\n",
              "      fill: #174EA6;\n",
              "    }\n",
              "\n",
              "    [theme=dark] .colab-df-convert {\n",
              "      background-color: #3B4455;\n",
              "      fill: #D2E3FC;\n",
              "    }\n",
              "\n",
              "    [theme=dark] .colab-df-convert:hover {\n",
              "      background-color: #434B5C;\n",
              "      box-shadow: 0px 1px 3px 1px rgba(0, 0, 0, 0.15);\n",
              "      filter: drop-shadow(0px 1px 2px rgba(0, 0, 0, 0.3));\n",
              "      fill: #FFFFFF;\n",
              "    }\n",
              "  </style>\n",
              "\n",
              "      <script>\n",
              "        const buttonEl =\n",
              "          document.querySelector('#df-7f0df4a4-0809-469c-8f99-8aed98e9b15a button.colab-df-convert');\n",
              "        buttonEl.style.display =\n",
              "          google.colab.kernel.accessAllowed ? 'block' : 'none';\n",
              "\n",
              "        async function convertToInteractive(key) {\n",
              "          const element = document.querySelector('#df-7f0df4a4-0809-469c-8f99-8aed98e9b15a');\n",
              "          const dataTable =\n",
              "            await google.colab.kernel.invokeFunction('convertToInteractive',\n",
              "                                                     [key], {});\n",
              "          if (!dataTable) return;\n",
              "\n",
              "          const docLinkHtml = 'Like what you see? Visit the ' +\n",
              "            '<a target=\"_blank\" href=https://colab.research.google.com/notebooks/data_table.ipynb>data table notebook</a>'\n",
              "            + ' to learn more about interactive tables.';\n",
              "          element.innerHTML = '';\n",
              "          dataTable['output_type'] = 'display_data';\n",
              "          await google.colab.output.renderOutput(dataTable, element);\n",
              "          const docLink = document.createElement('div');\n",
              "          docLink.innerHTML = docLinkHtml;\n",
              "          element.appendChild(docLink);\n",
              "        }\n",
              "      </script>\n",
              "    </div>\n",
              "  </div>\n",
              "  "
            ]
          },
          "metadata": {},
          "execution_count": 3
        }
      ]
    },
    {
      "cell_type": "code",
      "source": [
        "data.menu_item"
      ],
      "metadata": {
        "colab": {
          "base_uri": "https://localhost:8080/"
        },
        "id": "bD6Go337n-SZ",
        "outputId": "ffa3fe6a-91a4-4ada-dc7b-82ebe4830c5e"
      },
      "execution_count": 4,
      "outputs": [
        {
          "output_type": "execute_result",
          "data": {
            "text/plain": [
              "0        []\n",
              "1        []\n",
              "2        []\n",
              "3        []\n",
              "4        []\n",
              "         ..\n",
              "51712    []\n",
              "51713    []\n",
              "51714    []\n",
              "51715    []\n",
              "51716    []\n",
              "Name: menu_item, Length: 51717, dtype: object"
            ]
          },
          "metadata": {},
          "execution_count": 4
        }
      ]
    },
    {
      "cell_type": "markdown",
      "source": [
        "ADD COLUMN DESCRIPTION"
      ],
      "metadata": {
        "id": "zSV2juM_aQRF"
      }
    },
    {
      "cell_type": "code",
      "source": [
        "print(data.shape)\n",
        "print(data.dtypes)\n",
        "#cost : obj to int"
      ],
      "metadata": {
        "colab": {
          "base_uri": "https://localhost:8080/"
        },
        "id": "hifgPA-oYg-_",
        "outputId": "9e60ec92-c0c4-419a-b9ce-bcf8b8d5b1e2"
      },
      "execution_count": 5,
      "outputs": [
        {
          "output_type": "stream",
          "name": "stdout",
          "text": [
            "(51717, 17)\n",
            "url                            object\n",
            "address                        object\n",
            "name                           object\n",
            "online_order                   object\n",
            "book_table                     object\n",
            "rate                           object\n",
            "votes                           int64\n",
            "phone                          object\n",
            "location                       object\n",
            "rest_type                      object\n",
            "dish_liked                     object\n",
            "cuisines                       object\n",
            "approx_cost(for two people)    object\n",
            "reviews_list                   object\n",
            "menu_item                      object\n",
            "listed_in(type)                object\n",
            "listed_in(city)                object\n",
            "dtype: object\n"
          ]
        }
      ]
    },
    {
      "cell_type": "code",
      "source": [
        "data.isnull().sum()"
      ],
      "metadata": {
        "colab": {
          "base_uri": "https://localhost:8080/"
        },
        "id": "pM_9s4dhZKgn",
        "outputId": "e0110a6b-815f-4cd5-e34f-c69416fb60c8"
      },
      "execution_count": 6,
      "outputs": [
        {
          "output_type": "execute_result",
          "data": {
            "text/plain": [
              "url                                0\n",
              "address                            0\n",
              "name                               0\n",
              "online_order                       0\n",
              "book_table                         0\n",
              "rate                            7775\n",
              "votes                              0\n",
              "phone                           1208\n",
              "location                          21\n",
              "rest_type                        227\n",
              "dish_liked                     28078\n",
              "cuisines                          45\n",
              "approx_cost(for two people)      346\n",
              "reviews_list                       0\n",
              "menu_item                          0\n",
              "listed_in(type)                    0\n",
              "listed_in(city)                    0\n",
              "dtype: int64"
            ]
          },
          "metadata": {},
          "execution_count": 6
        }
      ]
    },
    {
      "cell_type": "code",
      "source": [
        "df = data.drop(['url','phone'], axis =1)"
      ],
      "metadata": {
        "id": "jry4ktSlaorJ"
      },
      "execution_count": 7,
      "outputs": []
    },
    {
      "cell_type": "markdown",
      "source": [
        "**Checking Duplicates**"
      ],
      "metadata": {
        "id": "6W9E5T3gbnVv"
      }
    },
    {
      "cell_type": "code",
      "source": [
        "df.duplicated().sum()"
      ],
      "metadata": {
        "colab": {
          "base_uri": "https://localhost:8080/"
        },
        "id": "Jpesp4x0bjy5",
        "outputId": "6efafeca-69e1-4002-8998-f99f097d39c1"
      },
      "execution_count": 8,
      "outputs": [
        {
          "output_type": "execute_result",
          "data": {
            "text/plain": [
              "43"
            ]
          },
          "metadata": {},
          "execution_count": 8
        }
      ]
    },
    {
      "cell_type": "code",
      "source": [
        "df.drop_duplicates(inplace = True)"
      ],
      "metadata": {
        "id": "jF5o0sh-b0gK"
      },
      "execution_count": 9,
      "outputs": []
    },
    {
      "cell_type": "code",
      "source": [
        "df.duplicated().sum()"
      ],
      "metadata": {
        "colab": {
          "base_uri": "https://localhost:8080/"
        },
        "id": "SPusaTpTcH33",
        "outputId": "26e3337a-72f5-4309-ec52-035680dfc8fd"
      },
      "execution_count": 10,
      "outputs": [
        {
          "output_type": "execute_result",
          "data": {
            "text/plain": [
              "0"
            ]
          },
          "metadata": {},
          "execution_count": 10
        }
      ]
    },
    {
      "cell_type": "markdown",
      "source": [
        "**Drop Null Values**"
      ],
      "metadata": {
        "id": "2tLZCMDCcN4P"
      }
    },
    {
      "cell_type": "code",
      "source": [
        "df.dropna(inplace = True)\n",
        "df.isnull().sum()"
      ],
      "metadata": {
        "colab": {
          "base_uri": "https://localhost:8080/"
        },
        "id": "59U8r182e4Mj",
        "outputId": "48b858d3-f027-4e42-a25b-308833faadbc"
      },
      "execution_count": 11,
      "outputs": [
        {
          "output_type": "execute_result",
          "data": {
            "text/plain": [
              "address                        0\n",
              "name                           0\n",
              "online_order                   0\n",
              "book_table                     0\n",
              "rate                           0\n",
              "votes                          0\n",
              "location                       0\n",
              "rest_type                      0\n",
              "dish_liked                     0\n",
              "cuisines                       0\n",
              "approx_cost(for two people)    0\n",
              "reviews_list                   0\n",
              "menu_item                      0\n",
              "listed_in(type)                0\n",
              "listed_in(city)                0\n",
              "dtype: int64"
            ]
          },
          "metadata": {},
          "execution_count": 11
        }
      ]
    },
    {
      "cell_type": "markdown",
      "source": [
        "**Renaming columns**"
      ],
      "metadata": {
        "id": "427e74LWfO7G"
      }
    },
    {
      "cell_type": "code",
      "source": [
        "df.columns"
      ],
      "metadata": {
        "colab": {
          "base_uri": "https://localhost:8080/"
        },
        "id": "v8EJrOY9cLIZ",
        "outputId": "032fd755-b18a-4ffa-d6c2-66da459e4f9b"
      },
      "execution_count": 12,
      "outputs": [
        {
          "output_type": "execute_result",
          "data": {
            "text/plain": [
              "Index(['address', 'name', 'online_order', 'book_table', 'rate', 'votes',\n",
              "       'location', 'rest_type', 'dish_liked', 'cuisines',\n",
              "       'approx_cost(for two people)', 'reviews_list', 'menu_item',\n",
              "       'listed_in(type)', 'listed_in(city)'],\n",
              "      dtype='object')"
            ]
          },
          "metadata": {},
          "execution_count": 12
        }
      ]
    },
    {
      "cell_type": "code",
      "source": [
        "df = df.rename(columns = {'approx_cost(for two people)':'cost',\n",
        "                          'listed_in(type)' : 'type',\n",
        "                          'listed_in(city)':'city'})\n",
        "df.columns"
      ],
      "metadata": {
        "colab": {
          "base_uri": "https://localhost:8080/"
        },
        "id": "-0wd_tQTcVNz",
        "outputId": "80364959-9e8a-4f59-aa68-a5ed14482379"
      },
      "execution_count": 13,
      "outputs": [
        {
          "output_type": "execute_result",
          "data": {
            "text/plain": [
              "Index(['address', 'name', 'online_order', 'book_table', 'rate', 'votes',\n",
              "       'location', 'rest_type', 'dish_liked', 'cuisines', 'cost',\n",
              "       'reviews_list', 'menu_item', 'type', 'city'],\n",
              "      dtype='object')"
            ]
          },
          "metadata": {},
          "execution_count": 13
        }
      ]
    },
    {
      "cell_type": "markdown",
      "source": [
        "**DATA CLEANING**"
      ],
      "metadata": {
        "id": "znyVxuagdBP6"
      }
    },
    {
      "cell_type": "code",
      "source": [
        "df.cost.unique()"
      ],
      "metadata": {
        "colab": {
          "base_uri": "https://localhost:8080/"
        },
        "id": "WzDbLUS5cyS5",
        "outputId": "f132d2ff-ed62-42ec-bc54-24b86796304a"
      },
      "execution_count": 14,
      "outputs": [
        {
          "output_type": "execute_result",
          "data": {
            "text/plain": [
              "array(['800', '300', '600', '700', '550', '500', '450', '650', '400',\n",
              "       '750', '200', '850', '1,200', '150', '350', '250', '1,500',\n",
              "       '1,300', '1,000', '100', '900', '1,100', '1,600', '950', '230',\n",
              "       '1,700', '1,400', '1,350', '2,200', '2,000', '1,800', '1,900',\n",
              "       '180', '330', '2,500', '2,100', '3,000', '2,800', '3,400', '40',\n",
              "       '1,250', '3,500', '4,000', '2,400', '1,450', '3,200', '6,000',\n",
              "       '1,050', '4,100', '2,300', '120', '2,600', '5,000', '3,700',\n",
              "       '1,650', '2,700', '4,500'], dtype=object)"
            ]
          },
          "metadata": {},
          "execution_count": 14
        }
      ]
    },
    {
      "cell_type": "code",
      "source": [
        "df.cost = df.cost.astype(str)\n",
        "df.cost = df.cost.apply(lambda x: x.replace(\",\",\"\"))\n",
        "df.cost = df.cost.astype(float)"
      ],
      "metadata": {
        "id": "uho66GPGdUOb"
      },
      "execution_count": 15,
      "outputs": []
    },
    {
      "cell_type": "code",
      "source": [
        "df.cost.dtype"
      ],
      "metadata": {
        "colab": {
          "base_uri": "https://localhost:8080/"
        },
        "id": "Xc_abq1ad2Fl",
        "outputId": "0b66fb2c-bf49-406d-a0d3-c6fc27d97d62"
      },
      "execution_count": 16,
      "outputs": [
        {
          "output_type": "execute_result",
          "data": {
            "text/plain": [
              "dtype('float64')"
            ]
          },
          "metadata": {},
          "execution_count": 16
        }
      ]
    },
    {
      "cell_type": "code",
      "source": [
        "df.rate.unique()"
      ],
      "metadata": {
        "colab": {
          "base_uri": "https://localhost:8080/"
        },
        "id": "8ET1fwC0eIAA",
        "outputId": "f81f62a4-992c-4aaa-df12-cdc6e4be90ac"
      },
      "execution_count": 17,
      "outputs": [
        {
          "output_type": "execute_result",
          "data": {
            "text/plain": [
              "array(['4.1/5', '3.8/5', '3.7/5', '4.6/5', '4.0/5', '4.2/5', '3.9/5',\n",
              "       '3.0/5', '3.6/5', '2.8/5', '4.4/5', '3.1/5', '4.3/5', '2.6/5',\n",
              "       '3.3/5', '3.5/5', '3.8 /5', '3.2/5', '4.5/5', '2.5/5', '2.9/5',\n",
              "       '3.4/5', '2.7/5', '4.7/5', 'NEW', '2.4/5', '2.2/5', '2.3/5',\n",
              "       '4.8/5', '3.9 /5', '4.2 /5', '4.0 /5', '4.1 /5', '2.9 /5',\n",
              "       '2.7 /5', '2.5 /5', '2.6 /5', '4.5 /5', '4.3 /5', '3.7 /5',\n",
              "       '4.4 /5', '4.9/5', '2.1/5', '2.0/5', '1.8/5', '3.4 /5', '3.6 /5',\n",
              "       '3.3 /5', '4.6 /5', '4.9 /5', '3.2 /5', '3.0 /5', '2.8 /5',\n",
              "       '3.5 /5', '3.1 /5', '4.8 /5', '2.3 /5', '4.7 /5', '2.4 /5',\n",
              "       '2.1 /5', '2.2 /5', '2.0 /5', '1.8 /5'], dtype=object)"
            ]
          },
          "metadata": {},
          "execution_count": 17
        }
      ]
    },
    {
      "cell_type": "code",
      "source": [
        "df = df.loc[df.rate != 'NEW']"
      ],
      "metadata": {
        "id": "fusDIBXAeiE0"
      },
      "execution_count": 18,
      "outputs": []
    },
    {
      "cell_type": "code",
      "source": [
        "df.rate = df.rate.apply(lambda x: x.replace('/5', \"\"))\n",
        "df.rate = df.rate.astype(float)"
      ],
      "metadata": {
        "id": "oKDK4lktfwyG"
      },
      "execution_count": 19,
      "outputs": []
    },
    {
      "cell_type": "code",
      "source": [
        "df.rate.unique()"
      ],
      "metadata": {
        "colab": {
          "base_uri": "https://localhost:8080/"
        },
        "id": "8pPnlGizftpF",
        "outputId": "39c59b0c-439e-4f3e-d4bc-eb2e1d5d4cb6"
      },
      "execution_count": 20,
      "outputs": [
        {
          "output_type": "execute_result",
          "data": {
            "text/plain": [
              "array([4.1, 3.8, 3.7, 4.6, 4. , 4.2, 3.9, 3. , 3.6, 2.8, 4.4, 3.1, 4.3,\n",
              "       2.6, 3.3, 3.5, 3.2, 4.5, 2.5, 2.9, 3.4, 2.7, 4.7, 2.4, 2.2, 2.3,\n",
              "       4.8, 4.9, 2.1, 2. , 1.8])"
            ]
          },
          "metadata": {},
          "execution_count": 20
        }
      ]
    },
    {
      "cell_type": "code",
      "source": [
        "df.menu_item\n",
        "# Empty list"
      ],
      "metadata": {
        "colab": {
          "base_uri": "https://localhost:8080/"
        },
        "id": "gfHWDffpqvtl",
        "outputId": "afe31da1-3dea-40b7-8321-68288c72f1b0"
      },
      "execution_count": 21,
      "outputs": [
        {
          "output_type": "execute_result",
          "data": {
            "text/plain": [
              "0        []\n",
              "1        []\n",
              "2        []\n",
              "3        []\n",
              "4        []\n",
              "         ..\n",
              "51705    []\n",
              "51707    []\n",
              "51708    []\n",
              "51711    []\n",
              "51715    []\n",
              "Name: menu_item, Length: 23248, dtype: object"
            ]
          },
          "metadata": {},
          "execution_count": 21
        }
      ]
    },
    {
      "cell_type": "code",
      "source": [
        "df = df.drop(columns = 'menu_item', axis =1)"
      ],
      "metadata": {
        "id": "wxVyaLfHq59v"
      },
      "execution_count": 22,
      "outputs": []
    },
    {
      "cell_type": "markdown",
      "source": [
        "# Visualisations"
      ],
      "metadata": {
        "id": "bNCimuYxgXgu"
      }
    },
    {
      "cell_type": "markdown",
      "source": [
        "Most famous restraunts chains in Bangaluru"
      ],
      "metadata": {
        "id": "zWzbuDf0ge2f"
      }
    },
    {
      "cell_type": "code",
      "source": [
        "df.head()"
      ],
      "metadata": {
        "colab": {
          "base_uri": "https://localhost:8080/",
          "height": 634
        },
        "id": "gd-1j8XukUv4",
        "outputId": "fe076e38-a301-4d88-bb50-6c46206091ec"
      },
      "execution_count": 23,
      "outputs": [
        {
          "output_type": "execute_result",
          "data": {
            "text/plain": [
              "                                             address                   name  \\\n",
              "0  942, 21st Main Road, 2nd Stage, Banashankari, ...                  Jalsa   \n",
              "1  2nd Floor, 80 Feet Road, Near Big Bazaar, 6th ...         Spice Elephant   \n",
              "2  1112, Next to KIMS Medical College, 17th Cross...        San Churro Cafe   \n",
              "3  1st Floor, Annakuteera, 3rd Stage, Banashankar...  Addhuri Udupi Bhojana   \n",
              "4  10, 3rd Floor, Lakshmi Associates, Gandhi Baza...          Grand Village   \n",
              "\n",
              "  online_order book_table  rate  votes      location            rest_type  \\\n",
              "0          Yes        Yes   4.1    775  Banashankari        Casual Dining   \n",
              "1          Yes         No   4.1    787  Banashankari        Casual Dining   \n",
              "2          Yes         No   3.8    918  Banashankari  Cafe, Casual Dining   \n",
              "3           No         No   3.7     88  Banashankari          Quick Bites   \n",
              "4           No         No   3.8    166  Basavanagudi        Casual Dining   \n",
              "\n",
              "                                          dish_liked  \\\n",
              "0  Pasta, Lunch Buffet, Masala Papad, Paneer Laja...   \n",
              "1  Momos, Lunch Buffet, Chocolate Nirvana, Thai G...   \n",
              "2  Churros, Cannelloni, Minestrone Soup, Hot Choc...   \n",
              "3                                        Masala Dosa   \n",
              "4                                Panipuri, Gol Gappe   \n",
              "\n",
              "                         cuisines   cost  \\\n",
              "0  North Indian, Mughlai, Chinese  800.0   \n",
              "1     Chinese, North Indian, Thai  800.0   \n",
              "2          Cafe, Mexican, Italian  800.0   \n",
              "3      South Indian, North Indian  300.0   \n",
              "4        North Indian, Rajasthani  600.0   \n",
              "\n",
              "                                        reviews_list    type          city  \n",
              "0  [('Rated 4.0', 'RATED\\n  A beautiful place to ...  Buffet  Banashankari  \n",
              "1  [('Rated 4.0', 'RATED\\n  Had been here for din...  Buffet  Banashankari  \n",
              "2  [('Rated 3.0', \"RATED\\n  Ambience is not that ...  Buffet  Banashankari  \n",
              "3  [('Rated 4.0', \"RATED\\n  Great food and proper...  Buffet  Banashankari  \n",
              "4  [('Rated 4.0', 'RATED\\n  Very good restaurant ...  Buffet  Banashankari  "
            ],
            "text/html": [
              "\n",
              "  <div id=\"df-af2a4339-f42b-4236-8f59-dbef1f2f3377\">\n",
              "    <div class=\"colab-df-container\">\n",
              "      <div>\n",
              "<style scoped>\n",
              "    .dataframe tbody tr th:only-of-type {\n",
              "        vertical-align: middle;\n",
              "    }\n",
              "\n",
              "    .dataframe tbody tr th {\n",
              "        vertical-align: top;\n",
              "    }\n",
              "\n",
              "    .dataframe thead th {\n",
              "        text-align: right;\n",
              "    }\n",
              "</style>\n",
              "<table border=\"1\" class=\"dataframe\">\n",
              "  <thead>\n",
              "    <tr style=\"text-align: right;\">\n",
              "      <th></th>\n",
              "      <th>address</th>\n",
              "      <th>name</th>\n",
              "      <th>online_order</th>\n",
              "      <th>book_table</th>\n",
              "      <th>rate</th>\n",
              "      <th>votes</th>\n",
              "      <th>location</th>\n",
              "      <th>rest_type</th>\n",
              "      <th>dish_liked</th>\n",
              "      <th>cuisines</th>\n",
              "      <th>cost</th>\n",
              "      <th>reviews_list</th>\n",
              "      <th>type</th>\n",
              "      <th>city</th>\n",
              "    </tr>\n",
              "  </thead>\n",
              "  <tbody>\n",
              "    <tr>\n",
              "      <th>0</th>\n",
              "      <td>942, 21st Main Road, 2nd Stage, Banashankari, ...</td>\n",
              "      <td>Jalsa</td>\n",
              "      <td>Yes</td>\n",
              "      <td>Yes</td>\n",
              "      <td>4.1</td>\n",
              "      <td>775</td>\n",
              "      <td>Banashankari</td>\n",
              "      <td>Casual Dining</td>\n",
              "      <td>Pasta, Lunch Buffet, Masala Papad, Paneer Laja...</td>\n",
              "      <td>North Indian, Mughlai, Chinese</td>\n",
              "      <td>800.0</td>\n",
              "      <td>[('Rated 4.0', 'RATED\\n  A beautiful place to ...</td>\n",
              "      <td>Buffet</td>\n",
              "      <td>Banashankari</td>\n",
              "    </tr>\n",
              "    <tr>\n",
              "      <th>1</th>\n",
              "      <td>2nd Floor, 80 Feet Road, Near Big Bazaar, 6th ...</td>\n",
              "      <td>Spice Elephant</td>\n",
              "      <td>Yes</td>\n",
              "      <td>No</td>\n",
              "      <td>4.1</td>\n",
              "      <td>787</td>\n",
              "      <td>Banashankari</td>\n",
              "      <td>Casual Dining</td>\n",
              "      <td>Momos, Lunch Buffet, Chocolate Nirvana, Thai G...</td>\n",
              "      <td>Chinese, North Indian, Thai</td>\n",
              "      <td>800.0</td>\n",
              "      <td>[('Rated 4.0', 'RATED\\n  Had been here for din...</td>\n",
              "      <td>Buffet</td>\n",
              "      <td>Banashankari</td>\n",
              "    </tr>\n",
              "    <tr>\n",
              "      <th>2</th>\n",
              "      <td>1112, Next to KIMS Medical College, 17th Cross...</td>\n",
              "      <td>San Churro Cafe</td>\n",
              "      <td>Yes</td>\n",
              "      <td>No</td>\n",
              "      <td>3.8</td>\n",
              "      <td>918</td>\n",
              "      <td>Banashankari</td>\n",
              "      <td>Cafe, Casual Dining</td>\n",
              "      <td>Churros, Cannelloni, Minestrone Soup, Hot Choc...</td>\n",
              "      <td>Cafe, Mexican, Italian</td>\n",
              "      <td>800.0</td>\n",
              "      <td>[('Rated 3.0', \"RATED\\n  Ambience is not that ...</td>\n",
              "      <td>Buffet</td>\n",
              "      <td>Banashankari</td>\n",
              "    </tr>\n",
              "    <tr>\n",
              "      <th>3</th>\n",
              "      <td>1st Floor, Annakuteera, 3rd Stage, Banashankar...</td>\n",
              "      <td>Addhuri Udupi Bhojana</td>\n",
              "      <td>No</td>\n",
              "      <td>No</td>\n",
              "      <td>3.7</td>\n",
              "      <td>88</td>\n",
              "      <td>Banashankari</td>\n",
              "      <td>Quick Bites</td>\n",
              "      <td>Masala Dosa</td>\n",
              "      <td>South Indian, North Indian</td>\n",
              "      <td>300.0</td>\n",
              "      <td>[('Rated 4.0', \"RATED\\n  Great food and proper...</td>\n",
              "      <td>Buffet</td>\n",
              "      <td>Banashankari</td>\n",
              "    </tr>\n",
              "    <tr>\n",
              "      <th>4</th>\n",
              "      <td>10, 3rd Floor, Lakshmi Associates, Gandhi Baza...</td>\n",
              "      <td>Grand Village</td>\n",
              "      <td>No</td>\n",
              "      <td>No</td>\n",
              "      <td>3.8</td>\n",
              "      <td>166</td>\n",
              "      <td>Basavanagudi</td>\n",
              "      <td>Casual Dining</td>\n",
              "      <td>Panipuri, Gol Gappe</td>\n",
              "      <td>North Indian, Rajasthani</td>\n",
              "      <td>600.0</td>\n",
              "      <td>[('Rated 4.0', 'RATED\\n  Very good restaurant ...</td>\n",
              "      <td>Buffet</td>\n",
              "      <td>Banashankari</td>\n",
              "    </tr>\n",
              "  </tbody>\n",
              "</table>\n",
              "</div>\n",
              "      <button class=\"colab-df-convert\" onclick=\"convertToInteractive('df-af2a4339-f42b-4236-8f59-dbef1f2f3377')\"\n",
              "              title=\"Convert this dataframe to an interactive table.\"\n",
              "              style=\"display:none;\">\n",
              "        \n",
              "  <svg xmlns=\"http://www.w3.org/2000/svg\" height=\"24px\"viewBox=\"0 0 24 24\"\n",
              "       width=\"24px\">\n",
              "    <path d=\"M0 0h24v24H0V0z\" fill=\"none\"/>\n",
              "    <path d=\"M18.56 5.44l.94 2.06.94-2.06 2.06-.94-2.06-.94-.94-2.06-.94 2.06-2.06.94zm-11 1L8.5 8.5l.94-2.06 2.06-.94-2.06-.94L8.5 2.5l-.94 2.06-2.06.94zm10 10l.94 2.06.94-2.06 2.06-.94-2.06-.94-.94-2.06-.94 2.06-2.06.94z\"/><path d=\"M17.41 7.96l-1.37-1.37c-.4-.4-.92-.59-1.43-.59-.52 0-1.04.2-1.43.59L10.3 9.45l-7.72 7.72c-.78.78-.78 2.05 0 2.83L4 21.41c.39.39.9.59 1.41.59.51 0 1.02-.2 1.41-.59l7.78-7.78 2.81-2.81c.8-.78.8-2.07 0-2.86zM5.41 20L4 18.59l7.72-7.72 1.47 1.35L5.41 20z\"/>\n",
              "  </svg>\n",
              "      </button>\n",
              "      \n",
              "  <style>\n",
              "    .colab-df-container {\n",
              "      display:flex;\n",
              "      flex-wrap:wrap;\n",
              "      gap: 12px;\n",
              "    }\n",
              "\n",
              "    .colab-df-convert {\n",
              "      background-color: #E8F0FE;\n",
              "      border: none;\n",
              "      border-radius: 50%;\n",
              "      cursor: pointer;\n",
              "      display: none;\n",
              "      fill: #1967D2;\n",
              "      height: 32px;\n",
              "      padding: 0 0 0 0;\n",
              "      width: 32px;\n",
              "    }\n",
              "\n",
              "    .colab-df-convert:hover {\n",
              "      background-color: #E2EBFA;\n",
              "      box-shadow: 0px 1px 2px rgba(60, 64, 67, 0.3), 0px 1px 3px 1px rgba(60, 64, 67, 0.15);\n",
              "      fill: #174EA6;\n",
              "    }\n",
              "\n",
              "    [theme=dark] .colab-df-convert {\n",
              "      background-color: #3B4455;\n",
              "      fill: #D2E3FC;\n",
              "    }\n",
              "\n",
              "    [theme=dark] .colab-df-convert:hover {\n",
              "      background-color: #434B5C;\n",
              "      box-shadow: 0px 1px 3px 1px rgba(0, 0, 0, 0.15);\n",
              "      filter: drop-shadow(0px 1px 2px rgba(0, 0, 0, 0.3));\n",
              "      fill: #FFFFFF;\n",
              "    }\n",
              "  </style>\n",
              "\n",
              "      <script>\n",
              "        const buttonEl =\n",
              "          document.querySelector('#df-af2a4339-f42b-4236-8f59-dbef1f2f3377 button.colab-df-convert');\n",
              "        buttonEl.style.display =\n",
              "          google.colab.kernel.accessAllowed ? 'block' : 'none';\n",
              "\n",
              "        async function convertToInteractive(key) {\n",
              "          const element = document.querySelector('#df-af2a4339-f42b-4236-8f59-dbef1f2f3377');\n",
              "          const dataTable =\n",
              "            await google.colab.kernel.invokeFunction('convertToInteractive',\n",
              "                                                     [key], {});\n",
              "          if (!dataTable) return;\n",
              "\n",
              "          const docLinkHtml = 'Like what you see? Visit the ' +\n",
              "            '<a target=\"_blank\" href=https://colab.research.google.com/notebooks/data_table.ipynb>data table notebook</a>'\n",
              "            + ' to learn more about interactive tables.';\n",
              "          element.innerHTML = '';\n",
              "          dataTable['output_type'] = 'display_data';\n",
              "          await google.colab.output.renderOutput(dataTable, element);\n",
              "          const docLink = document.createElement('div');\n",
              "          docLink.innerHTML = docLinkHtml;\n",
              "          element.appendChild(docLink);\n",
              "        }\n",
              "      </script>\n",
              "    </div>\n",
              "  </div>\n",
              "  "
            ]
          },
          "metadata": {},
          "execution_count": 23
        }
      ]
    },
    {
      "cell_type": "code",
      "source": [
        "plt.figure(figsize=(17,10))\n",
        "chains = df['name'].value_counts()[:20]\n",
        "sns.barplot(x=chains,y=chains.index,palette='deep')\n",
        "plt.title(\"Most famous restraunts chains in Bangalore\")\n",
        "plt.xlabel('Number of outlets')\n",
        "plt.show()"
      ],
      "metadata": {
        "colab": {
          "base_uri": "https://localhost:8080/",
          "height": 448
        },
        "id": "BKYSA4fOgH2E",
        "outputId": "a0ff779f-bdfe-48cd-eeea-b4c3eb1be73b"
      },
      "execution_count": 24,
      "outputs": [
        {
          "output_type": "display_data",
          "data": {
            "text/plain": [
              "<Figure size 1224x720 with 1 Axes>"
            ],
            "image/png": "[encoded data removed]"
          },
          "metadata": {
            "needs_background": "light"
          }
        }
      ]
    },
    {
      "cell_type": "markdown",
      "source": [
        "**Table Booking Ratio**"
      ],
      "metadata": {
        "id": "boD_K8UpkubA"
      }
    },
    {
      "cell_type": "code",
      "source": [
        "x=df.book_table.value_counts()\n",
        "colors = ['#800080','000070']\n",
        "\n",
        "trace = go.Pie(labels=x.index,values=x,textinfo = 'value',\n",
        "                marker = dict(colors=colors, line=dict(color='#001000',width=2)))\n",
        "layout=go.Layout(title=\"Table booking\", width=600,height=600)\n",
        "fig=go.Figure(data=[trace],layout=layout)\n",
        "py.iplot(fig,filename='pie_chart_subplots')"
      ],
      "metadata": {
        "colab": {
          "base_uri": "https://localhost:8080/",
          "height": 617
        },
        "id": "PjBbq3arkss3",
        "outputId": "e6c5c8eb-379b-40e7-b027-69c5404ea7c4"
      },
      "execution_count": 25,
      "outputs": [
        {
          "output_type": "display_data",
          "data": {
            "text/html": [
              "<html>\n",
              "<head><meta charset=\"utf-8\" /></head>\n",
              "<body>\n",
              "    <div>            <script src=\"https://cdnjs.cloudflare.com/ajax/libs/mathjax/2.7.5/MathJax.js?config=TeX-AMS-MML_SVG\"></script><script type=\"text/javascript\">if (window.MathJax) {MathJax.Hub.Config({SVG: {font: \"STIX-Web\"}});}</script>                <script type=\"text/javascript\">window.PlotlyConfig = {MathJaxConfig: 'local'};</script>\n",
              "        <script src=\"https://cdn.plot.ly/plotly-2.8.3.min.js\"></script>                <div id=\"06c35e44-7e9f-4e00-9f25-5a4207a85869\" class=\"plotly-graph-div\" style=\"height:600px; width:600px;\"></div>            <script type=\"text/javascript\">                                    window.PLOTLYENV=window.PLOTLYENV || {};                                    if (document.getElementById(\"06c35e44-7e9f-4e00-9f25-5a4207a85869\")) {                    Plotly.newPlot(                        \"06c35e44-7e9f-4e00-9f25-5a4207a85869\",                        [{\"labels\":[\"No\",\"Yes\"],\"marker\":{\"colors\":[\"#800080\",\"000070\"],\"line\":{\"color\":\"#001000\",\"width\":2}},\"textinfo\":\"value\",\"values\":[17191,6057],\"type\":\"pie\"}],                        {\"height\":600,\"template\":{\"data\":{\"barpolar\":[{\"marker\":{\"line\":{\"color\":\"#E5ECF6\",\"width\":0.5},\"pattern\":{\"fillmode\":\"overlay\",\"size\":10,\"solidity\":0.2}},\"type\":\"barpolar\"}],\"bar\":[{\"error_x\":{\"color\":\"#2a3f5f\"},\"error_y\":{\"color\":\"#2a3f5f\"},\"marker\":{\"line\":{\"color\":\"#E5ECF6\",\"width\":0.5},\"pattern\":{\"fillmode\":\"overlay\",\"size\":10,\"solidity\":0.2}},\"type\":\"bar\"}],\"carpet\":[{\"aaxis\":{\"endlinecolor\":\"#2a3f5f\",\"gridcolor\":\"white\",\"linecolor\":\"white\",\"minorgridcolor\":\"white\",\"startlinecolor\":\"#2a3f5f\"},\"baxis\":{\"endlinecolor\":\"#2a3f5f\",\"gridcolor\":\"white\",\"linecolor\":\"white\",\"minorgridcolor\":\"white\",\"startlinecolor\":\"#2a3f5f\"},\"type\":\"carpet\"}],\"choropleth\":[{\"colorbar\":{\"outlinewidth\":0,\"ticks\":\"\"},\"type\":\"choropleth\"}],\"contourcarpet\":[{\"colorbar\":{\"outlinewidth\":0,\"ticks\":\"\"},\"type\":\"contourcarpet\"}],\"contour\":[{\"colorbar\":{\"outlinewidth\":0,\"ticks\":\"\"},\"colorscale\":[[0.0,\"#0d0887\"],[0.1111111111111111,\"#46039f\"],[0.2222222222222222,\"#7201a8\"],[0.3333333333333333,\"#9c179e\"],[0.4444444444444444,\"#bd3786\"],[0.5555555555555556,\"#d8576b\"],[0.6666666666666666,\"#ed7953\"],[0.7777777777777778,\"#fb9f3a\"],[0.8888888888888888,\"#fdca26\"],[1.0,\"#f0f921\"]],\"type\":\"contour\"}],\"heatmapgl\":[{\"colorbar\":{\"outlinewidth\":0,\"ticks\":\"\"},\"colorscale\":[[0.0,\"#0d0887\"],[0.1111111111111111,\"#46039f\"],[0.2222222222222222,\"#7201a8\"],[0.3333333333333333,\"#9c179e\"],[0.4444444444444444,\"#bd3786\"],[0.5555555555555556,\"#d8576b\"],[0.6666666666666666,\"#ed7953\"],[0.7777777777777778,\"#fb9f3a\"],[0.8888888888888888,\"#fdca26\"],[1.0,\"#f0f921\"]],\"type\":\"heatmapgl\"}],\"heatmap\":[{\"colorbar\":{\"outlinewidth\":0,\"ticks\":\"\"},\"colorscale\":[[0.0,\"#0d0887\"],[0.1111111111111111,\"#46039f\"],[0.2222222222222222,\"#7201a8\"],[0.3333333333333333,\"#9c179e\"],[0.4444444444444444,\"#bd3786\"],[0.5555555555555556,\"#d8576b\"],[0.6666666666666666,\"#ed7953\"],[0.7777777777777778,\"#fb9f3a\"],[0.8888888888888888,\"#fdca26\"],[1.0,\"#f0f921\"]],\"type\":\"heatmap\"}],\"histogram2dcontour\":[{\"colorbar\":{\"outlinewidth\":0,\"ticks\":\"\"},\"colorscale\":[[0.0,\"#0d0887\"],[0.1111111111111111,\"#46039f\"],[0.2222222222222222,\"#7201a8\"],[0.3333333333333333,\"#9c179e\"],[0.4444444444444444,\"#bd3786\"],[0.5555555555555556,\"#d8576b\"],[0.6666666666666666,\"#ed7953\"],[0.7777777777777778,\"#fb9f3a\"],[0.8888888888888888,\"#fdca26\"],[1.0,\"#f0f921\"]],\"type\":\"histogram2dcontour\"}],\"histogram2d\":[{\"colorbar\":{\"outlinewidth\":0,\"ticks\":\"\"},\"colorscale\":[[0.0,\"#0d0887\"],[0.1111111111111111,\"#46039f\"],[0.2222222222222222,\"#7201a8\"],[0.3333333333333333,\"#9c179e\"],[0.4444444444444444,\"#bd3786\"],[0.5555555555555556,\"#d8576b\"],[0.6666666666666666,\"#ed7953\"],[0.7777777777777778,\"#fb9f3a\"],[0.8888888888888888,\"#fdca26\"],[1.0,\"#f0f921\"]],\"type\":\"histogram2d\"}],\"histogram\":[{\"marker\":{\"pattern\":{\"fillmode\":\"overlay\",\"size\":10,\"solidity\":0.2}},\"type\":\"histogram\"}],\"mesh3d\":[{\"colorbar\":{\"outlinewidth\":0,\"ticks\":\"\"},\"type\":\"mesh3d\"}],\"parcoords\":[{\"line\":{\"colorbar\":{\"outlinewidth\":0,\"ticks\":\"\"}},\"type\":\"parcoords\"}],\"pie\":[{\"automargin\":true,\"type\":\"pie\"}],\"scatter3d\":[{\"line\":{\"colorbar\":{\"outlinewidth\":0,\"ticks\":\"\"}},\"marker\":{\"colorbar\":{\"outlinewidth\":0,\"ticks\":\"\"}},\"type\":\"scatter3d\"}],\"scattercarpet\":[{\"marker\":{\"colorbar\":{\"outlinewidth\":0,\"ticks\":\"\"}},\"type\":\"scattercarpet\"}],\"scattergeo\":[{\"marker\":{\"colorbar\":{\"outlinewidth\":0,\"ticks\":\"\"}},\"type\":\"scattergeo\"}],\"scattergl\":[{\"marker\":{\"colorbar\":{\"outlinewidth\":0,\"ticks\":\"\"}},\"type\":\"scattergl\"}],\"scattermapbox\":[{\"marker\":{\"colorbar\":{\"outlinewidth\":0,\"ticks\":\"\"}},\"type\":\"scattermapbox\"}],\"scatterpolargl\":[{\"marker\":{\"colorbar\":{\"outlinewidth\":0,\"ticks\":\"\"}},\"type\":\"scatterpolargl\"}],\"scatterpolar\":[{\"marker\":{\"colorbar\":{\"outlinewidth\":0,\"ticks\":\"\"}},\"type\":\"scatterpolar\"}],\"scatter\":[{\"marker\":{\"colorbar\":{\"outlinewidth\":0,\"ticks\":\"\"}},\"type\":\"scatter\"}],\"scatterternary\":[{\"marker\":{\"colorbar\":{\"outlinewidth\":0,\"ticks\":\"\"}},\"type\":\"scatterternary\"}],\"surface\":[{\"colorbar\":{\"outlinewidth\":0,\"ticks\":\"\"},\"colorscale\":[[0.0,\"#0d0887\"],[0.1111111111111111,\"#46039f\"],[0.2222222222222222,\"#7201a8\"],[0.3333333333333333,\"#9c179e\"],[0.4444444444444444,\"#bd3786\"],[0.5555555555555556,\"#d8576b\"],[0.6666666666666666,\"#ed7953\"],[0.7777777777777778,\"#fb9f3a\"],[0.8888888888888888,\"#fdca26\"],[1.0,\"#f0f921\"]],\"type\":\"surface\"}],\"table\":[{\"cells\":{\"fill\":{\"color\":\"#EBF0F8\"},\"line\":{\"color\":\"white\"}},\"header\":{\"fill\":{\"color\":\"#C8D4E3\"},\"line\":{\"color\":\"white\"}},\"type\":\"table\"}]},\"layout\":{\"annotationdefaults\":{\"arrowcolor\":\"#2a3f5f\",\"arrowhead\":0,\"arrowwidth\":1},\"autotypenumbers\":\"strict\",\"coloraxis\":{\"colorbar\":{\"outlinewidth\":0,\"ticks\":\"\"}},\"colorscale\":{\"diverging\":[[0,\"#8e0152\"],[0.1,\"#c51b7d\"],[0.2,\"#de77ae\"],[0.3,\"#f1b6da\"],[0.4,\"#fde0ef\"],[0.5,\"#f7f7f7\"],[0.6,\"#e6f5d0\"],[0.7,\"#b8e186\"],[0.8,\"#7fbc41\"],[0.9,\"#4d9221\"],[1,\"#276419\"]],\"sequential\":[[0.0,\"#0d0887\"],[0.1111111111111111,\"#46039f\"],[0.2222222222222222,\"#7201a8\"],[0.3333333333333333,\"#9c179e\"],[0.4444444444444444,\"#bd3786\"],[0.5555555555555556,\"#d8576b\"],[0.6666666666666666,\"#ed7953\"],[0.7777777777777778,\"#fb9f3a\"],[0.8888888888888888,\"#fdca26\"],[1.0,\"#f0f921\"]],\"sequentialminus\":[[0.0,\"#0d0887\"],[0.1111111111111111,\"#46039f\"],[0.2222222222222222,\"#7201a8\"],[0.3333333333333333,\"#9c179e\"],[0.4444444444444444,\"#bd3786\"],[0.5555555555555556,\"#d8576b\"],[0.6666666666666666,\"#ed7953\"],[0.7777777777777778,\"#fb9f3a\"],[0.8888888888888888,\"#fdca26\"],[1.0,\"#f0f921\"]]},\"colorway\":[\"#636efa\",\"#EF553B\",\"#00cc96\",\"#ab63fa\",\"#FFA15A\",\"#19d3f3\",\"#FF6692\",\"#B6E880\",\"#FF97FF\",\"#FECB52\"],\"font\":{\"color\":\"#2a3f5f\"},\"geo\":{\"bgcolor\":\"white\",\"lakecolor\":\"white\",\"landcolor\":\"#E5ECF6\",\"showlakes\":true,\"showland\":true,\"subunitcolor\":\"white\"},\"hoverlabel\":{\"align\":\"left\"},\"hovermode\":\"closest\",\"mapbox\":{\"style\":\"light\"},\"paper_bgcolor\":\"white\",\"plot_bgcolor\":\"#E5ECF6\",\"polar\":{\"angularaxis\":{\"gridcolor\":\"white\",\"linecolor\":\"white\",\"ticks\":\"\"},\"bgcolor\":\"#E5ECF6\",\"radialaxis\":{\"gridcolor\":\"white\",\"linecolor\":\"white\",\"ticks\":\"\"}},\"scene\":{\"xaxis\":{\"backgroundcolor\":\"#E5ECF6\",\"gridcolor\":\"white\",\"gridwidth\":2,\"linecolor\":\"white\",\"showbackground\":true,\"ticks\":\"\",\"zerolinecolor\":\"white\"},\"yaxis\":{\"backgroundcolor\":\"#E5ECF6\",\"gridcolor\":\"white\",\"gridwidth\":2,\"linecolor\":\"white\",\"showbackground\":true,\"ticks\":\"\",\"zerolinecolor\":\"white\"},\"zaxis\":{\"backgroundcolor\":\"#E5ECF6\",\"gridcolor\":\"white\",\"gridwidth\":2,\"linecolor\":\"white\",\"showbackground\":true,\"ticks\":\"\",\"zerolinecolor\":\"white\"}},\"shapedefaults\":{\"line\":{\"color\":\"#2a3f5f\"}},\"ternary\":{\"aaxis\":{\"gridcolor\":\"white\",\"linecolor\":\"white\",\"ticks\":\"\"},\"baxis\":{\"gridcolor\":\"white\",\"linecolor\":\"white\",\"ticks\":\"\"},\"bgcolor\":\"#E5ECF6\",\"caxis\":{\"gridcolor\":\"white\",\"linecolor\":\"white\",\"ticks\":\"\"}},\"title\":{\"x\":0.05},\"xaxis\":{\"automargin\":true,\"gridcolor\":\"white\",\"linecolor\":\"white\",\"ticks\":\"\",\"title\":{\"standoff\":15},\"zerolinecolor\":\"white\",\"zerolinewidth\":2},\"yaxis\":{\"automargin\":true,\"gridcolor\":\"white\",\"linecolor\":\"white\",\"ticks\":\"\",\"title\":{\"standoff\":15},\"zerolinecolor\":\"white\",\"zerolinewidth\":2}}},\"title\":{\"text\":\"Table booking\"},\"width\":600},                        {\"responsive\": true}                    ).then(function(){\n",
              "                            \n",
              "var gd = document.getElementById('06c35e44-7e9f-4e00-9f25-5a4207a85869');\n",
              "var x = new MutationObserver(function (mutations, observer) {{\n",
              "        var display = window.getComputedStyle(gd).display;\n",
              "        if (!display || display === 'none') {{\n",
              "            console.log([gd, 'removed!']);\n",
              "            Plotly.purge(gd);\n",
              "            observer.disconnect();\n",
              "        }}\n",
              "}});\n",
              "\n",
              "// Listen for the removal of the full notebook cells\n",
              "var notebookContainer = gd.closest('#notebook-container');\n",
              "if (notebookContainer) {{\n",
              "    x.observe(notebookContainer, {childList: true});\n",
              "}}\n",
              "\n",
              "// Listen for the clearing of the current output cell\n",
              "var outputEl = gd.closest('.output');\n",
              "if (outputEl) {{\n",
              "    x.observe(outputEl, {childList: true});\n",
              "}}\n",
              "\n",
              "                        })                };                            </script>        </div>\n",
              "</body>\n",
              "</html>"
            ]
          },
          "metadata": {}
        }
      ]
    },
    {
      "cell_type": "markdown",
      "source": [
        "Restraunts deliver online?"
      ],
      "metadata": {
        "id": "wPveRdNJn1ip"
      }
    },
    {
      "cell_type": "code",
      "source": [
        "sns.countplot(df['online_order'])\n",
        "fig=plt.gcf()\n",
        "fig.set_size_inches(10,10)\n",
        "plt.title(\"Whether Restraunts deliver online or Not\")\n",
        "plt.show()\n"
      ],
      "metadata": {
        "colab": {
          "base_uri": "https://localhost:8080/",
          "height": 622
        },
        "id": "Mm_N11jgn-bR",
        "outputId": "de8c1fa6-6969-4fa3-f087-04b43c48623e"
      },
      "execution_count": 26,
      "outputs": [
        {
          "output_type": "display_data",
          "data": {
            "text/plain": [
              "<Figure size 720x720 with 1 Axes>"
            ],
            "image/png": "[encoded data removed]"
          },
          "metadata": {
            "needs_background": "light"
          }
        }
      ]
    },
    {
      "cell_type": "markdown",
      "source": [
        "# Rating Distributions"
      ],
      "metadata": {
        "id": "BzJeODVeo35f"
      }
    },
    {
      "cell_type": "code",
      "source": [
        "#How ratings are distributed\n",
        "plt.figure(figsize=(9,7))\n",
        "sns.distplot(df.rate,bins=20)"
      ],
      "metadata": {
        "colab": {
          "base_uri": "https://localhost:8080/",
          "height": 459
        },
        "id": "i1GFpvh9o-Gb",
        "outputId": "c1f05fbb-457b-4fcb-dc01-9baca572157d"
      },
      "execution_count": 27,
      "outputs": [
        {
          "output_type": "execute_result",
          "data": {
            "text/plain": [
              "<matplotlib.axes._subplots.AxesSubplot at 0x7f425a43d7c0>"
            ]
          },
          "metadata": {},
          "execution_count": 27
        },
        {
          "output_type": "display_data",
          "data": {
            "text/plain": [
              "<Figure size 648x504 with 1 Axes>"
            ],
            "image/png": "[encoded data removed]"
          },
          "metadata": {
            "needs_background": "light"
          }
        }
      ]
    },
    {
      "cell_type": "markdown",
      "source": [
        "**Count ratings between \"1 and 2\", \"2 and 3\",\"3 and 4\" and \"4 and 5\"**"
      ],
      "metadata": {
        "id": "XIvSv65Xqipi"
      }
    },
    {
      "cell_type": "code",
      "source": [
        "slices = [((df.rate >= 1) & (df.rate < 2)).sum(),\n",
        "           ((df.rate >= 2) & (df.rate < 3)).sum(),\n",
        "           ((df.rate >= 3) & (df.rate < 4)).sum(),\n",
        "           (df.rate >= 4).sum()\n",
        "           ]\n",
        "\n",
        "labels=['1<rate<2', '2<rate<3', '3<rate<4', '>4']\n",
        "colors = ['#ff3333', '#c2c2d6', '#6699ff']\n",
        "plt.pie(slices, colors=colors, labels=labels, autopct='%1.0f%%')\n",
        "fig=plt.gcf()\n",
        "plt.title('Percentage of Restraunts according to ratings')\n",
        "\n",
        "fig.set_size_inches(10,10)\n",
        "plt.show()"
      ],
      "metadata": {
        "colab": {
          "base_uri": "https://localhost:8080/",
          "height": 592
        },
        "id": "SYT1lAgXpsz0",
        "outputId": "11d29ffa-3c30-44bb-8091-1dec4449247c"
      },
      "execution_count": 28,
      "outputs": [
        {
          "output_type": "display_data",
          "data": {
            "text/plain": [
              "<Figure size 720x720 with 1 Axes>"
            ],
            "image/png": "[encoded data removed]"
          },
          "metadata": {}
        }
      ]
    },
    {
      "cell_type": "markdown",
      "source": [
        "Service Type"
      ],
      "metadata": {
        "id": "316QFCTBBf0i"
      }
    },
    {
      "cell_type": "code",
      "source": [
        "sns.countplot(df['type']).set_xticklabels(sns.countplot(df['type']).get_xticklabels(), rotation = 90,ha='right')\n",
        "fig=plt.gcf()\n",
        "fig.set_size_inches(12,12)\n",
        "plt.title(\"Service Type\")\n"
      ],
      "metadata": {
        "colab": {
          "base_uri": "https://localhost:8080/",
          "height": 825
        },
        "id": "jOuekCjasoj-",
        "outputId": "acd9cef5-60de-4698-9a8d-01551dfe74b2"
      },
      "execution_count": 29,
      "outputs": [
        {
          "output_type": "execute_result",
          "data": {
            "text/plain": [
              "Text(0.5, 1.0, 'Service Type')"
            ]
          },
          "metadata": {},
          "execution_count": 29
        },
        {
          "output_type": "display_data",
          "data": {
            "text/plain": [
              "<Figure size 864x864 with 1 Axes>"
            ],
            "image/png": "[encoded data removed]"
          },
          "metadata": {
            "needs_background": "light"
          }
        }
      ]
    },
    {
      "cell_type": "markdown",
      "source": [
        "Two main types: Delivery, Dine-out"
      ],
      "metadata": {
        "id": "inC7bV8wCixg"
      }
    },
    {
      "cell_type": "markdown",
      "source": [
        "# Distribution of Cost of Food for two People"
      ],
      "metadata": {
        "id": "gTUChneNCuST"
      }
    },
    {
      "cell_type": "code",
      "source": [
        "from plotly.offline import iplot"
      ],
      "metadata": {
        "id": "sXY9HgMstMgR"
      },
      "execution_count": 30,
      "outputs": []
    },
    {
      "cell_type": "code",
      "source": [
        "trace0 = go.Box(y=df['cost'], name='accepting online orders', marker=dict(color = 'rgb(113,10,100)'))\n",
        "data=[trace0]\n",
        "layout=go.Layout(title='Box plot of approximate cost', width=800,height=800,yaxis=dict(title='Price'))\n",
        "fig = go.Figure(data=data,layout=layout)\n",
        "py.iplot(fig)"
      ],
      "metadata": {
        "colab": {
          "base_uri": "https://localhost:8080/",
          "height": 817
        },
        "id": "aFc2cZF8C_XQ",
        "outputId": "41f8a0c9-a6ea-4b8d-cd9d-5ea0574eb9fb"
      },
      "execution_count": 31,
      "outputs": [
        {
          "output_type": "display_data",
          "data": {
            "text/html": [
              "<html>\n",
              "<head><meta charset=\"utf-8\" /></head>\n",
              "<body>\n",
              "    <div>            <script src=\"https://cdnjs.cloudflare.com/ajax/libs/mathjax/2.7.5/MathJax.js?config=TeX-AMS-MML_SVG\"></script><script type=\"text/javascript\">if (window.MathJax) {MathJax.Hub.Config({SVG: {font: \"STIX-Web\"}});}</script>                <script type=\"text/javascript\">window.PlotlyConfig = {MathJaxConfig: 'local'};</script>\n",
              "        <script src=\"https://cdn.plot.ly/plotly-2.8.3.min.js\"></script>                <div id=\"02832375-22a0-4ddb-9fe4-a4b487590d16\" class=\"plotly-graph-div\" style=\"height:800px; width:800px;\"></div>            <script type=\"text/javascript\">                                    window.PLOTLYENV=window.PLOTLYENV || {};                                    if (document.getElementById(\"02832375-22a0-4ddb-9fe4-a4b487590d16\")) {                    Plotly.newPlot(                        \"02832375-22a0-4ddb-9fe4-a4b487590d16\",                        [{\"marker\":{\"color\":\"rgb(113,10,100)\"},\"name\":\"accepting online orders\",\"y\":[800.0,800.0,800.0,300.0,600.0,600.0,600.0,700.0,550.0,500.0,600.0,500.0,450.0,800.0,650.0,800.0,700.0,300.0,400.0,500.0,600.0,550.0,600.0,500.0,750.0,500.0,650.0,600.0,750.0,200.0,500.0,800.0,600.0,400.0,300.0,450.0,850.0,300.0,400.0,750.0,450.0,450.0,800.0,800.0,800.0,850.0,400.0,1200.0,300.0,300.0,150.0,350.0,400.0,600.0,600.0,800.0,300.0,400.0,300.0,200.0,400.0,300.0,450.0,800.0,500.0,650.0,400.0,500.0,450.0,500.0,750.0,350.0,800.0,400.0,1200.0,150.0,300.0,500.0,450.0,200.0,250.0,650.0,300.0,700.0,150.0,400.0,200.0,300.0,350.0,500.0,750.0,550.0,200.0,400.0,750.0,650.0,500.0,250.0,150.0,500.0,1500.0,300.0,800.0,700.0,700.0,550.0,1300.0,500.0,700.0,1000.0,750.0,250.0,200.0,600.0,650.0,550.0,450.0,450.0,150.0,700.0,600.0,200.0,400.0,300.0,600.0,700.0,750.0,200.0,600.0,200.0,600.0,550.0,200.0,650.0,500.0,1200.0,650.0,600.0,100.0,850.0,400.0,450.0,300.0,500.0,100.0,400.0,900.0,550.0,800.0,250.0,1200.0,400.0,500.0,700.0,400.0,400.0,800.0,800.0,200.0,600.0,900.0,800.0,400.0,400.0,300.0,650.0,600.0,650.0,100.0,700.0,700.0,350.0,300.0,600.0,400.0,600.0,400.0,800.0,400.0,650.0,150.0,1200.0,250.0,400.0,700.0,1200.0,200.0,800.0,500.0,200.0,800.0,600.0,900.0,400.0,250.0,300.0,400.0,350.0,600.0,100.0,450.0,400.0,100.0,150.0,400.0,250.0,100.0,600.0,200.0,750.0,800.0,1000.0,600.0,750.0,800.0,800.0,800.0,450.0,1000.0,700.0,800.0,600.0,1500.0,300.0,300.0,200.0,400.0,700.0,300.0,550.0,750.0,500.0,500.0,500.0,400.0,150.0,150.0,400.0,800.0,700.0,500.0,400.0,400.0,400.0,600.0,300.0,400.0,750.0,1200.0,350.0,600.0,800.0,800.0,800.0,1300.0,1200.0,700.0,800.0,550.0,500.0,600.0,500.0,800.0,450.0,600.0,850.0,450.0,800.0,800.0,650.0,900.0,700.0,800.0,700.0,300.0,300.0,500.0,400.0,700.0,600.0,800.0,600.0,750.0,600.0,150.0,800.0,850.0,800.0,400.0,750.0,650.0,100.0,200.0,450.0,450.0,200.0,500.0,100.0,500.0,100.0,200.0,300.0,500.0,300.0,300.0,600.0,250.0,300.0,350.0,800.0,250.0,350.0,600.0,500.0,300.0,100.0,300.0,300.0,450.0,200.0,200.0,250.0,400.0,250.0,300.0,400.0,350.0,500.0,600.0,150.0,350.0,750.0,550.0,600.0,500.0,150.0,150.0,550.0,1100.0,450.0,300.0,100.0,650.0,600.0,250.0,600.0,400.0,800.0,750.0,600.0,800.0,200.0,300.0,100.0,150.0,100.0,200.0,300.0,700.0,300.0,300.0,450.0,700.0,200.0,250.0,200.0,150.0,300.0,1300.0,1200.0,800.0,800.0,1100.0,900.0,1000.0,750.0,550.0,1600.0,1200.0,800.0,1000.0,1000.0,1000.0,1000.0,950.0,600.0,700.0,450.0,300.0,400.0,400.0,500.0,600.0,700.0,350.0,650.0,600.0,600.0,800.0,550.0,650.0,600.0,400.0,450.0,550.0,700.0,500.0,500.0,800.0,800.0,300.0,400.0,250.0,400.0,300.0,300.0,500.0,400.0,150.0,500.0,300.0,700.0,400.0,400.0,450.0,300.0,250.0,600.0,250.0,400.0,200.0,350.0,300.0,450.0,400.0,350.0,300.0,400.0,1000.0,650.0,550.0,600.0,300.0,750.0,600.0,400.0,300.0,400.0,600.0,800.0,500.0,800.0,800.0,300.0,700.0,400.0,700.0,600.0,300.0,400.0,600.0,300.0,400.0,750.0,650.0,700.0,300.0,500.0,250.0,200.0,550.0,1000.0,900.0,700.0,650.0,500.0,900.0,600.0,1000.0,800.0,250.0,500.0,400.0,450.0,250.0,400.0,300.0,400.0,400.0,400.0,600.0,1200.0,400.0,1000.0,800.0,600.0,700.0,650.0,500.0,300.0,600.0,800.0,600.0,400.0,700.0,300.0,500.0,200.0,400.0,500.0,500.0,600.0,250.0,200.0,300.0,400.0,300.0,600.0,500.0,450.0,1500.0,750.0,600.0,1200.0,300.0,600.0,1000.0,1600.0,400.0,600.0,500.0,500.0,400.0,400.0,600.0,700.0,400.0,500.0,600.0,800.0,600.0,750.0,500.0,300.0,800.0,350.0,1000.0,250.0,400.0,500.0,250.0,400.0,650.0,600.0,800.0,450.0,450.0,600.0,600.0,750.0,350.0,1100.0,600.0,550.0,230.0,250.0,400.0,1000.0,600.0,500.0,1200.0,500.0,300.0,500.0,450.0,800.0,250.0,750.0,300.0,500.0,500.0,100.0,600.0,700.0,500.0,600.0,1200.0,400.0,400.0,500.0,400.0,800.0,300.0,1000.0,350.0,150.0,250.0,500.0,200.0,400.0,400.0,300.0,1300.0,400.0,800.0,600.0,250.0,400.0,150.0,700.0,1100.0,400.0,800.0,600.0,500.0,600.0,400.0,350.0,1300.0,300.0,400.0,400.0,400.0,1100.0,650.0,300.0,250.0,500.0,750.0,650.0,400.0,650.0,700.0,800.0,500.0,600.0,550.0,1000.0,550.0,500.0,700.0,1100.0,500.0,350.0,500.0,450.0,650.0,650.0,1000.0,450.0,800.0,450.0,250.0,800.0,250.0,500.0,300.0,750.0,500.0,500.0,800.0,450.0,250.0,250.0,1700.0,200.0,600.0,400.0,150.0,150.0,900.0,600.0,1200.0,1200.0,1200.0,550.0,400.0,600.0,500.0,700.0,350.0,400.0,250.0,500.0,1000.0,200.0,500.0,600.0,500.0,750.0,500.0,400.0,800.0,800.0,500.0,400.0,200.0,500.0,400.0,150.0,400.0,400.0,250.0,450.0,350.0,400.0,300.0,500.0,400.0,400.0,800.0,700.0,500.0,200.0,700.0,600.0,300.0,500.0,500.0,550.0,500.0,400.0,600.0,800.0,500.0,550.0,1000.0,800.0,700.0,800.0,700.0,650.0,1000.0,700.0,700.0,800.0,400.0,450.0,800.0,300.0,400.0,900.0,500.0,500.0,600.0,550.0,400.0,500.0,500.0,850.0,450.0,700.0,400.0,400.0,600.0,500.0,450.0,1000.0,600.0,650.0,600.0,800.0,500.0,800.0,750.0,500.0,400.0,250.0,300.0,1000.0,250.0,800.0,400.0,400.0,500.0,400.0,400.0,600.0,500.0,600.0,800.0,400.0,400.0,600.0,400.0,150.0,300.0,400.0,250.0,400.0,350.0,400.0,600.0,600.0,400.0,500.0,300.0,500.0,200.0,250.0,750.0,600.0,200.0,650.0,250.0,1100.0,350.0,400.0,250.0,250.0,300.0,400.0,600.0,300.0,800.0,250.0,1200.0,1600.0,1200.0,1600.0,1500.0,1300.0,1200.0,800.0,1300.0,1000.0,400.0,1200.0,750.0,1100.0,700.0,1200.0,550.0,1300.0,1000.0,1100.0,1200.0,1300.0,600.0,1000.0,750.0,1000.0,500.0,600.0,700.0,750.0,700.0,300.0,500.0,350.0,400.0,950.0,400.0,450.0,800.0,450.0,550.0,600.0,600.0,500.0,400.0,1000.0,1100.0,400.0,1000.0,500.0,450.0,950.0,600.0,600.0,550.0,450.0,750.0,750.0,800.0,800.0,650.0,700.0,400.0,300.0,200.0,600.0,350.0,800.0,300.0,1500.0,500.0,600.0,500.0,400.0,600.0,550.0,300.0,250.0,400.0,300.0,500.0,400.0,500.0,400.0,300.0,650.0,250.0,900.0,1200.0,1700.0,800.0,1200.0,1600.0,1300.0,1200.0,1200.0,1300.0,1100.0,1100.0,1500.0,1000.0,600.0,600.0,950.0,1500.0,750.0,800.0,800.0,1000.0,550.0,1350.0,1200.0,800.0,800.0,600.0,700.0,550.0,600.0,500.0,600.0,400.0,800.0,500.0,400.0,800.0,800.0,850.0,700.0,600.0,800.0,700.0,400.0,550.0,650.0,700.0,800.0,650.0,700.0,400.0,150.0,650.0,550.0,650.0,450.0,400.0,500.0,450.0,500.0,400.0,750.0,450.0,500.0,200.0,450.0,300.0,800.0,250.0,650.0,600.0,200.0,500.0,200.0,800.0,400.0,300.0,550.0,400.0,150.0,300.0,300.0,100.0,300.0,800.0,750.0,500.0,300.0,500.0,600.0,400.0,400.0,650.0,100.0,200.0,500.0,400.0,800.0,750.0,600.0,750.0,650.0,200.0,250.0,500.0,350.0,500.0,650.0,600.0,1200.0,100.0,250.0,200.0,400.0,400.0,550.0,400.0,400.0,400.0,600.0,800.0,200.0,350.0,250.0,1200.0,800.0,200.0,900.0,400.0,900.0,800.0,150.0,200.0,150.0,300.0,1600.0,500.0,650.0,800.0,500.0,300.0,500.0,350.0,300.0,250.0,500.0,500.0,200.0,500.0,800.0,1200.0,800.0,500.0,500.0,400.0,400.0,600.0,350.0,250.0,200.0,200.0,1000.0,800.0,500.0,800.0,400.0,800.0,450.0,700.0,700.0,800.0,300.0,300.0,250.0,150.0,650.0,600.0,700.0,700.0,400.0,600.0,450.0,400.0,300.0,1000.0,300.0,600.0,600.0,400.0,600.0,150.0,300.0,1300.0,200.0,800.0,600.0,1200.0,600.0,700.0,800.0,100.0,200.0,900.0,100.0,700.0,300.0,350.0,450.0,400.0,800.0,400.0,700.0,300.0,1500.0,800.0,600.0,1000.0,700.0,450.0,400.0,400.0,600.0,400.0,300.0,900.0,800.0,650.0,650.0,1200.0,300.0,200.0,200.0,750.0,400.0,650.0,500.0,400.0,100.0,400.0,450.0,900.0,400.0,1100.0,400.0,350.0,400.0,500.0,400.0,700.0,750.0,550.0,650.0,200.0,300.0,550.0,300.0,1000.0,700.0,900.0,600.0,1000.0,500.0,250.0,750.0,400.0,700.0,800.0,300.0,750.0,600.0,500.0,200.0,600.0,1200.0,600.0,1200.0,800.0,1000.0,150.0,800.0,800.0,500.0,450.0,1700.0,400.0,400.0,300.0,450.0,100.0,400.0,150.0,700.0,800.0,800.0,1200.0,750.0,100.0,400.0,900.0,700.0,150.0,1500.0,1200.0,400.0,300.0,800.0,900.0,200.0,1000.0,600.0,1000.0,300.0,1000.0,100.0,800.0,700.0,800.0,650.0,1350.0,550.0,600.0,950.0,650.0,600.0,400.0,1350.0,300.0,850.0,1200.0,1000.0,550.0,200.0,600.0,600.0,650.0,1200.0,1000.0,800.0,300.0,200.0,600.0,1200.0,800.0,400.0,800.0,800.0,450.0,200.0,800.0,300.0,350.0,150.0,550.0,400.0,300.0,400.0,400.0,500.0,400.0,750.0,500.0,150.0,400.0,400.0,400.0,400.0,300.0,600.0,400.0,500.0,400.0,400.0,800.0,400.0,200.0,200.0,150.0,800.0,250.0,150.0,400.0,200.0,400.0,500.0,350.0,500.0,700.0,500.0,400.0,400.0,800.0,300.0,400.0,150.0,700.0,300.0,200.0,400.0,400.0,300.0,500.0,1000.0,750.0,600.0,350.0,600.0,1000.0,750.0,700.0,500.0,550.0,1100.0,550.0,600.0,450.0,650.0,800.0,600.0,2200.0,500.0,600.0,600.0,400.0,800.0,650.0,400.0,450.0,600.0,700.0,600.0,300.0,250.0,150.0,100.0,150.0,400.0,150.0,500.0,100.0,400.0,300.0,500.0,250.0,100.0,200.0,100.0,600.0,200.0,300.0,300.0,400.0,150.0,250.0,200.0,500.0,300.0,100.0,750.0,400.0,300.0,500.0,150.0,150.0,200.0,600.0,200.0,200.0,300.0,150.0,600.0,600.0,1000.0,600.0,1200.0,950.0,800.0,1500.0,1000.0,800.0,700.0,1300.0,350.0,800.0,700.0,500.0,1000.0,1500.0,400.0,350.0,750.0,800.0,900.0,600.0,750.0,800.0,1200.0,800.0,800.0,1200.0,600.0,650.0,800.0,800.0,400.0,1200.0,250.0,800.0,450.0,700.0,1200.0,850.0,700.0,1300.0,600.0,800.0,650.0,700.0,400.0,550.0,1000.0,600.0,650.0,900.0,400.0,800.0,800.0,200.0,700.0,350.0,900.0,800.0,800.0,750.0,1200.0,800.0,700.0,450.0,150.0,650.0,500.0,550.0,1350.0,450.0,800.0,600.0,400.0,200.0,100.0,400.0,700.0,750.0,1000.0,400.0,900.0,500.0,100.0,400.0,400.0,1000.0,550.0,550.0,500.0,300.0,700.0,500.0,100.0,1000.0,400.0,1350.0,650.0,250.0,250.0,250.0,300.0,400.0,350.0,250.0,1200.0,650.0,450.0,150.0,450.0,700.0,800.0,300.0,250.0,400.0,200.0,350.0,500.0,150.0,600.0,350.0,100.0,300.0,650.0,800.0,850.0,250.0,300.0,300.0,800.0,300.0,400.0,850.0,1000.0,1100.0,2200.0,1500.0,1200.0,1200.0,1300.0,1350.0,1000.0,800.0,1500.0,1400.0,2000.0,1000.0,1400.0,1800.0,1200.0,1500.0,1500.0,1100.0,1500.0,1000.0,700.0,800.0,2000.0,1500.0,1400.0,1300.0,1600.0,1300.0,1000.0,1500.0,1100.0,1500.0,1300.0,500.0,700.0,1900.0,400.0,600.0,900.0,600.0,500.0,550.0,1000.0,500.0,600.0,800.0,700.0,500.0,400.0,650.0,500.0,450.0,200.0,450.0,400.0,400.0,400.0,300.0,300.0,400.0,500.0,300.0,400.0,200.0,600.0,700.0,600.0,500.0,800.0,900.0,750.0,550.0,400.0,400.0,800.0,400.0,400.0,300.0,300.0,550.0,600.0,250.0,600.0,300.0,400.0,300.0,600.0,750.0,650.0,750.0,450.0,450.0,600.0,400.0,950.0,400.0,650.0,400.0,500.0,200.0,450.0,400.0,500.0,600.0,800.0,500.0,450.0,300.0,800.0,600.0,600.0,1200.0,800.0,500.0,150.0,500.0,1500.0,1400.0,300.0,600.0,600.0,1200.0,500.0,800.0,400.0,800.0,1300.0,1600.0,700.0,1800.0,500.0,300.0,400.0,400.0,800.0,1100.0,400.0,600.0,600.0,1500.0,800.0,750.0,600.0,350.0,300.0,550.0,900.0,300.0,400.0,250.0,100.0,1500.0,800.0,600.0,500.0,1800.0,1000.0,500.0,250.0,400.0,850.0,500.0,1800.0,500.0,450.0,1200.0,600.0,700.0,1000.0,200.0,600.0,400.0,1100.0,500.0,900.0,150.0,250.0,1500.0,200.0,450.0,1000.0,450.0,1000.0,500.0,250.0,500.0,450.0,750.0,800.0,750.0,500.0,1400.0,600.0,600.0,300.0,500.0,200.0,500.0,400.0,250.0,900.0,1000.0,200.0,700.0,500.0,1200.0,600.0,200.0,400.0,1100.0,350.0,400.0,350.0,1200.0,450.0,600.0,600.0,1500.0,1700.0,400.0,250.0,400.0,600.0,1200.0,800.0,1400.0,650.0,180.0,400.0,650.0,300.0,300.0,400.0,1400.0,200.0,300.0,800.0,800.0,150.0,1700.0,500.0,500.0,1000.0,300.0,500.0,1300.0,1300.0,750.0,600.0,200.0,400.0,750.0,600.0,750.0,400.0,400.0,700.0,600.0,800.0,1500.0,500.0,330.0,250.0,550.0,600.0,1400.0,800.0,600.0,800.0,550.0,200.0,500.0,700.0,700.0,300.0,500.0,500.0,500.0,450.0,400.0,800.0,500.0,800.0,400.0,550.0,550.0,150.0,450.0,500.0,650.0,300.0,750.0,1500.0,600.0,300.0,300.0,100.0,150.0,400.0,1000.0,600.0,700.0,250.0,800.0,300.0,600.0,500.0,300.0,400.0,500.0,200.0,500.0,400.0,250.0,600.0,500.0,600.0,600.0,900.0,300.0,600.0,500.0,400.0,750.0,150.0,700.0,300.0,300.0,350.0,500.0,2000.0,1500.0,1100.0,1000.0,1800.0,1700.0,1800.0,1400.0,750.0,1200.0,800.0,1800.0,1200.0,950.0,600.0,400.0,700.0,600.0,750.0,1500.0,500.0,1500.0,1200.0,400.0,600.0,900.0,400.0,800.0,500.0,650.0,500.0,1500.0,800.0,1600.0,1400.0,600.0,500.0,800.0,550.0,500.0,1000.0,400.0,600.0,800.0,900.0,700.0,400.0,500.0,450.0,800.0,550.0,550.0,750.0,2000.0,400.0,550.0,1000.0,800.0,450.0,300.0,500.0,300.0,400.0,250.0,500.0,600.0,300.0,400.0,200.0,500.0,450.0,250.0,350.0,200.0,330.0,200.0,400.0,600.0,250.0,200.0,500.0,400.0,800.0,400.0,450.0,400.0,1500.0,1600.0,1400.0,1400.0,1500.0,1900.0,1300.0,1500.0,1500.0,1600.0,1400.0,1300.0,1000.0,1500.0,1400.0,1100.0,1500.0,1300.0,2000.0,2000.0,2500.0,600.0,700.0,700.0,800.0,500.0,500.0,850.0,800.0,1200.0,900.0,800.0,1000.0,550.0,800.0,300.0,750.0,600.0,600.0,150.0,700.0,400.0,500.0,700.0,150.0,600.0,600.0,250.0,2500.0,500.0,250.0,300.0,200.0,1900.0,400.0,550.0,250.0,600.0,400.0,400.0,400.0,500.0,300.0,800.0,300.0,1300.0,1600.0,1400.0,1000.0,1700.0,1500.0,1500.0,1400.0,2000.0,1600.0,1400.0,1500.0,1900.0,1500.0,1900.0,1500.0,1200.0,2500.0,1600.0,1400.0,1400.0,1700.0,1800.0,1500.0,1100.0,1500.0,1400.0,1400.0,1500.0,1900.0,1500.0,1500.0,1500.0,1200.0,1500.0,1200.0,1500.0,800.0,650.0,1000.0,1800.0,2200.0,2100.0,3000.0,1200.0,2800.0,1700.0,1400.0,1600.0,2500.0,750.0,3000.0,1500.0,500.0,1000.0,1500.0,3400.0,2000.0,1200.0,1700.0,1200.0,1600.0,2000.0,1300.0,2200.0,1300.0,1600.0,3000.0,1000.0,1200.0,1000.0,1400.0,1900.0,800.0,1000.0,500.0,1200.0,650.0,1300.0,1700.0,1800.0,1600.0,1100.0,750.0,1200.0,500.0,650.0,800.0,350.0,1100.0,800.0,900.0,1700.0,1000.0,600.0,600.0,2500.0,650.0,1400.0,750.0,400.0,900.0,700.0,700.0,500.0,700.0,800.0,800.0,750.0,650.0,750.0,500.0,1000.0,1000.0,400.0,1200.0,500.0,500.0,600.0,800.0,1000.0,500.0,600.0,700.0,900.0,1300.0,750.0,1000.0,750.0,300.0,300.0,300.0,500.0,450.0,150.0,600.0,800.0,550.0,350.0,250.0,500.0,500.0,350.0,500.0,650.0,500.0,600.0,650.0,400.0,250.0,750.0,200.0,750.0,400.0,1200.0,400.0,200.0,750.0,400.0,450.0,400.0,800.0,250.0,800.0,500.0,750.0,400.0,650.0,400.0,750.0,650.0,1300.0,1600.0,1200.0,1200.0,500.0,300.0,600.0,450.0,750.0,1300.0,600.0,350.0,600.0,500.0,500.0,700.0,1500.0,400.0,400.0,800.0,900.0,400.0,400.0,1600.0,800.0,300.0,400.0,1300.0,350.0,400.0,500.0,900.0,1600.0,250.0,1100.0,400.0,700.0,700.0,650.0,700.0,700.0,500.0,300.0,400.0,300.0,400.0,100.0,400.0,250.0,350.0,800.0,400.0,600.0,3000.0,700.0,500.0,700.0,1500.0,450.0,700.0,300.0,400.0,500.0,500.0,800.0,40.0,180.0,300.0,150.0,750.0,400.0,500.0,200.0,750.0,150.0,1300.0,1300.0,600.0,150.0,850.0,500.0,1000.0,1000.0,700.0,700.0,1000.0,300.0,800.0,950.0,300.0,900.0,800.0,500.0,1000.0,500.0,300.0,1400.0,1300.0,1500.0,500.0,550.0,600.0,750.0,550.0,2000.0,550.0,1000.0,700.0,600.0,250.0,1400.0,1500.0,200.0,700.0,400.0,400.0,600.0,400.0,200.0,450.0,450.0,500.0,500.0,500.0,1000.0,700.0,300.0,700.0,350.0,450.0,250.0,200.0,400.0,400.0,2000.0,400.0,400.0,700.0,600.0,750.0,700.0,300.0,700.0,1200.0,400.0,800.0,200.0,600.0,1000.0,500.0,700.0,1500.0,600.0,550.0,300.0,500.0,650.0,800.0,650.0,500.0,500.0,650.0,2000.0,300.0,600.0,750.0,650.0,1000.0,700.0,200.0,800.0,800.0,300.0,700.0,600.0,550.0,1000.0,1500.0,150.0,400.0,500.0,1200.0,700.0,750.0,1200.0,800.0,900.0,650.0,800.0,1700.0,1700.0,800.0,1900.0,1300.0,300.0,2100.0,600.0,1000.0,1700.0,2100.0,1500.0,500.0,1700.0,1100.0,1400.0,650.0,800.0,450.0,1000.0,600.0,600.0,700.0,1000.0,2000.0,750.0,1000.0,1400.0,1500.0,1200.0,850.0,1500.0,850.0,1000.0,600.0,1200.0,300.0,1000.0,1400.0,1400.0,1800.0,400.0,1400.0,350.0,800.0,300.0,1800.0,500.0,1300.0,800.0,2100.0,400.0,550.0,800.0,1000.0,300.0,800.0,550.0,600.0,1000.0,500.0,1300.0,1000.0,1200.0,1300.0,300.0,550.0,250.0,500.0,700.0,1200.0,1000.0,1200.0,1000.0,1500.0,550.0,800.0,900.0,1700.0,1400.0,550.0,400.0,750.0,400.0,900.0,500.0,800.0,500.0,800.0,400.0,800.0,150.0,750.0,600.0,1200.0,500.0,400.0,500.0,800.0,1100.0,500.0,150.0,300.0,350.0,100.0,300.0,250.0,300.0,550.0,500.0,600.0,1600.0,1800.0,1600.0,550.0,400.0,450.0,250.0,450.0,180.0,400.0,200.0,300.0,800.0,800.0,2000.0,1000.0,600.0,400.0,1250.0,1400.0,300.0,150.0,700.0,700.0,500.0,300.0,400.0,400.0,2000.0,700.0,1000.0,500.0,400.0,300.0,350.0,400.0,300.0,800.0,400.0,400.0,300.0,150.0,900.0,150.0,250.0,400.0,400.0,150.0,300.0,300.0,500.0,350.0,600.0,900.0,1300.0,200.0,750.0,300.0,700.0,1300.0,1100.0,2000.0,1500.0,1500.0,2000.0,750.0,1500.0,1500.0,1600.0,1500.0,1200.0,800.0,1100.0,1100.0,2000.0,500.0,750.0,1500.0,800.0,700.0,650.0,650.0,350.0,400.0,650.0,700.0,500.0,1300.0,1000.0,600.0,500.0,500.0,800.0,800.0,550.0,450.0,250.0,300.0,400.0,600.0,500.0,300.0,450.0,600.0,1700.0,1500.0,1800.0,1500.0,1500.0,2500.0,3000.0,2200.0,3000.0,800.0,2800.0,550.0,1100.0,2100.0,1500.0,3000.0,2500.0,3500.0,1700.0,1700.0,1500.0,1200.0,1200.0,1300.0,1500.0,1300.0,2800.0,2100.0,1200.0,800.0,1600.0,1700.0,1600.0,3000.0,1000.0,1500.0,800.0,2000.0,1500.0,700.0,1500.0,2500.0,1000.0,2100.0,1900.0,1700.0,2000.0,2200.0,1400.0,1500.0,600.0,800.0,900.0,1200.0,1700.0,2500.0,1600.0,1300.0,1400.0,1000.0,1000.0,600.0,2500.0,1400.0,200.0,1500.0,4000.0,550.0,3000.0,1500.0,3000.0,500.0,1000.0,1100.0,650.0,1200.0,2500.0,1500.0,2000.0,1500.0,1000.0,1400.0,1500.0,1100.0,600.0,1300.0,1000.0,1300.0,650.0,850.0,750.0,1800.0,500.0,1800.0,1000.0,1000.0,1200.0,3400.0,750.0,1800.0,2000.0,3000.0,1000.0,1400.0,3500.0,400.0,900.0,1200.0,800.0,1500.0,1200.0,4000.0,500.0,700.0,1300.0,4000.0,1200.0,1000.0,1200.0,1000.0,700.0,1700.0,2000.0,1200.0,1600.0,800.0,2000.0,3000.0,2000.0,2000.0,3500.0,1200.0,1000.0,700.0,1300.0,800.0,1000.0,500.0,750.0,800.0,1800.0,800.0,2800.0,800.0,1000.0,500.0,3000.0,750.0,800.0,2000.0,2200.0,650.0,1800.0,950.0,750.0,3000.0,1000.0,1500.0,500.0,400.0,550.0,1000.0,600.0,700.0,2000.0,550.0,1200.0,1000.0,300.0,1300.0,500.0,1000.0,500.0,1600.0,500.0,3000.0,1000.0,450.0,1000.0,400.0,650.0,550.0,1200.0,1200.0,1000.0,1000.0,2000.0,1500.0,400.0,300.0,1200.0,3000.0,500.0,500.0,1800.0,2500.0,800.0,2500.0,700.0,1400.0,600.0,600.0,800.0,550.0,850.0,2400.0,500.0,1400.0,1900.0,800.0,1000.0,1200.0,1500.0,250.0,600.0,700.0,500.0,3000.0,500.0,800.0,600.0,800.0,1200.0,550.0,800.0,800.0,1200.0,800.0,600.0,350.0,2000.0,700.0,600.0,2500.0,900.0,600.0,1000.0,600.0,400.0,250.0,700.0,400.0,300.0,500.0,200.0,150.0,150.0,150.0,500.0,300.0,500.0,300.0,300.0,150.0,300.0,250.0,500.0,150.0,300.0,400.0,250.0,350.0,800.0,200.0,400.0,350.0,400.0,500.0,500.0,200.0,400.0,500.0,350.0,250.0,400.0,500.0,250.0,300.0,300.0,300.0,300.0,100.0,500.0,1300.0,1100.0,1300.0,750.0,1300.0,1700.0,600.0,1000.0,750.0,550.0,850.0,200.0,700.0,700.0,750.0,1800.0,1600.0,400.0,300.0,150.0,400.0,400.0,1100.0,600.0,300.0,1300.0,2000.0,1200.0,2000.0,1500.0,1500.0,1500.0,1600.0,1100.0,1100.0,2000.0,1500.0,1700.0,1500.0,2500.0,3000.0,3000.0,1500.0,2500.0,1700.0,1700.0,1200.0,1300.0,1300.0,1700.0,1500.0,2000.0,1500.0,2500.0,1900.0,1300.0,1000.0,3000.0,1100.0,1200.0,1000.0,1400.0,1100.0,1000.0,1000.0,1200.0,1200.0,1500.0,1000.0,2000.0,1200.0,2800.0,3000.0,1500.0,600.0,1000.0,1000.0,1000.0,2000.0,1500.0,3000.0,1200.0,2500.0,2400.0,1400.0,1200.0,1500.0,1300.0,1300.0,800.0,700.0,350.0,150.0,200.0,200.0,400.0,500.0,250.0,1200.0,1300.0,2100.0,1700.0,1500.0,2500.0,1900.0,1700.0,1000.0,1000.0,1100.0,1200.0,1000.0,1400.0,1100.0,1300.0,1000.0,1000.0,1000.0,1200.0,1500.0,4000.0,1200.0,1000.0,1700.0,2000.0,2000.0,3500.0,1200.0,1300.0,1800.0,1000.0,1800.0,1500.0,600.0,1000.0,1000.0,1200.0,1000.0,3000.0,1200.0,1800.0,1400.0,1200.0,1500.0,800.0,1300.0,600.0,700.0,750.0,1600.0,1400.0,1100.0,1000.0,1800.0,1700.0,1500.0,1200.0,2500.0,1000.0,1500.0,2000.0,800.0,1500.0,2000.0,1900.0,1200.0,1200.0,1200.0,600.0,1100.0,400.0,600.0,300.0,600.0,500.0,500.0,650.0,900.0,600.0,900.0,1400.0,2000.0,1000.0,700.0,600.0,300.0,400.0,700.0,400.0,700.0,600.0,450.0,450.0,250.0,500.0,400.0,400.0,700.0,300.0,850.0,500.0,500.0,650.0,600.0,400.0,400.0,500.0,400.0,600.0,800.0,400.0,300.0,450.0,1000.0,800.0,800.0,500.0,500.0,300.0,350.0,500.0,400.0,400.0,300.0,300.0,700.0,150.0,600.0,500.0,250.0,650.0,250.0,750.0,800.0,500.0,350.0,500.0,500.0,400.0,500.0,350.0,400.0,1400.0,700.0,300.0,600.0,450.0,600.0,600.0,300.0,300.0,550.0,750.0,300.0,800.0,400.0,200.0,300.0,500.0,450.0,450.0,400.0,200.0,400.0,800.0,600.0,400.0,300.0,400.0,650.0,450.0,400.0,400.0,750.0,650.0,150.0,800.0,200.0,300.0,450.0,600.0,350.0,400.0,300.0,550.0,1400.0,300.0,300.0,1300.0,250.0,500.0,800.0,600.0,400.0,600.0,750.0,1000.0,600.0,1000.0,300.0,300.0,400.0,400.0,700.0,700.0,700.0,400.0,650.0,1400.0,900.0,350.0,750.0,900.0,400.0,750.0,900.0,500.0,600.0,500.0,750.0,800.0,600.0,300.0,1500.0,450.0,800.0,550.0,500.0,400.0,550.0,700.0,1000.0,450.0,250.0,500.0,2000.0,1000.0,1200.0,300.0,600.0,600.0,400.0,800.0,700.0,900.0,1000.0,350.0,800.0,300.0,2000.0,450.0,350.0,200.0,250.0,400.0,550.0,1100.0,250.0,400.0,1500.0,800.0,400.0,600.0,1500.0,500.0,800.0,1500.0,200.0,400.0,300.0,600.0,600.0,200.0,1100.0,500.0,600.0,300.0,800.0,900.0,1500.0,800.0,600.0,1100.0,200.0,200.0,350.0,500.0,400.0,450.0,1200.0,1000.0,700.0,700.0,650.0,500.0,300.0,600.0,400.0,400.0,350.0,1100.0,400.0,250.0,800.0,750.0,400.0,450.0,300.0,300.0,600.0,650.0,600.0,800.0,700.0,250.0,500.0,1000.0,350.0,700.0,200.0,400.0,350.0,500.0,800.0,2000.0,350.0,600.0,700.0,800.0,300.0,550.0,400.0,550.0,400.0,750.0,150.0,700.0,300.0,600.0,600.0,500.0,1000.0,250.0,1000.0,1100.0,300.0,1200.0,500.0,600.0,450.0,300.0,400.0,800.0,400.0,800.0,500.0,300.0,300.0,800.0,200.0,800.0,900.0,600.0,1600.0,800.0,650.0,750.0,500.0,750.0,750.0,500.0,500.0,350.0,1000.0,1200.0,550.0,200.0,750.0,900.0,400.0,700.0,550.0,500.0,500.0,700.0,200.0,200.0,250.0,800.0,1000.0,600.0,1500.0,150.0,750.0,150.0,500.0,450.0,400.0,300.0,900.0,1000.0,500.0,850.0,800.0,500.0,250.0,400.0,1000.0,1000.0,1100.0,700.0,1700.0,400.0,300.0,600.0,500.0,400.0,400.0,450.0,400.0,550.0,900.0,400.0,500.0,300.0,1000.0,200.0,600.0,400.0,350.0,250.0,400.0,450.0,1200.0,800.0,1000.0,600.0,700.0,600.0,300.0,750.0,1500.0,600.0,600.0,800.0,800.0,800.0,700.0,750.0,750.0,550.0,400.0,250.0,500.0,500.0,850.0,500.0,600.0,400.0,650.0,750.0,550.0,350.0,500.0,800.0,450.0,500.0,900.0,750.0,800.0,600.0,500.0,400.0,300.0,450.0,600.0,500.0,200.0,900.0,200.0,450.0,450.0,200.0,450.0,250.0,500.0,400.0,350.0,450.0,300.0,550.0,350.0,800.0,650.0,150.0,150.0,500.0,250.0,300.0,300.0,2400.0,2500.0,1600.0,1400.0,1700.0,1100.0,1000.0,1800.0,1300.0,1700.0,800.0,800.0,800.0,1500.0,800.0,900.0,700.0,1200.0,2500.0,500.0,850.0,900.0,700.0,1000.0,850.0,700.0,1500.0,1000.0,1400.0,1450.0,1400.0,800.0,3000.0,700.0,2000.0,1000.0,1000.0,450.0,1000.0,900.0,900.0,1500.0,800.0,2000.0,750.0,400.0,800.0,250.0,200.0,800.0,600.0,1000.0,1000.0,600.0,700.0,1100.0,800.0,150.0,700.0,300.0,200.0,1000.0,800.0,350.0,250.0,500.0,400.0,300.0,500.0,1500.0,300.0,2000.0,1000.0,750.0,300.0,350.0,600.0,400.0,600.0,600.0,300.0,250.0,1900.0,600.0,3000.0,1200.0,350.0,450.0,500.0,350.0,800.0,400.0,750.0,700.0,200.0,400.0,500.0,300.0,1200.0,1000.0,1000.0,700.0,700.0,650.0,1200.0,400.0,300.0,400.0,500.0,400.0,300.0,600.0,600.0,700.0,350.0,400.0,500.0,300.0,200.0,450.0,400.0,300.0,650.0,500.0,250.0,700.0,350.0,600.0,700.0,400.0,700.0,250.0,300.0,1100.0,300.0,600.0,1000.0,500.0,1200.0,1500.0,2400.0,2500.0,1000.0,1450.0,2000.0,1200.0,1600.0,1300.0,1600.0,1100.0,800.0,600.0,1100.0,1400.0,2000.0,1500.0,1200.0,900.0,1600.0,1300.0,1500.0,1300.0,1000.0,1500.0,1500.0,1500.0,1500.0,600.0,1100.0,750.0,700.0,1400.0,800.0,1000.0,900.0,2000.0,900.0,1000.0,400.0,950.0,1000.0,900.0,500.0,700.0,500.0,200.0,600.0,650.0,600.0,400.0,500.0,650.0,700.0,500.0,200.0,600.0,900.0,800.0,1300.0,600.0,600.0,800.0,900.0,500.0,800.0,900.0,800.0,550.0,800.0,900.0,600.0,1000.0,900.0,500.0,700.0,600.0,800.0,1200.0,600.0,1200.0,650.0,1000.0,600.0,900.0,600.0,450.0,750.0,650.0,600.0,400.0,600.0,500.0,700.0,400.0,350.0,700.0,700.0,300.0,400.0,800.0,600.0,400.0,400.0,500.0,500.0,500.0,450.0,450.0,300.0,400.0,400.0,200.0,400.0,400.0,250.0,300.0,200.0,250.0,600.0,600.0,100.0,250.0,400.0,500.0,150.0,500.0,400.0,450.0,550.0,400.0,400.0,650.0,600.0,250.0,150.0,600.0,400.0,600.0,250.0,250.0,400.0,600.0,600.0,200.0,200.0,300.0,250.0,400.0,300.0,400.0,300.0,250.0,300.0,600.0,350.0,300.0,400.0,400.0,800.0,300.0,500.0,500.0,350.0,400.0,300.0,500.0,600.0,400.0,500.0,350.0,300.0,400.0,500.0,800.0,800.0,700.0,500.0,650.0,300.0,300.0,450.0,600.0,600.0,250.0,750.0,650.0,550.0,500.0,400.0,100.0,400.0,800.0,500.0,600.0,200.0,400.0,600.0,1000.0,200.0,200.0,250.0,700.0,400.0,450.0,800.0,300.0,500.0,100.0,450.0,300.0,450.0,500.0,400.0,400.0,550.0,700.0,400.0,400.0,600.0,550.0,200.0,300.0,400.0,300.0,200.0,650.0,200.0,500.0,500.0,300.0,400.0,800.0,200.0,400.0,800.0,400.0,800.0,450.0,400.0,200.0,600.0,750.0,300.0,400.0,600.0,600.0,300.0,250.0,300.0,800.0,250.0,500.0,200.0,1200.0,300.0,100.0,400.0,400.0,350.0,400.0,700.0,350.0,1200.0,1000.0,300.0,1500.0,300.0,600.0,500.0,400.0,600.0,600.0,300.0,150.0,800.0,350.0,200.0,700.0,150.0,600.0,600.0,600.0,400.0,700.0,500.0,700.0,500.0,100.0,600.0,500.0,800.0,700.0,500.0,400.0,800.0,400.0,400.0,800.0,750.0,600.0,500.0,250.0,900.0,200.0,850.0,400.0,400.0,400.0,300.0,850.0,150.0,800.0,700.0,250.0,750.0,600.0,1000.0,300.0,600.0,500.0,400.0,600.0,500.0,500.0,500.0,700.0,200.0,200.0,600.0,400.0,500.0,800.0,200.0,250.0,150.0,300.0,500.0,900.0,1000.0,700.0,300.0,450.0,800.0,500.0,1000.0,1200.0,450.0,230.0,500.0,500.0,300.0,700.0,500.0,400.0,400.0,500.0,400.0,400.0,300.0,650.0,300.0,300.0,250.0,500.0,400.0,600.0,600.0,300.0,150.0,300.0,500.0,300.0,250.0,400.0,600.0,700.0,550.0,400.0,800.0,900.0,300.0,700.0,950.0,500.0,200.0,1200.0,900.0,150.0,800.0,300.0,750.0,400.0,350.0,200.0,400.0,800.0,600.0,450.0,500.0,500.0,500.0,400.0,300.0,1500.0,500.0,550.0,900.0,500.0,900.0,400.0,550.0,400.0,1300.0,300.0,400.0,300.0,400.0,400.0,700.0,1000.0,600.0,800.0,400.0,300.0,600.0,600.0,150.0,750.0,550.0,250.0,300.0,750.0,650.0,500.0,400.0,450.0,400.0,400.0,600.0,500.0,650.0,800.0,800.0,600.0,650.0,700.0,400.0,600.0,450.0,250.0,1200.0,1000.0,150.0,700.0,400.0,800.0,500.0,800.0,1100.0,1300.0,700.0,600.0,500.0,600.0,1200.0,500.0,400.0,600.0,1500.0,600.0,300.0,550.0,500.0,1000.0,600.0,500.0,1100.0,1000.0,300.0,500.0,1000.0,400.0,650.0,300.0,400.0,500.0,1200.0,300.0,500.0,800.0,250.0,500.0,800.0,450.0,600.0,400.0,500.0,350.0,250.0,600.0,200.0,550.0,600.0,450.0,400.0,750.0,750.0,400.0,600.0,700.0,500.0,450.0,400.0,550.0,300.0,750.0,1600.0,600.0,600.0,1000.0,800.0,1600.0,500.0,1000.0,800.0,700.0,800.0,650.0,300.0,600.0,400.0,1000.0,800.0,300.0,600.0,1300.0,200.0,400.0,1000.0,600.0,600.0,700.0,600.0,600.0,1500.0,400.0,1200.0,1200.0,600.0,500.0,1300.0,300.0,1100.0,800.0,500.0,1200.0,400.0,800.0,250.0,500.0,450.0,900.0,500.0,350.0,600.0,1000.0,300.0,1300.0,1000.0,800.0,1000.0,600.0,1200.0,350.0,1000.0,1000.0,2500.0,800.0,300.0,450.0,450.0,700.0,900.0,600.0,650.0,700.0,1500.0,500.0,900.0,350.0,1500.0,550.0,1100.0,700.0,500.0,600.0,700.0,1200.0,500.0,500.0,550.0,1200.0,750.0,650.0,300.0,400.0,300.0,300.0,800.0,1000.0,900.0,650.0,1400.0,700.0,1200.0,600.0,1500.0,1600.0,550.0,250.0,300.0,1400.0,500.0,1000.0,800.0,250.0,1200.0,700.0,600.0,1500.0,700.0,400.0,400.0,250.0,750.0,1500.0,1000.0,400.0,750.0,600.0,1500.0,450.0,1100.0,1000.0,200.0,400.0,700.0,350.0,1500.0,650.0,400.0,250.0,600.0,1000.0,1200.0,900.0,750.0,900.0,300.0,400.0,600.0,500.0,800.0,1000.0,900.0,400.0,300.0,300.0,1100.0,400.0,700.0,300.0,700.0,400.0,550.0,500.0,400.0,200.0,500.0,500.0,550.0,300.0,1700.0,1200.0,500.0,550.0,400.0,400.0,600.0,600.0,650.0,1000.0,400.0,400.0,600.0,500.0,200.0,650.0,600.0,250.0,350.0,750.0,400.0,1100.0,700.0,600.0,900.0,1100.0,500.0,500.0,200.0,450.0,800.0,500.0,800.0,650.0,350.0,200.0,600.0,600.0,600.0,600.0,450.0,1000.0,800.0,400.0,500.0,600.0,500.0,400.0,200.0,500.0,450.0,150.0,650.0,600.0,400.0,300.0,400.0,150.0,600.0,500.0,1300.0,500.0,300.0,100.0,400.0,600.0,1000.0,500.0,300.0,550.0,1200.0,900.0,400.0,400.0,800.0,1300.0,1200.0,450.0,1400.0,800.0,650.0,1100.0,350.0,1200.0,400.0,700.0,900.0,500.0,500.0,300.0,450.0,500.0,750.0,800.0,300.0,800.0,200.0,350.0,500.0,450.0,900.0,400.0,450.0,700.0,200.0,600.0,300.0,800.0,1000.0,350.0,1000.0,1400.0,700.0,600.0,400.0,400.0,500.0,550.0,800.0,600.0,900.0,650.0,800.0,650.0,150.0,500.0,650.0,350.0,200.0,400.0,800.0,150.0,200.0,800.0,700.0,150.0,500.0,600.0,200.0,400.0,900.0,700.0,600.0,800.0,150.0,400.0,1500.0,500.0,400.0,900.0,400.0,300.0,400.0,300.0,500.0,300.0,200.0,200.0,200.0,150.0,300.0,500.0,250.0,400.0,800.0,400.0,500.0,500.0,200.0,200.0,400.0,100.0,600.0,1100.0,400.0,1300.0,600.0,700.0,500.0,800.0,550.0,400.0,450.0,500.0,600.0,300.0,400.0,1200.0,400.0,650.0,500.0,900.0,350.0,600.0,400.0,400.0,400.0,400.0,250.0,300.0,200.0,450.0,500.0,300.0,500.0,200.0,500.0,500.0,350.0,400.0,400.0,400.0,400.0,800.0,700.0,350.0,150.0,400.0,200.0,800.0,700.0,400.0,150.0,400.0,500.0,600.0,400.0,250.0,200.0,500.0,400.0,400.0,200.0,1600.0,1300.0,1600.0,1100.0,800.0,900.0,800.0,1500.0,900.0,500.0,850.0,550.0,550.0,300.0,800.0,800.0,300.0,800.0,600.0,1100.0,500.0,550.0,500.0,400.0,500.0,700.0,600.0,400.0,600.0,700.0,900.0,1000.0,600.0,500.0,600.0,400.0,350.0,700.0,350.0,600.0,600.0,500.0,200.0,600.0,600.0,650.0,600.0,400.0,800.0,500.0,600.0,600.0,500.0,550.0,600.0,1000.0,600.0,500.0,650.0,450.0,500.0,650.0,700.0,500.0,250.0,500.0,300.0,1000.0,300.0,500.0,250.0,400.0,300.0,200.0,300.0,400.0,250.0,300.0,400.0,400.0,500.0,300.0,300.0,400.0,500.0,400.0,150.0,250.0,500.0,150.0,200.0,250.0,300.0,200.0,300.0,700.0,500.0,300.0,200.0,300.0,300.0,400.0,600.0,500.0,400.0,500.0,300.0,500.0,300.0,200.0,400.0,400.0,250.0,300.0,300.0,400.0,350.0,450.0,250.0,450.0,400.0,300.0,550.0,600.0,400.0,400.0,500.0,400.0,650.0,250.0,400.0,350.0,400.0,300.0,300.0,250.0,1100.0,200.0,600.0,900.0,1400.0,1500.0,2000.0,1000.0,1100.0,1500.0,1200.0,900.0,1600.0,1300.0,1300.0,1400.0,800.0,1600.0,1600.0,700.0,1500.0,1600.0,750.0,1300.0,1500.0,1000.0,1000.0,1300.0,1500.0,1500.0,1400.0,1800.0,600.0,1400.0,1300.0,600.0,1200.0,1500.0,1400.0,1200.0,1300.0,1500.0,1500.0,1000.0,1000.0,1000.0,600.0,650.0,1400.0,800.0,1200.0,800.0,1000.0,1100.0,1500.0,1200.0,1400.0,650.0,550.0,600.0,1100.0,700.0,1000.0,800.0,600.0,900.0,750.0,500.0,1500.0,800.0,1200.0,550.0,900.0,800.0,550.0,1200.0,800.0,600.0,900.0,600.0,800.0,750.0,650.0,1200.0,800.0,550.0,1200.0,1000.0,1000.0,900.0,500.0,1200.0,750.0,900.0,500.0,800.0,700.0,800.0,1200.0,600.0,800.0,650.0,600.0,800.0,750.0,500.0,1200.0,600.0,1500.0,700.0,1200.0,700.0,750.0,1400.0,1000.0,700.0,650.0,750.0,1300.0,1300.0,500.0,1000.0,1000.0,800.0,650.0,600.0,1100.0,800.0,600.0,450.0,500.0,1000.0,800.0,1300.0,550.0,300.0,650.0,700.0,400.0,500.0,800.0,1400.0,600.0,350.0,750.0,650.0,700.0,750.0,700.0,400.0,1300.0,650.0,600.0,500.0,400.0,300.0,300.0,600.0,800.0,450.0,350.0,700.0,500.0,800.0,300.0,200.0,600.0,1000.0,400.0,600.0,900.0,450.0,250.0,600.0,700.0,2000.0,500.0,550.0,150.0,450.0,600.0,600.0,1500.0,200.0,700.0,400.0,350.0,900.0,350.0,800.0,600.0,1000.0,400.0,500.0,900.0,400.0,400.0,500.0,650.0,650.0,800.0,1100.0,700.0,900.0,200.0,600.0,500.0,400.0,250.0,200.0,400.0,300.0,600.0,450.0,200.0,700.0,1000.0,800.0,200.0,600.0,600.0,300.0,400.0,700.0,600.0,300.0,400.0,250.0,400.0,400.0,200.0,300.0,400.0,1300.0,200.0,400.0,200.0,950.0,400.0,400.0,750.0,500.0,400.0,700.0,650.0,200.0,300.0,200.0,100.0,800.0,600.0,1000.0,400.0,400.0,600.0,700.0,400.0,450.0,600.0,500.0,500.0,650.0,900.0,350.0,400.0,200.0,400.0,400.0,350.0,300.0,200.0,400.0,450.0,300.0,300.0,300.0,450.0,500.0,600.0,300.0,800.0,300.0,300.0,600.0,550.0,200.0,750.0,300.0,400.0,200.0,500.0,400.0,900.0,250.0,400.0,550.0,350.0,800.0,450.0,500.0,1000.0,1100.0,1500.0,1100.0,1500.0,2000.0,1100.0,900.0,1600.0,1600.0,1600.0,1000.0,1500.0,1400.0,1800.0,1400.0,1200.0,1300.0,1000.0,1200.0,1400.0,1200.0,1200.0,1200.0,1200.0,1500.0,1400.0,1000.0,1300.0,1300.0,1400.0,1500.0,1100.0,1300.0,1100.0,1600.0,1500.0,1100.0,1400.0,1000.0,1100.0,1500.0,900.0,1400.0,1600.0,1500.0,1000.0,1500.0,1800.0,1500.0,1200.0,1300.0,1000.0,1200.0,1400.0,1000.0,1500.0,1200.0,800.0,1200.0,1200.0,1200.0,1200.0,1400.0,1000.0,1300.0,1000.0,1300.0,1300.0,1500.0,1100.0,1300.0,1200.0,1500.0,1200.0,1700.0,750.0,1800.0,1500.0,2200.0,3000.0,2100.0,2800.0,1400.0,1600.0,2500.0,3000.0,500.0,1500.0,1000.0,3400.0,2000.0,1500.0,1300.0,1700.0,1200.0,1600.0,800.0,2200.0,2000.0,1200.0,1000.0,1900.0,650.0,1400.0,1000.0,800.0,1000.0,1300.0,1600.0,3000.0,500.0,1000.0,1200.0,650.0,2500.0,1300.0,1200.0,1700.0,1800.0,1600.0,1100.0,750.0,1200.0,500.0,1100.0,1000.0,600.0,650.0,900.0,700.0,500.0,700.0,800.0,1700.0,900.0,600.0,2500.0,1400.0,400.0,750.0,700.0,700.0,500.0,1100.0,800.0,750.0,500.0,650.0,500.0,1000.0,650.0,1200.0,800.0,800.0,400.0,800.0,600.0,400.0,1000.0,500.0,600.0,1000.0,800.0,900.0,700.0,350.0,1300.0,750.0,300.0,1000.0,750.0,750.0,1100.0,500.0,650.0,400.0,750.0,750.0,500.0,750.0,600.0,750.0,300.0,600.0,400.0,650.0,400.0,500.0,550.0,150.0,500.0,1500.0,800.0,400.0,400.0,200.0,600.0,800.0,300.0,850.0,400.0,400.0,300.0,450.0,650.0,250.0,450.0,600.0,1600.0,400.0,1300.0,1200.0,1200.0,450.0,600.0,700.0,500.0,400.0,700.0,350.0,200.0,400.0,500.0,400.0,550.0,500.0,400.0,900.0,800.0,400.0,200.0,1300.0,1200.0,600.0,550.0,1100.0,500.0,600.0,400.0,800.0,1300.0,200.0,1700.0,150.0,2100.0,1700.0,1500.0,750.0,500.0,300.0,150.0,2000.0,250.0,750.0,400.0,600.0,650.0,500.0,800.0,1400.0,2100.0,1500.0,1200.0,450.0,1000.0,400.0,1500.0,600.0,1400.0,200.0,2000.0,1000.0,500.0,300.0,250.0,300.0,400.0,800.0,700.0,700.0,900.0,200.0,1700.0,500.0,1200.0,650.0,500.0,300.0,1500.0,950.0,1600.0,1500.0,1000.0,300.0,300.0,500.0,900.0,700.0,1000.0,1200.0,700.0,1000.0,800.0,1500.0,1400.0,900.0,700.0,250.0,700.0,1000.0,750.0,600.0,1300.0,400.0,250.0,350.0,800.0,300.0,1400.0,500.0,180.0,500.0,800.0,750.0,250.0,500.0,700.0,200.0,600.0,800.0,550.0,2100.0,900.0,1100.0,550.0,1400.0,600.0,400.0,400.0,400.0,750.0,800.0,500.0,150.0,600.0,750.0,600.0,1200.0,500.0,600.0,500.0,550.0,400.0,400.0,200.0,800.0,800.0,500.0,800.0,1000.0,500.0,300.0,500.0,500.0,500.0,550.0,300.0,450.0,350.0,150.0,100.0,300.0,600.0,800.0,350.0,1600.0,650.0,750.0,300.0,400.0,450.0,500.0,200.0,700.0,500.0,1000.0,200.0,300.0,850.0,800.0,1000.0,1000.0,850.0,800.0,800.0,800.0,700.0,1000.0,600.0,300.0,600.0,300.0,250.0,400.0,600.0,700.0,450.0,500.0,700.0,800.0,1000.0,600.0,400.0,500.0,900.0,700.0,650.0,500.0,800.0,500.0,350.0,1800.0,1300.0,500.0,300.0,550.0,200.0,1200.0,1200.0,1300.0,1600.0,600.0,1400.0,550.0,1200.0,1000.0,600.0,400.0,1000.0,500.0,1200.0,600.0,40.0,250.0,250.0,500.0,600.0,400.0,700.0,350.0,600.0,1700.0,550.0,600.0,1100.0,1000.0,150.0,250.0,700.0,400.0,300.0,400.0,400.0,700.0,700.0,1800.0,750.0,1900.0,1300.0,1000.0,500.0,1600.0,700.0,300.0,800.0,300.0,1000.0,600.0,650.0,750.0,500.0,1300.0,800.0,1400.0,650.0,1000.0,2000.0,150.0,2000.0,750.0,700.0,1500.0,1700.0,1100.0,1800.0,1000.0,150.0,400.0,250.0,400.0,2000.0,800.0,400.0,600.0,550.0,400.0,1400.0,700.0,300.0,1250.0,700.0,500.0,400.0,450.0,2000.0,1000.0,700.0,500.0,400.0,300.0,300.0,350.0,400.0,800.0,400.0,250.0,900.0,400.0,300.0,400.0,150.0,300.0,180.0,150.0,450.0,400.0,400.0,900.0,300.0,150.0,300.0,600.0,300.0,500.0,350.0,1300.0,800.0,200.0,750.0,300.0,500.0,1500.0,300.0,1100.0,1500.0,1200.0,1000.0,1000.0,1700.0,1000.0,600.0,650.0,1300.0,1100.0,1100.0,750.0,750.0,1400.0,650.0,1300.0,1200.0,900.0,600.0,800.0,700.0,1000.0,800.0,1500.0,950.0,500.0,800.0,1200.0,600.0,600.0,500.0,200.0,150.0,500.0,250.0,400.0,250.0,350.0,1700.0,2500.0,1500.0,1800.0,1500.0,2000.0,3000.0,2200.0,3000.0,800.0,550.0,2800.0,2500.0,1500.0,2000.0,1500.0,1500.0,3000.0,2100.0,3500.0,1700.0,1700.0,1300.0,1600.0,2800.0,1700.0,1500.0,1200.0,1500.0,1600.0,1300.0,1200.0,2000.0,3000.0,800.0,700.0,2100.0,1500.0,2500.0,1900.0,2200.0,1500.0,1400.0,2000.0,1200.0,1400.0,1500.0,600.0,1300.0,2100.0,1700.0,900.0,1100.0,1600.0,2500.0,1500.0,2500.0,550.0,1000.0,3000.0,1200.0,1300.0,1400.0,4000.0,500.0,1800.0,1300.0,1500.0,200.0,1000.0,2000.0,1500.0,1000.0,1800.0,1000.0,500.0,1000.0,1500.0,1200.0,2500.0,400.0,3400.0,3000.0,2000.0,850.0,2000.0,750.0,700.0,3500.0,600.0,1800.0,1500.0,3000.0,1300.0,1500.0,700.0,1600.0,1200.0,1300.0,1500.0,1200.0,1100.0,1700.0,2000.0,500.0,800.0,4000.0,3000.0,1100.0,1000.0,1500.0,700.0,2800.0,1000.0,1200.0,1000.0,1200.0,4000.0,2000.0,3500.0,1200.0,550.0,1000.0,1600.0,500.0,300.0,2000.0,650.0,1800.0,3000.0,800.0,2200.0,1100.0,800.0,2000.0,500.0,800.0,750.0,1500.0,1000.0,800.0,1000.0,650.0,750.0,500.0,1800.0,1000.0,400.0,550.0,600.0,700.0,700.0,2000.0,1000.0,1000.0,3000.0,2000.0,800.0,550.0,400.0,650.0,800.0,450.0,650.0,550.0,1200.0,1800.0,800.0,800.0,1200.0,1000.0,1000.0,700.0,2000.0,500.0,1500.0,300.0,350.0,600.0,3000.0,400.0,1900.0,500.0,2500.0,650.0,800.0,2500.0,1400.0,800.0,1200.0,800.0,600.0,3000.0,1000.0,550.0,400.0,800.0,800.0,400.0,850.0,800.0,1000.0,500.0,1300.0,1600.0,3000.0,600.0,1000.0,1400.0,700.0,3000.0,500.0,1000.0,2400.0,600.0,1500.0,500.0,1000.0,500.0,800.0,1300.0,800.0,1200.0,800.0,250.0,600.0,350.0,500.0,500.0,900.0,2000.0,700.0,2500.0,600.0,400.0,600.0,550.0,400.0,300.0,250.0,150.0,700.0,150.0,500.0,150.0,300.0,500.0,250.0,300.0,450.0,400.0,400.0,500.0,150.0,300.0,400.0,300.0,200.0,350.0,500.0,400.0,400.0,250.0,350.0,300.0,500.0,200.0,600.0,600.0,500.0,300.0,300.0,500.0,300.0,450.0,300.0,100.0,300.0,500.0,1300.0,800.0,1100.0,1100.0,1400.0,1300.0,600.0,3200.0,750.0,2500.0,1500.0,1300.0,1200.0,300.0,4000.0,1700.0,1000.0,2500.0,750.0,600.0,850.0,550.0,600.0,400.0,700.0,1000.0,200.0,700.0,750.0,500.0,700.0,750.0,1800.0,1200.0,900.0,1600.0,700.0,400.0,150.0,550.0,700.0,300.0,500.0,600.0,400.0,400.0,1100.0,500.0,400.0,500.0,250.0,250.0,550.0,500.0,1100.0,600.0,300.0,1200.0,1500.0,2000.0,1300.0,1100.0,1100.0,1200.0,1000.0,1500.0,1700.0,2500.0,1500.0,2000.0,3000.0,3000.0,2500.0,1500.0,1500.0,1700.0,1700.0,1300.0,1700.0,1500.0,1300.0,1200.0,2000.0,1500.0,2500.0,1900.0,1300.0,1500.0,1000.0,1200.0,1400.0,1300.0,1000.0,3000.0,1600.0,1500.0,1100.0,1100.0,1000.0,2800.0,1000.0,2000.0,1200.0,2000.0,3000.0,1500.0,600.0,1000.0,1000.0,1000.0,2000.0,1500.0,2500.0,3000.0,1400.0,2400.0,1500.0,1300.0,1300.0,1200.0,2500.0,1200.0,1200.0,1200.0,1100.0,1100.0,1200.0,1000.0,1500.0,2000.0,2500.0,1500.0,1700.0,1300.0,1700.0,1500.0,1200.0,2100.0,2500.0,1900.0,1300.0,1500.0,1000.0,1200.0,1300.0,1400.0,1300.0,1000.0,1000.0,1000.0,1600.0,1200.0,1300.0,1500.0,1100.0,1700.0,2000.0,1100.0,1000.0,1000.0,1000.0,1200.0,4000.0,2000.0,3500.0,1200.0,2000.0,1800.0,1800.0,600.0,1000.0,1000.0,1800.0,1200.0,1000.0,3000.0,800.0,1400.0,1500.0,1300.0,1300.0,1200.0,1200.0,1500.0,1200.0,1600.0,600.0,1100.0,3000.0,2200.0,1200.0,1400.0,800.0,2000.0,900.0,850.0,800.0,1500.0,600.0,700.0,650.0,500.0,400.0,600.0,600.0,700.0,400.0,400.0,700.0,200.0,450.0,200.0,250.0,300.0,400.0,500.0,500.0,500.0,500.0,200.0,700.0,600.0,600.0,300.0,500.0,800.0,800.0,300.0,250.0,500.0,700.0,300.0,650.0,400.0,450.0,500.0,400.0,600.0,200.0,400.0,500.0,400.0,400.0,400.0,750.0,500.0,400.0,450.0,400.0,150.0,400.0,450.0,400.0,650.0,800.0,250.0,450.0,600.0,550.0,250.0,250.0,900.0,750.0,700.0,400.0,500.0,300.0,500.0,150.0,800.0,500.0,700.0,800.0,750.0,350.0,400.0,900.0,300.0,400.0,700.0,900.0,350.0,400.0,700.0,500.0,400.0,300.0,600.0,600.0,450.0,750.0,400.0,600.0,250.0,650.0,600.0,500.0,450.0,400.0,600.0,600.0,1500.0,1200.0,400.0,400.0,500.0,400.0,400.0,650.0,400.0,500.0,1000.0,1200.0,700.0,900.0,200.0,500.0,1100.0,1000.0,700.0,600.0,1500.0,400.0,500.0,700.0,500.0,350.0,450.0,400.0,400.0,500.0,500.0,600.0,2000.0,600.0,200.0,250.0,400.0,450.0,400.0,500.0,600.0,400.0,250.0,400.0,400.0,700.0,500.0,500.0,1500.0,1200.0,1200.0,1200.0,1600.0,600.0,1100.0,1500.0,900.0,800.0,1400.0,600.0,650.0,700.0,800.0,3000.0,1500.0,1300.0,2200.0,450.0,500.0,500.0,800.0,600.0,1200.0,1400.0,400.0,700.0,800.0,400.0,450.0,2000.0,400.0,600.0,1200.0,700.0,600.0,400.0,500.0,600.0,900.0,750.0,700.0,2500.0,2200.0,700.0,900.0,1500.0,650.0,750.0,400.0,1000.0,700.0,850.0,1200.0,450.0,2500.0,850.0,500.0,500.0,1000.0,700.0,400.0,600.0,1500.0,800.0,700.0,600.0,550.0,1500.0,400.0,800.0,500.0,700.0,500.0,500.0,500.0,300.0,450.0,500.0,550.0,400.0,500.0,400.0,400.0,350.0,400.0,650.0,400.0,250.0,300.0,400.0,250.0,400.0,250.0,400.0,500.0,450.0,400.0,500.0,300.0,200.0,350.0,400.0,400.0,300.0,450.0,150.0,600.0,400.0,400.0,300.0,400.0,300.0,600.0,400.0,600.0,750.0,400.0,500.0,500.0,250.0,350.0,400.0,500.0,400.0,350.0,500.0,250.0,300.0,1200.0,1200.0,1200.0,1500.0,1400.0,1300.0,1200.0,2500.0,900.0,1500.0,1500.0,1200.0,1200.0,1200.0,1500.0,1400.0,1300.0,1200.0,1200.0,900.0,1500.0,1500.0,750.0,1300.0,2800.0,1300.0,1700.0,2200.0,1800.0,1600.0,1100.0,1100.0,700.0,700.0,350.0,600.0,1300.0,1200.0,750.0,750.0,700.0,300.0,1000.0,750.0,800.0,650.0,800.0,650.0,750.0,800.0,700.0,1000.0,500.0,500.0,800.0,400.0,1100.0,600.0,450.0,500.0,450.0,500.0,600.0,750.0,300.0,300.0,600.0,300.0,600.0,650.0,600.0,200.0,400.0,350.0,400.0,800.0,750.0,250.0,500.0,750.0,800.0,1000.0,500.0,750.0,400.0,550.0,400.0,950.0,400.0,600.0,400.0,300.0,800.0,150.0,200.0,750.0,250.0,300.0,750.0,400.0,500.0,400.0,700.0,600.0,800.0,550.0,650.0,400.0,500.0,1200.0,900.0,1500.0,800.0,1100.0,500.0,1400.0,650.0,450.0,400.0,1300.0,800.0,700.0,750.0,1500.0,600.0,600.0,400.0,1600.0,500.0,500.0,600.0,650.0,300.0,800.0,600.0,1700.0,1200.0,1300.0,500.0,400.0,700.0,400.0,600.0,1600.0,650.0,700.0,400.0,400.0,500.0,300.0,1000.0,1500.0,650.0,1300.0,600.0,1200.0,550.0,300.0,600.0,1100.0,500.0,800.0,400.0,700.0,900.0,400.0,450.0,500.0,900.0,450.0,400.0,450.0,40.0,550.0,300.0,3000.0,350.0,700.0,250.0,650.0,700.0,200.0,800.0,300.0,550.0,750.0,600.0,450.0,100.0,500.0,350.0,600.0,1300.0,1700.0,180.0,1700.0,600.0,2100.0,600.0,700.0,300.0,500.0,1000.0,550.0,2000.0,500.0,1500.0,450.0,1500.0,700.0,400.0,750.0,1300.0,1000.0,400.0,1000.0,700.0,500.0,800.0,1300.0,500.0,750.0,500.0,1300.0,700.0,500.0,700.0,750.0,800.0,1000.0,2100.0,1000.0,500.0,1900.0,450.0,150.0,150.0,700.0,300.0,2000.0,400.0,1000.0,650.0,950.0,150.0,500.0,300.0,1400.0,800.0,1200.0,1000.0,1000.0,150.0,700.0,750.0,1500.0,300.0,200.0,700.0,800.0,250.0,1800.0,500.0,350.0,1500.0,800.0,1000.0,200.0,550.0,400.0,500.0,400.0,250.0,1000.0,1400.0,400.0,800.0,700.0,600.0,550.0,600.0,350.0,1500.0,1500.0,500.0,200.0,550.0,300.0,1100.0,850.0,400.0,150.0,850.0,700.0,300.0,1800.0,800.0,1800.0,600.0,1000.0,800.0,2000.0,400.0,300.0,600.0,1500.0,750.0,1000.0,1500.0,700.0,400.0,700.0,300.0,600.0,300.0,900.0,400.0,450.0,650.0,500.0,800.0,800.0,2000.0,750.0,1700.0,700.0,850.0,1000.0,650.0,500.0,600.0,500.0,250.0,200.0,250.0,500.0,200.0,350.0,100.0,1200.0,550.0,600.0,500.0,300.0,700.0,300.0,300.0,800.0,700.0,300.0,800.0,1200.0,400.0,600.0,300.0,1700.0,550.0,1300.0,250.0,1100.0,750.0,800.0,750.0,700.0,400.0,200.0,1100.0,300.0,300.0,300.0,400.0,500.0,600.0,1600.0,600.0,200.0,150.0,400.0,150.0,700.0,500.0,100.0,500.0,300.0,250.0,250.0,350.0,500.0,500.0,300.0,300.0,350.0,300.0,400.0,150.0,1300.0,400.0,750.0,700.0,700.0,400.0,500.0,400.0,300.0,300.0,300.0,700.0,600.0,750.0,800.0,700.0,700.0,700.0,600.0,1100.0,550.0,600.0,1100.0,1500.0,800.0,850.0,700.0,600.0,750.0,500.0,1000.0,500.0,500.0,700.0,700.0,600.0,700.0,1000.0,300.0,500.0,1000.0,750.0,600.0,1000.0,200.0,300.0,500.0,300.0,600.0,400.0,400.0,150.0,700.0,400.0,400.0,200.0,250.0,500.0,300.0,600.0,500.0,500.0,1300.0,800.0,550.0,550.0,450.0,800.0,650.0,700.0,300.0,600.0,800.0,300.0,150.0,600.0,350.0,400.0,500.0,300.0,300.0,1300.0,2800.0,1200.0,1600.0,1000.0,2500.0,2500.0,1100.0,1100.0,1300.0,1300.0,600.0,1000.0,1300.0,750.0,1800.0,750.0,700.0,1800.0,3000.0,1300.0,1700.0,300.0,600.0,1200.0,1000.0,750.0,650.0,2000.0,3000.0,2000.0,750.0,800.0,650.0,800.0,2200.0,650.0,850.0,800.0,700.0,700.0,1000.0,1000.0,700.0,750.0,1800.0,500.0,400.0,500.0,1600.0,500.0,150.0,500.0,400.0,1500.0,400.0,250.0,500.0,550.0,800.0,800.0,400.0,300.0,400.0,1100.0,600.0,200.0,450.0,1100.0,250.0,300.0,800.0,400.0,400.0,1500.0,1300.0,2500.0,1300.0,1300.0,1000.0,1500.0,1500.0,1000.0,1300.0,1300.0,2500.0,1300.0,1000.0,1200.0,2000.0,1000.0,1400.0,1500.0,1800.0,600.0,1200.0,1000.0,850.0,750.0,600.0,800.0,400.0,1000.0,1600.0,1500.0,1500.0,900.0,1200.0,1500.0,1900.0,700.0,800.0,600.0,750.0,500.0,700.0,800.0,1200.0,800.0,950.0,650.0,750.0,300.0,600.0,700.0,700.0,600.0,300.0,700.0,600.0,500.0,450.0,650.0,1300.0,350.0,550.0,600.0,1000.0,250.0,500.0,600.0,1000.0,400.0,700.0,500.0,600.0,500.0,600.0,400.0,500.0,500.0,600.0,500.0,500.0,450.0,350.0,500.0,400.0,250.0,250.0,400.0,750.0,800.0,650.0,450.0,400.0,600.0,450.0,450.0,300.0,500.0,500.0,500.0,400.0,800.0,250.0,600.0,300.0,500.0,600.0,750.0,400.0,400.0,300.0,650.0,400.0,400.0,400.0,900.0,200.0,400.0,450.0,600.0,750.0,400.0,800.0,800.0,800.0,750.0,400.0,150.0,500.0,600.0,500.0,200.0,750.0,600.0,600.0,500.0,550.0,400.0,400.0,300.0,900.0,400.0,250.0,600.0,650.0,300.0,800.0,600.0,450.0,700.0,200.0,400.0,650.0,300.0,500.0,350.0,550.0,300.0,150.0,400.0,500.0,100.0,300.0,500.0,400.0,500.0,600.0,200.0,350.0,450.0,500.0,600.0,600.0,650.0,200.0,400.0,400.0,400.0,300.0,750.0,800.0,200.0,300.0,800.0,500.0,1500.0,1400.0,300.0,500.0,400.0,550.0,300.0,550.0,1400.0,200.0,600.0,450.0,800.0,600.0,400.0,700.0,400.0,400.0,1700.0,1900.0,500.0,350.0,180.0,200.0,1000.0,900.0,400.0,400.0,400.0,550.0,300.0,800.0,150.0,600.0,400.0,700.0,1400.0,250.0,200.0,400.0,350.0,250.0,1200.0,700.0,1000.0,400.0,650.0,500.0,500.0,1000.0,450.0,600.0,400.0,1000.0,800.0,600.0,1000.0,600.0,150.0,200.0,600.0,550.0,350.0,400.0,350.0,550.0,250.0,200.0,400.0,550.0,500.0,450.0,1000.0,600.0,400.0,700.0,1000.0,300.0,600.0,700.0,550.0,300.0,300.0,800.0,300.0,900.0,500.0,1200.0,500.0,750.0,350.0,1400.0,1700.0,400.0,300.0,800.0,400.0,950.0,450.0,300.0,1200.0,1500.0,300.0,250.0,200.0,700.0,600.0,200.0,600.0,800.0,300.0,700.0,300.0,900.0,850.0,500.0,750.0,650.0,350.0,500.0,500.0,300.0,800.0,400.0,600.0,400.0,650.0,100.0,500.0,800.0,200.0,1800.0,500.0,250.0,1500.0,300.0,400.0,150.0,250.0,400.0,450.0,450.0,800.0,450.0,700.0,600.0,650.0,400.0,400.0,300.0,350.0,800.0,500.0,250.0,600.0,400.0,900.0,400.0,100.0,250.0,400.0,150.0,1300.0,700.0,800.0,300.0,450.0,500.0,500.0,400.0,700.0,350.0,500.0,400.0,600.0,450.0,400.0,300.0,400.0,600.0,800.0,500.0,700.0,800.0,250.0,600.0,500.0,1100.0,900.0,200.0,1400.0,400.0,400.0,200.0,500.0,250.0,550.0,800.0,500.0,300.0,550.0,500.0,400.0,400.0,500.0,300.0,800.0,500.0,500.0,550.0,400.0,550.0,600.0,400.0,1300.0,400.0,1200.0,1200.0,300.0,400.0,250.0,600.0,300.0,800.0,1000.0,500.0,1100.0,250.0,1200.0,300.0,1300.0,600.0,1000.0,400.0,450.0,1200.0,200.0,600.0,400.0,700.0,750.0,800.0,700.0,600.0,600.0,400.0,850.0,300.0,700.0,1000.0,400.0,700.0,400.0,500.0,600.0,800.0,600.0,950.0,1300.0,700.0,1200.0,150.0,600.0,1000.0,1500.0,1500.0,550.0,1100.0,500.0,800.0,600.0,500.0,500.0,400.0,800.0,400.0,950.0,200.0,350.0,400.0,400.0,300.0,300.0,400.0,500.0,600.0,400.0,300.0,400.0,450.0,200.0,100.0,300.0,600.0,350.0,180.0,500.0,500.0,400.0,500.0,350.0,500.0,100.0,150.0,400.0,450.0,350.0,300.0,1000.0,500.0,150.0,500.0,300.0,400.0,600.0,650.0,500.0,500.0,1200.0,500.0,800.0,1000.0,700.0,1500.0,1500.0,1000.0,1800.0,600.0,1200.0,850.0,1400.0,1200.0,1000.0,550.0,750.0,1100.0,800.0,1200.0,700.0,900.0,1000.0,600.0,750.0,1200.0,800.0,800.0,850.0,700.0,1200.0,600.0,800.0,850.0,200.0,800.0,750.0,800.0,950.0,700.0,1200.0,600.0,800.0,900.0,600.0,650.0,1000.0,1000.0,400.0,550.0,750.0,400.0,800.0,500.0,500.0,800.0,800.0,600.0,800.0,1400.0,700.0,800.0,900.0,700.0,750.0,450.0,300.0,700.0,650.0,1300.0,600.0,500.0,800.0,500.0,600.0,700.0,400.0,500.0,500.0,550.0,800.0,1000.0,450.0,400.0,250.0,650.0,550.0,700.0,800.0,550.0,800.0,400.0,400.0,500.0,700.0,650.0,1300.0,550.0,550.0,750.0,600.0,700.0,500.0,750.0,900.0,1000.0,250.0,600.0,300.0,600.0,450.0,600.0,450.0,900.0,500.0,1000.0,600.0,500.0,600.0,400.0,400.0,450.0,500.0,400.0,300.0,250.0,400.0,500.0,150.0,400.0,300.0,400.0,400.0,500.0,300.0,400.0,300.0,350.0,350.0,400.0,500.0,400.0,300.0,150.0,400.0,600.0,400.0,500.0,600.0,400.0,200.0,400.0,400.0,300.0,200.0,500.0,450.0,500.0,400.0,450.0,400.0,400.0,250.0,250.0,600.0,300.0,500.0,400.0,600.0,200.0,250.0,300.0,400.0,400.0,400.0,400.0,300.0,300.0,750.0,300.0,300.0,700.0,200.0,400.0,800.0,200.0,150.0,350.0,250.0,500.0,500.0,300.0,500.0,400.0,200.0,400.0,250.0,1400.0,1900.0,1000.0,1600.0,1500.0,600.0,1500.0,1000.0,2000.0,700.0,750.0,1200.0,800.0,550.0,550.0,900.0,250.0,550.0,1200.0,400.0,1500.0,450.0,300.0,500.0,1900.0,350.0,300.0,250.0,600.0,300.0,350.0,100.0,450.0,1000.0,1000.0,1500.0,1500.0,850.0,1400.0,1100.0,900.0,1900.0,1000.0,1200.0,1500.0,1000.0,850.0,1000.0,1500.0,1400.0,1100.0,900.0,1200.0,1200.0,1400.0,1300.0,1400.0,1900.0,1500.0,1200.0,1500.0,1000.0,1200.0,1800.0,1600.0,2100.0,1200.0,1700.0,1400.0,1100.0,1300.0,800.0,1000.0,1300.0,750.0,1600.0,900.0,1700.0,1100.0,1200.0,1200.0,400.0,850.0,1200.0,1500.0,1700.0,1000.0,1100.0,3500.0,3000.0,2100.0,2800.0,2200.0,3000.0,1400.0,1500.0,3000.0,1000.0,900.0,800.0,600.0,800.0,900.0,600.0,1000.0,600.0,1300.0,600.0,200.0,500.0,550.0,700.0,800.0,600.0,900.0,1000.0,700.0,400.0,600.0,800.0,400.0,700.0,650.0,500.0,700.0,450.0,800.0,500.0,650.0,800.0,850.0,800.0,750.0,500.0,450.0,500.0,500.0,700.0,500.0,1100.0,900.0,200.0,500.0,700.0,600.0,500.0,600.0,500.0,1600.0,500.0,1700.0,2500.0,700.0,700.0,700.0,500.0,300.0,300.0,300.0,200.0,800.0,500.0,600.0,300.0,600.0,400.0,400.0,450.0,150.0,400.0,350.0,350.0,400.0,500.0,200.0,400.0,650.0,500.0,400.0,300.0,1000.0,350.0,150.0,200.0,800.0,650.0,800.0,400.0,800.0,400.0,850.0,600.0,300.0,500.0,500.0,550.0,250.0,550.0,750.0,400.0,800.0,600.0,250.0,300.0,150.0,1000.0,950.0,250.0,200.0,600.0,1200.0,800.0,650.0,600.0,800.0,700.0,500.0,900.0,700.0,600.0,500.0,500.0,450.0,600.0,1200.0,300.0,400.0,750.0,700.0,600.0,400.0,1600.0,600.0,400.0,1200.0,650.0,400.0,500.0,600.0,300.0,800.0,150.0,300.0,1200.0,800.0,600.0,900.0,40.0,300.0,750.0,400.0,250.0,500.0,700.0,650.0,500.0,350.0,600.0,750.0,200.0,600.0,400.0,1500.0,450.0,650.0,100.0,500.0,500.0,350.0,800.0,250.0,500.0,500.0,1300.0,850.0,1400.0,700.0,800.0,550.0,600.0,1000.0,1100.0,1200.0,1500.0,600.0,500.0,1000.0,1200.0,900.0,1600.0,500.0,300.0,300.0,300.0,500.0,1800.0,900.0,250.0,450.0,700.0,800.0,850.0,800.0,450.0,700.0,550.0,500.0,600.0,800.0,200.0,300.0,1100.0,450.0,400.0,350.0,800.0,500.0,400.0,750.0,500.0,900.0,650.0,400.0,1100.0,1600.0,600.0,900.0,350.0,800.0,1300.0,800.0,300.0,400.0,400.0,500.0,800.0,400.0,550.0,1500.0,250.0,150.0,400.0,600.0,650.0,750.0,800.0,1000.0,1500.0,450.0,350.0,700.0,300.0,500.0,300.0,2100.0,1300.0,180.0,400.0,200.0,450.0,300.0,500.0,400.0,750.0,700.0,700.0,800.0,700.0,1000.0,200.0,500.0,300.0,2000.0,1000.0,700.0,1000.0,700.0,250.0,200.0,600.0,950.0,1000.0,550.0,400.0,500.0,650.0,800.0,1200.0,2000.0,250.0,550.0,250.0,1400.0,200.0,900.0,850.0,1500.0,700.0,400.0,700.0,200.0,1000.0,1600.0,1500.0,2100.0,350.0,450.0,1000.0,300.0,300.0,1200.0,300.0,400.0,550.0,900.0,150.0,700.0,800.0,2000.0,500.0,350.0,300.0,800.0,1400.0,700.0,450.0,500.0,1200.0,700.0,600.0,350.0,500.0,800.0,1200.0,300.0,500.0,450.0,600.0,600.0,600.0,400.0,400.0,350.0,800.0,900.0,200.0,2000.0,1700.0,650.0,450.0,500.0,500.0,200.0,400.0,500.0,700.0,600.0,500.0,1500.0,350.0,300.0,1000.0,500.0,650.0,1400.0,1400.0,700.0,200.0,400.0,700.0,300.0,400.0,450.0,300.0,500.0,750.0,500.0,450.0,750.0,1200.0,200.0,1800.0,800.0,200.0,200.0,400.0,1000.0,700.0,400.0,200.0,1100.0,1500.0,800.0,300.0,650.0,400.0,400.0,300.0,350.0,450.0,600.0,1000.0,600.0,1200.0,400.0,800.0,300.0,1000.0,500.0,1500.0,400.0,700.0,150.0,350.0,1400.0,600.0,400.0,500.0,1900.0,400.0,500.0,1700.0,1400.0,650.0,450.0,500.0,600.0,1600.0,250.0,300.0,800.0,1700.0,500.0,450.0,400.0,150.0,500.0,450.0,700.0,500.0,250.0,1100.0,400.0,150.0,200.0,500.0,500.0,500.0,500.0,850.0,500.0,1600.0,600.0,600.0,200.0,1200.0,800.0,400.0,600.0,800.0,900.0,400.0,1000.0,500.0,550.0,500.0,150.0,500.0,800.0,700.0,300.0,400.0,800.0,400.0,300.0,400.0,300.0,400.0,300.0,200.0,800.0,400.0,400.0,300.0,300.0,400.0,800.0,800.0,500.0,300.0,500.0,750.0,150.0,500.0,450.0,500.0,400.0,300.0,400.0,200.0,1100.0,200.0,200.0,200.0,650.0,300.0,250.0,500.0,600.0,400.0,300.0,500.0,200.0,250.0,300.0,200.0,400.0,450.0,300.0,2000.0,700.0,400.0,800.0,1200.0,700.0,200.0,200.0,2500.0,1600.0,1500.0,1000.0,800.0,1500.0,2000.0,1400.0,1800.0,1200.0,1200.0,1500.0,1500.0,1600.0,1200.0,1300.0,900.0,2100.0,2500.0,1500.0,1400.0,1000.0,1300.0,800.0,1300.0,900.0,1200.0,1700.0,800.0,1500.0,1400.0,1400.0,1100.0,1100.0,1600.0,1000.0,1200.0,600.0,800.0,1000.0,1500.0,1000.0,850.0,1300.0,1200.0,600.0,1200.0,800.0,750.0,1500.0,1000.0,1000.0,1300.0,1500.0,800.0,1200.0,1000.0,600.0,1200.0,800.0,200.0,1000.0,1200.0,750.0,1600.0,1100.0,500.0,1500.0,1200.0,900.0,1000.0,800.0,1500.0,900.0,1200.0,1700.0,650.0,1400.0,700.0,1300.0,1500.0,1100.0,900.0,800.0,800.0,600.0,900.0,1000.0,1100.0,1500.0,1100.0,900.0,1000.0,700.0,700.0,500.0,600.0,1500.0,800.0,700.0,650.0,650.0,500.0,500.0,950.0,1400.0,750.0,800.0,800.0,400.0,1200.0,800.0,450.0,500.0,1200.0,500.0,750.0,1700.0,850.0,800.0,1600.0,500.0,1800.0,1200.0,600.0,800.0,850.0,800.0,350.0,800.0,1500.0,800.0,650.0,850.0,700.0,1000.0,1100.0,650.0,450.0,800.0,250.0,600.0,650.0,650.0,550.0,500.0,1100.0,500.0,650.0,700.0,1200.0,1500.0,700.0,400.0,1100.0,500.0,600.0,700.0,650.0,600.0,600.0,700.0,650.0,600.0,450.0,500.0,1000.0,700.0,550.0,600.0,300.0,500.0,150.0,450.0,350.0,300.0,400.0,600.0,150.0,800.0,200.0,300.0,200.0,600.0,300.0,300.0,400.0,500.0,650.0,800.0,150.0,200.0,350.0,350.0,500.0,200.0,500.0,200.0,600.0,40.0,400.0,500.0,600.0,500.0,400.0,200.0,400.0,350.0,400.0,700.0,400.0,200.0,350.0,250.0,250.0,400.0,600.0,200.0,400.0,200.0,400.0,500.0,500.0,350.0,300.0,300.0,1600.0,600.0,1700.0,1500.0,750.0,600.0,600.0,1800.0,850.0,1700.0,750.0,600.0,1000.0,800.0,500.0,500.0,500.0,700.0,500.0,550.0,600.0,600.0,500.0,1800.0,1300.0,400.0,450.0,700.0,250.0,1100.0,600.0,500.0,500.0,500.0,450.0,300.0,150.0,400.0,350.0,150.0,300.0,250.0,200.0,150.0,450.0,350.0,450.0,300.0,250.0,200.0,450.0,500.0,500.0,150.0,500.0,350.0,450.0,300.0,250.0,350.0,400.0,200.0,400.0,500.0,600.0,1800.0,2800.0,3500.0,3000.0,2100.0,2800.0,4000.0,1000.0,1000.0,1700.0,2200.0,2500.0,3000.0,1000.0,1400.0,1000.0,2500.0,3500.0,2000.0,550.0,600.0,3000.0,2400.0,1500.0,6000.0,3000.0,2800.0,1200.0,1000.0,1500.0,1800.0,3000.0,2000.0,700.0,2000.0,700.0,450.0,400.0,150.0,3000.0,2500.0,3000.0,250.0,3000.0,400.0,550.0,150.0,1200.0,3000.0,400.0,1400.0,2400.0,700.0,1900.0,1000.0,450.0,500.0,500.0,400.0,300.0,700.0,2500.0,800.0,1300.0,1500.0,1400.0,1500.0,2000.0,1500.0,2100.0,1400.0,1300.0,1300.0,1400.0,1000.0,1500.0,1500.0,1400.0,1200.0,1100.0,1000.0,1200.0,1400.0,1300.0,1500.0,1100.0,1500.0,1400.0,750.0,1700.0,1600.0,1800.0,1500.0,1000.0,1200.0,1000.0,1600.0,1700.0,1300.0,1800.0,1000.0,1000.0,1800.0,2400.0,1500.0,2800.0,3000.0,3000.0,3000.0,1200.0,1400.0,2400.0,1400.0,1300.0,1000.0,2000.0,1200.0,1500.0,1500.0,2500.0,1400.0,1300.0,1300.0,1400.0,1100.0,1500.0,1500.0,800.0,1200.0,1100.0,1000.0,1200.0,1300.0,1500.0,1100.0,900.0,1500.0,1400.0,750.0,1700.0,1000.0,1200.0,1000.0,1700.0,1700.0,1300.0,1800.0,1000.0,1000.0,1400.0,1000.0,1800.0,1500.0,1200.0,1800.0,3000.0,1200.0,1400.0,1100.0,1000.0,950.0,1000.0,1500.0,750.0,600.0,550.0,1350.0,1200.0,1600.0,900.0,1600.0,1200.0,1000.0,800.0,1100.0,1000.0,800.0,600.0,800.0,900.0,1000.0,950.0,800.0,800.0,800.0,800.0,500.0,400.0,800.0,800.0,850.0,700.0,800.0,400.0,650.0,700.0,750.0,400.0,300.0,150.0,400.0,650.0,550.0,650.0,400.0,450.0,400.0,600.0,600.0,600.0,1000.0,600.0,600.0,500.0,600.0,600.0,650.0,400.0,550.0,400.0,700.0,500.0,600.0,700.0,600.0,650.0,600.0,400.0,500.0,500.0,700.0,500.0,500.0,250.0,300.0,200.0,300.0,400.0,400.0,450.0,900.0,400.0,450.0,400.0,400.0,150.0,500.0,300.0,500.0,150.0,800.0,600.0,600.0,200.0,500.0,550.0,250.0,300.0,400.0,400.0,200.0,300.0,500.0,200.0,450.0,600.0,800.0,250.0,500.0,400.0,400.0,200.0,400.0,250.0,300.0,700.0,400.0,400.0,200.0,600.0,600.0,800.0,600.0,500.0,300.0,400.0,700.0,150.0,550.0,150.0,300.0,100.0,300.0,800.0,300.0,300.0,350.0,400.0,400.0,500.0,800.0,750.0,600.0,500.0,350.0,400.0,300.0,400.0,700.0,500.0,100.0,200.0,600.0,500.0,450.0,250.0,800.0,300.0,300.0,750.0,650.0,200.0,800.0,1000.0,300.0,250.0,500.0,500.0,300.0,600.0,350.0,650.0,600.0,200.0,650.0,400.0,1200.0,300.0,700.0,200.0,250.0,400.0,400.0,300.0,400.0,1000.0,100.0,600.0,800.0,1000.0,400.0,1200.0,600.0,500.0,800.0,500.0,400.0,200.0,500.0,600.0,900.0,400.0,450.0,650.0,400.0,450.0,800.0,600.0,200.0,400.0,300.0,1600.0,500.0,400.0,650.0,800.0,500.0,600.0,300.0,600.0,500.0,800.0,800.0,250.0,500.0,1500.0,800.0,350.0,300.0,1600.0,400.0,500.0,600.0,250.0,500.0,250.0,300.0,400.0,400.0,200.0,600.0,250.0,200.0,500.0,350.0,800.0,300.0,1200.0,1200.0,450.0,300.0,600.0,800.0,500.0,400.0,400.0,400.0,600.0,1000.0,600.0,700.0,600.0,600.0,400.0,350.0,450.0,200.0,500.0,200.0,1000.0,600.0,500.0,500.0,800.0,900.0,400.0,150.0,400.0,500.0,800.0,800.0,200.0,750.0,500.0,450.0,700.0,230.0,600.0,650.0,1500.0,1500.0,200.0,700.0,800.0,500.0,500.0,200.0,500.0,300.0,250.0,1600.0,200.0,600.0,700.0,300.0,300.0,450.0,200.0,300.0,200.0,900.0,400.0,600.0,450.0,1100.0,500.0,400.0,300.0,1000.0,700.0,300.0,600.0,400.0,150.0,500.0,1200.0,200.0,1200.0,300.0,400.0,200.0,750.0,650.0,300.0,550.0,400.0,800.0,650.0,600.0,700.0,500.0,1200.0,600.0,700.0,800.0,600.0,700.0,300.0,500.0,800.0,150.0,250.0,250.0,100.0,1200.0,200.0,500.0,900.0,350.0,100.0,1200.0,800.0,1500.0,300.0,300.0,500.0,350.0,500.0,250.0,600.0,450.0,400.0,1500.0,500.0,300.0,800.0,1000.0,500.0,750.0,200.0,200.0,800.0,1300.0,700.0,300.0,1500.0,400.0,200.0,600.0,1000.0,400.0,600.0,450.0,450.0,1100.0,300.0,500.0,300.0,700.0,1000.0,400.0,400.0,650.0,800.0,500.0,400.0,400.0,600.0,1300.0,300.0,700.0,600.0,300.0,300.0,400.0,600.0,800.0,650.0,650.0,600.0,1200.0,300.0,200.0,800.0,500.0,500.0,750.0,1000.0,1100.0,400.0,400.0,200.0,800.0,300.0,600.0,650.0,600.0,100.0,400.0,300.0,400.0,800.0,450.0,400.0,900.0,400.0,350.0,400.0,1200.0,1100.0,600.0,800.0,400.0,600.0,750.0,400.0,700.0,250.0,350.0,400.0,400.0,700.0,400.0,500.0,750.0,800.0,400.0,300.0,600.0,950.0,550.0,900.0,400.0,1400.0,500.0,300.0,750.0,700.0,300.0,550.0,450.0,300.0,1000.0,700.0,600.0,900.0,600.0,600.0,500.0,600.0,1000.0,500.0,600.0,300.0,600.0,1500.0,650.0,250.0,1100.0,750.0,400.0,600.0,800.0,500.0,600.0,150.0,700.0,1500.0,300.0,750.0,750.0,600.0,500.0,800.0,500.0,150.0,700.0,1000.0,1200.0,350.0,600.0,150.0,350.0,400.0,800.0,800.0,350.0,300.0,400.0,1000.0,400.0,550.0,600.0,300.0,700.0,900.0,600.0,800.0,850.0,100.0,400.0,700.0,600.0,300.0,550.0,400.0,700.0,1500.0,1400.0,800.0,1350.0,800.0,1200.0,1350.0,550.0,650.0,750.0,800.0,600.0,600.0,400.0,1100.0,1300.0,900.0,250.0,500.0,900.0,700.0,150.0,700.0,1500.0,400.0,300.0,800.0,1300.0,700.0,900.0,1000.0,1000.0,300.0,300.0,1000.0,500.0,600.0,1000.0,800.0,450.0,800.0,400.0,600.0,600.0,650.0,550.0,1200.0,600.0,1200.0,800.0,550.0,700.0,450.0,900.0,500.0,300.0,500.0,500.0,450.0,550.0,550.0,600.0,600.0,450.0,1000.0,600.0,1000.0,1300.0,600.0,200.0,300.0,550.0,900.0,100.0,700.0,200.0,350.0,400.0,600.0,600.0,650.0,1200.0,800.0,650.0,1200.0,800.0,300.0,400.0,200.0,600.0,800.0,800.0,450.0,200.0,650.0,700.0,350.0,250.0,600.0,650.0,200.0,300.0,300.0,150.0,450.0,400.0,600.0,650.0,500.0,900.0,400.0,350.0,500.0,400.0,750.0,400.0,800.0,400.0,800.0,200.0,200.0,200.0,400.0,500.0,800.0,400.0,250.0,400.0,400.0,400.0,200.0,600.0,400.0,350.0,500.0,700.0,400.0,400.0,300.0,400.0,300.0,150.0,300.0,250.0,300.0,200.0,400.0,400.0,400.0,400.0,300.0,700.0,600.0,150.0,600.0,500.0,150.0,500.0,150.0,500.0,600.0,400.0,400.0,230.0,550.0,400.0,100.0,400.0,700.0,500.0,500.0,700.0,200.0,400.0,250.0,600.0,300.0,200.0,200.0,800.0,500.0,400.0,300.0,800.0,1100.0,700.0,1000.0,600.0,1200.0,950.0,800.0,1000.0,1500.0,800.0,650.0,350.0,800.0,800.0,1000.0,1700.0,700.0,1000.0,500.0,1500.0,400.0,750.0,550.0,900.0,600.0,750.0,1200.0,800.0,800.0,800.0,600.0,650.0,1200.0,1200.0,250.0,600.0,850.0,700.0,1000.0,800.0,400.0,1000.0,900.0,600.0,800.0,800.0,500.0,700.0,350.0,900.0,700.0,750.0,400.0,800.0,600.0,450.0,800.0,400.0,550.0,750.0,1350.0,600.0,450.0,750.0,750.0,1000.0,400.0,900.0,500.0,300.0,550.0,550.0,700.0,600.0,500.0,400.0,100.0,1350.0,650.0,400.0,1200.0,650.0,450.0,700.0,300.0,800.0,900.0,850.0,400.0,400.0,200.0,200.0,500.0,1200.0,400.0,150.0,200.0,100.0,400.0,600.0,400.0,200.0,500.0,600.0,400.0,100.0,400.0,500.0,200.0,200.0,400.0,300.0,400.0,200.0,400.0,250.0,300.0,200.0,400.0,150.0,250.0,500.0,350.0,200.0,350.0,650.0,300.0,600.0,400.0,550.0,1500.0,1600.0,1600.0,1200.0,1600.0,1200.0,1500.0,1500.0,1300.0,800.0,600.0,1000.0,800.0,800.0,1200.0,800.0,600.0,1000.0,800.0,800.0,1000.0,800.0,1000.0,800.0,1200.0,1100.0,1500.0,800.0,900.0,600.0,600.0,600.0,1000.0,700.0,700.0,800.0,300.0,1300.0,1300.0,600.0,1000.0,1000.0,800.0,600.0,500.0,500.0,600.0,500.0,300.0,650.0,1100.0,750.0,150.0,400.0,300.0,650.0,650.0,400.0,300.0,650.0,200.0,1000.0,550.0,600.0,250.0,450.0,800.0,900.0,900.0,400.0,400.0,350.0,1000.0,850.0,300.0,100.0,500.0,500.0,700.0,650.0,750.0,400.0,1100.0,400.0,300.0,600.0,300.0,600.0,450.0,450.0,500.0,150.0,150.0,700.0,400.0,1100.0,250.0,200.0,600.0,600.0,700.0,400.0,500.0,400.0,500.0,600.0,600.0,400.0,650.0,600.0,400.0,950.0,400.0,300.0,300.0,400.0,500.0,600.0,600.0,100.0,300.0,300.0,350.0,650.0,300.0,200.0,400.0,500.0,250.0,650.0,600.0,600.0,400.0,600.0,600.0,350.0,300.0,300.0,150.0,200.0,550.0,400.0,450.0,450.0,250.0,300.0,800.0,500.0,600.0,300.0,800.0,400.0,300.0,300.0,300.0,300.0,300.0,150.0,450.0,400.0,400.0,200.0,400.0,650.0,500.0,500.0,400.0,500.0,300.0,700.0,250.0,250.0,500.0,1000.0,1300.0,1200.0,1500.0,1200.0,1350.0,1000.0,1500.0,1500.0,900.0,1600.0,1200.0,1100.0,1200.0,1100.0,1500.0,1000.0,1300.0,1100.0,1100.0,800.0,1100.0,1600.0,1200.0,1000.0,800.0,1000.0,600.0,1000.0,800.0,900.0,1000.0,950.0,900.0,1000.0,1600.0,1000.0,1100.0,600.0,1200.0,1350.0,800.0,600.0,600.0,1000.0,600.0,600.0,700.0,800.0,550.0,650.0,600.0,400.0,600.0,450.0,550.0,700.0,400.0,500.0,500.0,400.0,500.0,600.0,800.0,500.0,850.0,500.0,650.0,500.0,300.0,400.0,750.0,400.0,550.0,650.0,600.0,400.0,400.0,700.0,500.0,250.0,300.0,450.0,600.0,900.0,800.0,400.0,300.0,500.0,400.0,500.0,400.0,200.0,200.0,400.0,600.0,300.0,700.0,400.0,250.0,400.0,600.0,250.0,300.0,400.0,450.0,300.0,250.0,300.0,200.0,400.0,350.0,800.0,250.0,200.0,300.0,150.0,400.0,600.0,350.0,300.0,600.0,300.0,550.0,100.0,750.0,300.0,300.0,500.0,200.0,300.0,700.0,500.0,400.0,400.0,400.0,650.0,800.0,300.0,500.0,400.0,500.0,600.0,750.0,800.0,400.0,250.0,350.0,600.0,500.0,200.0,400.0,200.0,300.0,250.0,600.0,500.0,250.0,1000.0,500.0,700.0,600.0,1200.0,300.0,400.0,400.0,650.0,700.0,400.0,400.0,200.0,400.0,600.0,400.0,400.0,100.0,750.0,400.0,250.0,1200.0,1000.0,900.0,400.0,600.0,800.0,900.0,400.0,400.0,450.0,400.0,700.0,300.0,650.0,350.0,300.0,400.0,300.0,800.0,600.0,300.0,500.0,300.0,300.0,500.0,700.0,400.0,500.0,1600.0,600.0,500.0,600.0,200.0,250.0,1500.0,500.0,300.0,600.0,400.0,400.0,350.0,500.0,1200.0,650.0,600.0,500.0,400.0,500.0,600.0,350.0,1200.0,200.0,200.0,500.0,450.0,600.0,400.0,800.0,400.0,600.0,750.0,1000.0,800.0,450.0,500.0,400.0,450.0,250.0,250.0,700.0,750.0,230.0,500.0,100.0,250.0,500.0,750.0,300.0,250.0,300.0,600.0,300.0,400.0,600.0,400.0,1100.0,700.0,1200.0,1200.0,750.0,400.0,500.0,1000.0,800.0,600.0,200.0,800.0,200.0,600.0,700.0,800.0,100.0,150.0,500.0,450.0,300.0,600.0,400.0,1000.0,200.0,350.0,600.0,700.0,500.0,400.0,250.0,400.0,800.0,500.0,250.0,1500.0,400.0,500.0,300.0,700.0,500.0,1300.0,300.0,300.0,300.0,300.0,450.0,650.0,800.0,400.0,800.0,500.0,600.0,1200.0,300.0,650.0,400.0,400.0,800.0,700.0,1100.0,400.0,400.0,650.0,900.0,1200.0,650.0,300.0,650.0,800.0,350.0,300.0,400.0,1300.0,400.0,1200.0,700.0,350.0,650.0,800.0,1100.0,550.0,400.0,500.0,750.0,400.0,900.0,300.0,700.0,450.0,650.0,500.0,300.0,1200.0,400.0,400.0,300.0,1000.0,200.0,200.0,400.0,500.0,200.0,800.0,750.0,500.0,900.0,300.0,700.0,700.0,500.0,600.0,350.0,150.0,800.0,750.0,1000.0,500.0,600.0,800.0,600.0,600.0,800.0,700.0,250.0,700.0,400.0,800.0,350.0,600.0,1700.0,300.0,400.0,600.0,400.0,700.0,500.0,200.0,700.0,600.0,600.0,1000.0,450.0,650.0,600.0,600.0,550.0,900.0,300.0,300.0,500.0,400.0,1200.0,450.0,650.0,800.0,800.0,400.0,600.0,1100.0,750.0,500.0,800.0,500.0,600.0,150.0,700.0,100.0,500.0,900.0,1000.0,800.0,400.0,1000.0,1700.0,1000.0,800.0,550.0,500.0,600.0,1200.0,600.0,600.0,450.0,350.0,800.0,550.0,500.0,650.0,800.0,450.0,1350.0,1000.0,600.0,550.0,500.0,600.0,1000.0,300.0,550.0,600.0,450.0,650.0,500.0,600.0,1350.0,300.0,500.0,200.0,800.0,500.0,400.0,200.0,500.0,450.0,400.0,550.0,300.0,750.0,900.0,250.0,400.0,500.0,500.0,900.0,700.0,600.0,500.0,300.0,400.0,600.0,500.0,400.0,500.0,400.0,550.0,200.0,200.0,200.0,250.0,600.0,500.0,500.0,400.0,600.0,250.0,800.0,400.0,100.0,500.0,300.0,400.0,200.0,400.0,400.0,400.0,800.0,400.0,500.0,400.0,600.0,300.0,400.0,700.0,150.0,300.0,500.0,400.0,300.0,250.0,200.0,400.0,400.0,300.0,230.0,300.0,1200.0,1500.0,1200.0,1600.0,1200.0,1600.0,1000.0,1500.0,1300.0,1200.0,1200.0,800.0,1300.0,800.0,1000.0,800.0,1500.0,800.0,600.0,750.0,1200.0,700.0,800.0,1100.0,900.0,800.0,550.0,1300.0,1100.0,600.0,1000.0,800.0,1200.0,1300.0,1100.0,600.0,1000.0,600.0,750.0,1000.0,1000.0,800.0,500.0,600.0,750.0,700.0,700.0,600.0,300.0,400.0,700.0,700.0,500.0,350.0,500.0,950.0,400.0,450.0,300.0,800.0,650.0,450.0,400.0,650.0,900.0,550.0,600.0,850.0,600.0,500.0,400.0,400.0,1000.0,400.0,600.0,1100.0,650.0,1000.0,500.0,450.0,950.0,600.0,650.0,500.0,700.0,550.0,750.0,450.0,400.0,750.0,750.0,500.0,800.0,650.0,800.0,600.0,700.0,750.0,300.0,500.0,500.0,300.0,300.0,400.0,700.0,300.0,400.0,300.0,400.0,100.0,450.0,500.0,500.0,400.0,400.0,500.0,200.0,500.0,450.0,100.0,250.0,400.0,250.0,200.0,400.0,600.0,300.0,300.0,200.0,600.0,350.0,200.0,150.0,300.0,800.0,300.0,200.0,400.0,300.0,900.0,1200.0,1500.0,1200.0,1000.0,800.0,1000.0,1000.0,550.0,800.0,1000.0,800.0,800.0,500.0,600.0,400.0,500.0,500.0,600.0,500.0,450.0,1000.0,600.0,650.0,600.0,800.0,800.0,750.0,250.0,400.0,400.0,250.0,350.0,600.0,400.0,600.0,600.0,1100.0,400.0,300.0,300.0,250.0,1600.0,450.0,1100.0,800.0,1000.0,1100.0,1000.0,800.0,800.0,500.0,800.0,650.0,1000.0,1700.0,250.0,1200.0,550.0,800.0,850.0,600.0,600.0,350.0,500.0,500.0,600.0,900.0,400.0,500.0,500.0,650.0,600.0,700.0,550.0,400.0,1350.0,1200.0,500.0,300.0,250.0,750.0,300.0,400.0,750.0,1000.0,200.0,100.0,300.0,400.0,700.0,500.0,200.0,300.0,400.0,150.0,500.0,450.0,700.0,300.0,300.0,500.0,600.0,200.0,400.0,500.0,500.0,500.0,400.0,400.0,800.0,300.0,350.0,300.0,200.0,500.0,400.0,550.0,550.0,650.0,600.0,400.0,500.0,400.0,350.0,250.0,450.0,550.0,250.0,300.0,300.0,300.0,1350.0,900.0,400.0,400.0,400.0,300.0,700.0,650.0,250.0,1000.0,1300.0,1500.0,1200.0,1600.0,1200.0,1500.0,1200.0,1200.0,1300.0,1100.0,1100.0,1000.0,1100.0,900.0,1200.0,1100.0,1350.0,1400.0,1400.0,1600.0,800.0,600.0,750.0,1500.0,800.0,1000.0,1400.0,750.0,800.0,900.0,1200.0,700.0,700.0,500.0,700.0,600.0,700.0,900.0,700.0,500.0,650.0,650.0,350.0,600.0,700.0,800.0,1000.0,800.0,650.0,500.0,500.0,500.0,550.0,500.0,400.0,450.0,350.0,300.0,400.0,800.0,400.0,800.0,600.0,400.0,300.0,350.0,450.0,600.0,200.0,300.0,300.0,400.0,600.0,600.0,650.0,100.0,400.0,450.0,600.0,300.0,500.0,400.0,500.0,750.0,650.0,400.0,400.0,450.0,400.0,300.0,600.0,500.0,600.0,550.0,400.0,500.0,700.0,1500.0,600.0,550.0,300.0,500.0,500.0,450.0,700.0,500.0,700.0,600.0,600.0,500.0,400.0,150.0,600.0,400.0,500.0,400.0,400.0,800.0,1300.0,750.0,400.0,250.0,900.0,1400.0,500.0,450.0,500.0,400.0,450.0,300.0,800.0,500.0,500.0,650.0,400.0,450.0,500.0,1200.0,600.0,650.0,500.0,200.0,350.0,1200.0,400.0,500.0,350.0,800.0,300.0,400.0,400.0,700.0,500.0,600.0,1050.0,500.0,750.0,600.0,800.0,750.0,500.0,600.0,1400.0,200.0,800.0,400.0,400.0,900.0,300.0,700.0,1500.0,300.0,700.0,550.0,300.0,500.0,650.0,800.0,300.0,750.0,500.0,500.0,350.0,400.0,1000.0,400.0,600.0,600.0,400.0,600.0,750.0,1400.0,250.0,250.0,800.0,150.0,800.0,250.0,1100.0,200.0,550.0,500.0,600.0,900.0,450.0,400.0,700.0,500.0,750.0,600.0,750.0,700.0,150.0,700.0,750.0,500.0,300.0,550.0,500.0,300.0,1400.0,800.0,800.0,650.0,750.0,1200.0,600.0,1800.0,700.0,500.0,400.0,600.0,400.0,900.0,400.0,700.0,1100.0,550.0,650.0,1000.0,1500.0,500.0,1000.0,600.0,1000.0,700.0,400.0,600.0,350.0,500.0,700.0,1000.0,500.0,600.0,500.0,800.0,1400.0,700.0,800.0,500.0,1300.0,650.0,600.0,400.0,1500.0,450.0,400.0,650.0,1000.0,550.0,800.0,500.0,700.0,600.0,800.0,1000.0,600.0,300.0,600.0,800.0,450.0,600.0,450.0,300.0,1200.0,500.0,250.0,300.0,650.0,600.0,700.0,350.0,500.0,250.0,300.0,300.0,400.0,300.0,1200.0,250.0,700.0,250.0,400.0,700.0,400.0,300.0,200.0,400.0,500.0,500.0,600.0,700.0,500.0,300.0,300.0,600.0,650.0,1000.0,400.0,400.0,800.0,350.0,400.0,300.0,150.0,500.0,650.0,450.0,150.0,1400.0,1800.0,1200.0,1400.0,1400.0,1400.0,1600.0,900.0,1100.0,800.0,800.0,600.0,800.0,1200.0,800.0,750.0,1000.0,700.0,800.0,1400.0,1300.0,1500.0,700.0,600.0,750.0,750.0,1500.0,1300.0,650.0,1400.0,800.0,1200.0,600.0,600.0,800.0,1100.0,700.0,500.0,700.0,1200.0,900.0,1000.0,1300.0,700.0,600.0,700.0,500.0,600.0,1000.0,400.0,600.0,400.0,800.0,600.0,900.0,600.0,700.0,800.0,400.0,500.0,750.0,650.0,500.0,650.0,500.0,750.0,800.0,700.0,600.0,600.0,1000.0,350.0,500.0,750.0,700.0,250.0,500.0,500.0,350.0,400.0,400.0,250.0,300.0,500.0,300.0,600.0,450.0,300.0,200.0,500.0,650.0,350.0,200.0,150.0,200.0,400.0,600.0,800.0,600.0,1500.0,450.0,800.0,1200.0,1500.0,600.0,600.0,1400.0,800.0,700.0,300.0,450.0,650.0,550.0,400.0,650.0,800.0,1400.0,700.0,750.0,700.0,650.0,750.0,600.0,1000.0,800.0,600.0,700.0,700.0,500.0,700.0,550.0,450.0,300.0,400.0,400.0,600.0,250.0,300.0,600.0,450.0,500.0,350.0,300.0,450.0,500.0,550.0,400.0,300.0,250.0,300.0,550.0,400.0,300.0,500.0,450.0,350.0,750.0,450.0,650.0,1100.0,700.0,1000.0,600.0,500.0,500.0,300.0,300.0,600.0,1050.0,200.0,250.0,600.0,500.0,600.0,600.0,500.0,200.0,600.0,400.0,400.0,1200.0,500.0,400.0,250.0,600.0,550.0,500.0,500.0,300.0,300.0,400.0,400.0,400.0,1400.0,1800.0,1400.0,1200.0,1300.0,1500.0,1200.0,1200.0,1300.0,1500.0,500.0,1100.0,1200.0,800.0,600.0,800.0,1000.0,800.0,900.0,1200.0,700.0,700.0,500.0,700.0,700.0,500.0,600.0,700.0,500.0,900.0,700.0,500.0,650.0,450.0,550.0,350.0,650.0,700.0,500.0,400.0,450.0,350.0,350.0,600.0,500.0,400.0,300.0,750.0,300.0,250.0,400.0,600.0,300.0,800.0,800.0,450.0,300.0,400.0,400.0,500.0,650.0,500.0,400.0,600.0,300.0,400.0,450.0,300.0,750.0,100.0,600.0,200.0,600.0,300.0,400.0,400.0,450.0,400.0,400.0,400.0,500.0,750.0,650.0,750.0,500.0,400.0,700.0,300.0,1500.0,1400.0,500.0,400.0,150.0,350.0,700.0,700.0,500.0,450.0,400.0,700.0,500.0,600.0,200.0,400.0,600.0,800.0,450.0,500.0,500.0,400.0,600.0,300.0,600.0,500.0,600.0,1300.0,300.0,800.0,150.0,650.0,400.0,250.0,650.0,750.0,500.0,600.0,1200.0,650.0,500.0,550.0,300.0,450.0,600.0,400.0,1400.0,350.0,600.0,700.0,400.0,1400.0,700.0,700.0,500.0,450.0,1000.0,500.0,400.0,550.0,500.0,200.0,600.0,800.0,750.0,400.0,450.0,400.0,650.0,1000.0,800.0,700.0,500.0,500.0,300.0,600.0,500.0,300.0,400.0,1300.0,300.0,600.0,700.0,450.0,200.0,750.0,650.0,500.0,1500.0,500.0,350.0,450.0,500.0,750.0,800.0,600.0,300.0,400.0,400.0,900.0,900.0,450.0,600.0,1000.0,150.0,1000.0,550.0,600.0,750.0,500.0,350.0,600.0,500.0,550.0,800.0,600.0,300.0,400.0,800.0,600.0,250.0,400.0,600.0,700.0,350.0,800.0,600.0,450.0,500.0,500.0,250.0,600.0,300.0,1100.0,500.0,500.0,700.0,550.0,250.0,400.0,700.0,800.0,500.0,600.0,600.0,500.0,400.0,900.0,500.0,800.0,1050.0,650.0,700.0,400.0,750.0,1500.0,400.0,1000.0,400.0,400.0,600.0,800.0,700.0,700.0,800.0,450.0,1200.0,1100.0,800.0,300.0,500.0,800.0,1400.0,850.0,800.0,300.0,1400.0,500.0,500.0,400.0,550.0,1000.0,200.0,1200.0,300.0,600.0,200.0,1800.0,800.0,900.0,1200.0,750.0,500.0,600.0,500.0,200.0,500.0,700.0,400.0,100.0,350.0,300.0,650.0,700.0,300.0,600.0,400.0,650.0,1000.0,300.0,250.0,700.0,1200.0,800.0,400.0,350.0,400.0,150.0,400.0,700.0,400.0,400.0,300.0,200.0,400.0,500.0,500.0,600.0,700.0,400.0,450.0,300.0,500.0,300.0,300.0,300.0,150.0,600.0,650.0,1000.0,650.0,500.0,100.0,500.0,600.0,800.0,600.0,1500.0,450.0,800.0,1200.0,600.0,800.0,1400.0,300.0,450.0,650.0,550.0,400.0,800.0,550.0,1400.0,700.0,750.0,700.0,750.0,800.0,600.0,700.0,700.0,500.0,700.0,600.0,550.0,450.0,300.0,250.0,400.0,400.0,600.0,250.0,300.0,450.0,600.0,500.0,350.0,450.0,500.0,600.0,400.0,300.0,300.0,550.0,400.0,300.0,500.0,450.0,1400.0,1400.0,1800.0,2000.0,1600.0,900.0,1100.0,800.0,800.0,800.0,1200.0,800.0,1200.0,350.0,800.0,750.0,1000.0,700.0,400.0,800.0,1400.0,1400.0,750.0,1500.0,1300.0,700.0,600.0,450.0,750.0,750.0,1500.0,1500.0,600.0,1300.0,200.0,650.0,700.0,1400.0,800.0,1100.0,1200.0,700.0,1000.0,600.0,600.0,800.0,800.0,1100.0,650.0,700.0,500.0,600.0,700.0,1200.0,500.0,900.0,650.0,500.0,1000.0,1300.0,600.0,600.0,600.0,500.0,600.0,1000.0,600.0,400.0,600.0,800.0,500.0,600.0,900.0,600.0,700.0,1050.0,800.0,1300.0,400.0,500.0,600.0,600.0,600.0,750.0,500.0,600.0,650.0,1200.0,500.0,400.0,500.0,450.0,650.0,500.0,750.0,800.0,600.0,700.0,500.0,550.0,600.0,1000.0,350.0,500.0,750.0,700.0,250.0,500.0,300.0,500.0,400.0,200.0,250.0,400.0,250.0,200.0,300.0,500.0,450.0,300.0,300.0,500.0,200.0,600.0,300.0,400.0,450.0,300.0,200.0,400.0,250.0,500.0,650.0,500.0,500.0,400.0,300.0,200.0,300.0,400.0,150.0,400.0,400.0,500.0,300.0,700.0,400.0,1400.0,1800.0,2000.0,500.0,1200.0,1500.0,1300.0,1500.0,1100.0,1200.0,1200.0,1300.0,1200.0,1300.0,1500.0,1400.0,600.0,1000.0,1700.0,1500.0,2000.0,1200.0,1000.0,1500.0,1600.0,1500.0,1300.0,1500.0,1500.0,2000.0,1500.0,750.0,900.0,1100.0,1100.0,600.0,1000.0,1400.0,700.0,800.0,2000.0,1000.0,900.0,1000.0,3000.0,1000.0,1200.0,1500.0,800.0,400.0,600.0,800.0,1100.0,1000.0,800.0,600.0,600.0,800.0,600.0,850.0,700.0,700.0,700.0,650.0,650.0,500.0,300.0,450.0,900.0,800.0,1300.0,500.0,400.0,600.0,600.0,600.0,900.0,500.0,1000.0,600.0,900.0,800.0,800.0,900.0,1000.0,800.0,700.0,550.0,700.0,600.0,800.0,700.0,800.0,300.0,700.0,900.0,600.0,1200.0,600.0,650.0,800.0,200.0,1200.0,900.0,650.0,700.0,600.0,700.0,450.0,350.0,500.0,400.0,800.0,600.0,600.0,600.0,600.0,600.0,800.0,500.0,450.0,600.0,250.0,700.0,600.0,1600.0,750.0,900.0,700.0,800.0,450.0,600.0,600.0,500.0,500.0,300.0,250.0,800.0,450.0,400.0,900.0,500.0,800.0,100.0,600.0,800.0,200.0,400.0,450.0,500.0,300.0,250.0,400.0,500.0,500.0,200.0,600.0,200.0,650.0,600.0,400.0,250.0,150.0,600.0,300.0,400.0,400.0,300.0,400.0,250.0,250.0,300.0,550.0,400.0,300.0,600.0,400.0,750.0,250.0,450.0,600.0,400.0,500.0,600.0,400.0,700.0,400.0,150.0,750.0,300.0,250.0,400.0,350.0,300.0,400.0,400.0,650.0,300.0,800.0,600.0,200.0,550.0,500.0,500.0,400.0,300.0,450.0,650.0,300.0,400.0,150.0,800.0,500.0,500.0,150.0,200.0,750.0,250.0,350.0,500.0,350.0,600.0,500.0,600.0,200.0,650.0,300.0,300.0,300.0,500.0,800.0,500.0,300.0,100.0,750.0,600.0,500.0,300.0,300.0,300.0,500.0,600.0,800.0,400.0,400.0,250.0,200.0,300.0,300.0,700.0,700.0,1000.0,400.0,400.0,500.0,450.0,300.0,400.0,700.0,400.0,450.0,550.0,400.0,600.0,600.0,600.0,400.0,400.0,300.0,600.0,450.0,300.0,450.0,300.0,400.0,650.0,400.0,300.0,1000.0,450.0,600.0,200.0,700.0,300.0,600.0,800.0,600.0,400.0,800.0,400.0,1200.0,700.0,800.0,500.0,200.0,500.0,500.0,1200.0,750.0,400.0,350.0,300.0,550.0,750.0,300.0,800.0,250.0,1500.0,500.0,400.0,350.0,250.0,400.0,400.0,600.0,200.0,600.0,800.0,1000.0,600.0,650.0,600.0,1000.0,250.0,750.0,400.0,400.0,600.0,150.0,800.0,350.0,600.0,600.0,500.0,600.0,800.0,300.0,450.0,500.0,450.0,600.0,400.0,400.0,450.0,1000.0,600.0,900.0,1200.0,300.0,800.0,750.0,400.0,550.0,550.0,200.0,300.0,600.0,600.0,750.0,500.0,500.0,600.0,400.0,400.0,350.0,500.0,600.0,450.0,400.0,400.0,250.0,800.0,300.0,1300.0,150.0,500.0,600.0,900.0,500.0,200.0,500.0,1500.0,300.0,500.0,200.0,500.0,500.0,230.0,400.0,500.0,300.0,250.0,1500.0,300.0,750.0,300.0,200.0,700.0,900.0,400.0,1600.0,300.0,900.0,500.0,200.0,500.0,500.0,600.0,1200.0,300.0,600.0,400.0,500.0,700.0,150.0,300.0,1000.0,700.0,200.0,700.0,180.0,450.0,400.0,40.0,200.0,200.0,600.0,700.0,600.0,650.0,650.0,700.0,1000.0,300.0,600.0,200.0,550.0,1800.0,250.0,800.0,950.0,850.0,750.0,250.0,900.0,650.0,1000.0,1500.0,1500.0,300.0,500.0,600.0,300.0,250.0,1000.0,1400.0,400.0,1200.0,800.0,600.0,1200.0,700.0,1400.0,300.0,1000.0,500.0,700.0,250.0,750.0,800.0,350.0,800.0,400.0,500.0,200.0,300.0,400.0,300.0,650.0,1500.0,350.0,700.0,1300.0,1500.0,500.0,700.0,500.0,500.0,800.0,650.0,300.0,600.0,1000.0,500.0,300.0,350.0,850.0,300.0,1300.0,500.0,700.0,600.0,600.0,1100.0,450.0,600.0,600.0,600.0,600.0,700.0,600.0,250.0,700.0,800.0,600.0,400.0,400.0,700.0,450.0,1200.0,500.0,150.0,1000.0,900.0,600.0,800.0,500.0,800.0,700.0,350.0,1000.0,1400.0,400.0,700.0,800.0,400.0,1100.0,350.0,250.0,400.0,400.0,900.0,650.0,250.0,400.0,400.0,200.0,500.0,700.0,600.0,500.0,1000.0,200.0,1500.0,900.0,1200.0,450.0,450.0,600.0,400.0,450.0,400.0,300.0,750.0,400.0,600.0,250.0,600.0,1200.0,800.0,600.0,400.0,500.0,500.0,400.0,600.0,750.0,500.0,600.0,400.0,1200.0,400.0,400.0,700.0,300.0,600.0,1000.0,550.0,800.0,400.0,350.0,350.0,1500.0,600.0,1000.0,400.0,400.0,400.0,450.0,800.0,800.0,500.0,1200.0,650.0,500.0,750.0,900.0,300.0,600.0,600.0,1000.0,900.0,300.0,700.0,1000.0,800.0,300.0,900.0,250.0,600.0,250.0,1000.0,600.0,600.0,550.0,900.0,600.0,1500.0,300.0,800.0,350.0,250.0,650.0,500.0,800.0,1400.0,450.0,700.0,750.0,600.0,700.0,400.0,400.0,400.0,800.0,450.0,1300.0,400.0,800.0,350.0,700.0,1300.0,700.0,550.0,500.0,500.0,500.0,1100.0,300.0,500.0,800.0,600.0,900.0,2500.0,500.0,400.0,1700.0,350.0,700.0,150.0,300.0,600.0,400.0,900.0,400.0,400.0,500.0,600.0,450.0,350.0,800.0,650.0,1100.0,150.0,500.0,300.0,500.0,450.0,600.0,800.0,400.0,600.0,600.0,500.0,400.0,300.0,700.0,600.0,800.0,300.0,1100.0,200.0,1300.0,500.0,1000.0,1200.0,1000.0,800.0,600.0,650.0,1000.0,1600.0,2000.0,1400.0,900.0,600.0,400.0,800.0,1300.0,600.0,200.0,1400.0,400.0,500.0,350.0,800.0,900.0,700.0,400.0,650.0,150.0,650.0,1200.0,300.0,200.0,350.0,200.0,200.0,400.0,500.0,250.0,200.0,150.0,500.0,250.0,350.0,150.0,1000.0,1100.0,200.0,400.0,500.0,600.0,550.0,500.0,300.0,200.0,400.0,650.0,300.0,800.0,350.0,500.0,250.0,900.0,200.0,350.0,800.0,900.0,400.0,500.0,550.0,1500.0,700.0,450.0,450.0,2000.0,350.0,1300.0,600.0,500.0,600.0,600.0,400.0,500.0,800.0,1100.0,550.0,1100.0,400.0,400.0,400.0,450.0,650.0,500.0,300.0,400.0,500.0,650.0,200.0,400.0,900.0,400.0,400.0,250.0,400.0,1200.0,500.0,350.0,200.0,250.0,500.0,700.0,200.0,400.0,500.0,300.0,700.0,800.0,150.0,350.0,200.0,200.0,400.0,500.0,200.0,400.0,250.0,400.0,500.0,600.0,450.0,500.0,150.0,200.0,350.0,250.0,500.0,200.0,300.0,400.0,300.0,400.0,500.0,800.0,200.0,400.0,400.0,200.0,350.0,500.0,150.0,350.0,1000.0,1200.0,2100.0,600.0,1800.0,600.0,1400.0,1200.0,800.0,1200.0,1400.0,1300.0,1300.0,600.0,1000.0,800.0,850.0,650.0,1500.0,750.0,800.0,800.0,700.0,1700.0,750.0,1000.0,700.0,750.0,700.0,1500.0,800.0,1200.0,600.0,650.0,1500.0,650.0,500.0,450.0,1300.0,1000.0,250.0,250.0,800.0,450.0,600.0,450.0,400.0,500.0,400.0,400.0,400.0,600.0,600.0,400.0,1400.0,900.0,2000.0,1500.0,2000.0,1000.0,1100.0,1500.0,1200.0,1300.0,1400.0,900.0,1300.0,1600.0,1600.0,700.0,750.0,800.0,1000.0,1000.0,1500.0,1600.0,1500.0,1500.0,1200.0,1800.0,600.0,1300.0,600.0,1500.0,1400.0,1300.0,1500.0,1000.0,600.0,1500.0,1200.0,800.0,500.0,1000.0,1000.0,1400.0,400.0,600.0,1400.0,1200.0,1400.0,600.0,2500.0,650.0,2000.0,1100.0,1500.0,600.0,900.0,750.0,1200.0,1000.0,500.0,1000.0,1000.0,900.0,600.0,1200.0,1500.0,800.0,600.0,1200.0,800.0,800.0,800.0,900.0,1000.0,1000.0,750.0,700.0,550.0,1100.0,550.0,900.0,1100.0,700.0,500.0,1100.0,650.0,650.0,600.0,600.0,1200.0,600.0,800.0,1000.0,500.0,700.0,650.0,750.0,1200.0,800.0,800.0,850.0,800.0,1400.0,1000.0,700.0,700.0,900.0,600.0,650.0,600.0,750.0,1200.0,800.0,600.0,900.0,650.0,1500.0,800.0,1000.0,750.0,1000.0,800.0,500.0,500.0,800.0,200.0,1100.0,1000.0,750.0,1200.0,650.0,700.0,600.0,1400.0,1400.0,700.0,1300.0,750.0,500.0,800.0,700.0,650.0,700.0,1200.0,600.0,750.0,650.0,1700.0,2000.0,700.0,600.0,450.0,150.0,250.0,1000.0,700.0,350.0,800.0,500.0,900.0,250.0,800.0,550.0,600.0,600.0,500.0,800.0,1000.0,500.0,1300.0,250.0,600.0,1000.0,600.0,600.0,750.0,600.0,600.0,500.0,600.0,500.0,400.0,800.0,600.0,1000.0,250.0,500.0,500.0,800.0,700.0,450.0,800.0,700.0,650.0,600.0,400.0,1500.0,600.0,500.0,800.0,500.0,350.0,500.0,900.0,700.0,700.0,500.0,750.0,1200.0,600.0,600.0,400.0,600.0,400.0,500.0,400.0,200.0,350.0,350.0,550.0,300.0,450.0,250.0,400.0,300.0,400.0,200.0,200.0,450.0,250.0,500.0,600.0,500.0,200.0,400.0,600.0,500.0,450.0,300.0,250.0,300.0,250.0,200.0,900.0,250.0,300.0,400.0,600.0,500.0,500.0,400.0,300.0,500.0,400.0,300.0,200.0,500.0,200.0,400.0,300.0,200.0,500.0,350.0,400.0,300.0,300.0,200.0,200.0,600.0,600.0,500.0,600.0,500.0,300.0,200.0,250.0,400.0,300.0,400.0,300.0,600.0,400.0,350.0,300.0,300.0,500.0,550.0,200.0,150.0,450.0,300.0,300.0,400.0,450.0,550.0,300.0,200.0,400.0,350.0,300.0,250.0,400.0,250.0,200.0,800.0,100.0,1200.0,850.0,800.0,1200.0,1600.0,3000.0,1000.0,750.0,1200.0,1200.0,900.0,1700.0,1250.0,700.0,800.0,800.0,800.0,600.0,1500.0,800.0,550.0,650.0,300.0,700.0,1800.0,600.0,900.0,2000.0,800.0,800.0,800.0,800.0,450.0,1300.0,700.0,150.0,400.0,700.0,600.0,1000.0,200.0,900.0,3000.0,600.0,550.0,650.0,1000.0,450.0,400.0,350.0,300.0,600.0,150.0,1200.0,550.0,350.0,800.0,500.0,400.0,400.0,400.0,900.0,800.0,200.0,500.0,600.0,500.0,600.0,600.0,300.0,1800.0,1000.0,500.0,600.0,350.0,600.0,350.0,500.0,300.0,400.0,300.0,1000.0,1100.0,300.0,600.0,500.0,250.0,300.0,400.0,650.0,350.0,300.0,500.0,250.0,400.0,400.0,600.0,300.0,700.0,1400.0,1200.0,1200.0,1800.0,1200.0,1400.0,1300.0,1500.0,1200.0,1500.0,1300.0,2000.0,1500.0,2000.0,1000.0,1100.0,1600.0,2100.0,1600.0,1000.0,1000.0,1500.0,1800.0,1400.0,1000.0,1200.0,1000.0,1200.0,1400.0,2000.0,1200.0,1200.0,1000.0,1400.0,1000.0,1500.0,1000.0,1400.0,1400.0,1300.0,1200.0,1700.0,1300.0,1500.0,1200.0,1200.0,850.0,1600.0,1200.0,1700.0,1400.0,1200.0,1300.0,2000.0,1500.0,1300.0,1500.0,750.0,1100.0,1400.0,700.0,1000.0,1000.0,600.0,1600.0,1500.0,1500.0,1500.0,2000.0,1500.0,1000.0,900.0,1100.0,600.0,1700.0,1500.0,1000.0,800.0,2000.0,1000.0,900.0,1300.0,800.0,900.0,800.0,1300.0,600.0,600.0,900.0,500.0,900.0,800.0,800.0,900.0,800.0,600.0,800.0,300.0,1200.0,650.0,1200.0,450.0,800.0,600.0,300.0,600.0,800.0,650.0,700.0,600.0,600.0,800.0,500.0,400.0,600.0,1000.0,600.0,600.0,1000.0,850.0,1000.0,700.0,500.0,450.0,800.0,800.0,250.0,300.0,200.0,450.0,400.0,900.0,500.0,250.0,400.0,800.0,400.0,600.0,400.0,500.0,600.0,300.0,600.0,400.0,650.0,500.0,250.0,450.0,300.0,250.0,200.0,450.0,400.0,500.0,300.0,300.0,650.0,150.0,400.0,400.0,200.0,250.0,150.0,250.0,250.0,550.0,400.0,600.0,400.0,400.0,300.0,600.0,400.0,750.0,600.0,300.0,300.0,350.0,400.0,900.0,600.0,700.0,600.0,400.0,400.0,600.0,650.0,250.0,400.0,250.0,150.0,800.0,650.0,300.0,500.0,300.0,400.0,500.0,800.0,300.0,500.0,750.0,300.0,500.0,800.0,600.0,500.0,600.0,400.0,350.0,400.0,650.0,300.0,550.0,500.0,450.0,300.0,600.0,150.0,750.0,300.0,500.0,500.0,650.0,400.0,750.0,200.0,600.0,200.0,600.0,500.0,400.0,200.0,450.0,250.0,400.0,700.0,400.0,600.0,800.0,250.0,400.0,450.0,400.0,800.0,300.0,700.0,100.0,600.0,650.0,600.0,600.0,400.0,600.0,400.0,450.0,400.0,550.0,700.0,500.0,400.0,300.0,400.0,800.0,200.0,600.0,300.0,500.0,500.0,600.0,1500.0,300.0,550.0,350.0,800.0,600.0,200.0,600.0,600.0,500.0,600.0,1000.0,600.0,300.0,300.0,200.0,800.0,400.0,1000.0,450.0,300.0,800.0,400.0,650.0,400.0,300.0,750.0,300.0,600.0,400.0,300.0,300.0,1200.0,250.0,500.0,300.0,400.0,250.0,400.0,800.0,450.0,800.0,600.0,500.0,600.0,300.0,300.0,250.0,450.0,350.0,500.0,1200.0,1300.0,800.0,600.0,500.0,1000.0,400.0,750.0,300.0,450.0,550.0,900.0,200.0,500.0,1500.0,400.0,600.0,400.0,600.0,400.0,300.0,450.0,1200.0,500.0,700.0,200.0,700.0,200.0,1000.0,1000.0,300.0,600.0,400.0,600.0,600.0,500.0,300.0,600.0,700.0,500.0,1000.0,500.0,600.0,350.0,500.0,650.0,700.0,350.0,400.0,400.0,800.0,400.0,600.0,800.0,700.0,800.0,600.0,800.0,1300.0,700.0,500.0,250.0,1000.0,1000.0,500.0,300.0,500.0,400.0,300.0,200.0,750.0,700.0,750.0,600.0,300.0,400.0,900.0,1400.0,500.0,600.0,200.0,1000.0,500.0,1300.0,600.0,450.0,300.0,40.0,900.0,300.0,500.0,650.0,1200.0,150.0,250.0,1000.0,450.0,900.0,1000.0,500.0,600.0,1000.0,650.0,800.0,600.0,600.0,500.0,300.0,400.0,700.0,450.0,450.0,800.0,700.0,400.0,500.0,500.0,700.0,300.0,200.0,1000.0,200.0,200.0,300.0,400.0,700.0,1000.0,500.0,600.0,1000.0,600.0,900.0,500.0,500.0,350.0,230.0,1500.0,500.0,1200.0,1200.0,1100.0,650.0,900.0,900.0,250.0,700.0,650.0,2500.0,300.0,1500.0,200.0,1000.0,500.0,1000.0,450.0,500.0,500.0,400.0,1300.0,400.0,750.0,800.0,300.0,500.0,1000.0,700.0,800.0,300.0,400.0,1100.0,300.0,300.0,700.0,900.0,550.0,600.0,500.0,400.0,400.0,800.0,150.0,300.0,350.0,700.0,650.0,700.0,1600.0,600.0,1500.0,400.0,1500.0,750.0,250.0,400.0,650.0,150.0,750.0,750.0,200.0,250.0,750.0,250.0,1400.0,900.0,1200.0,200.0,300.0,600.0,800.0,700.0,600.0,450.0,400.0,900.0,600.0,300.0,1500.0,500.0,750.0,1000.0,1200.0,600.0,400.0,1000.0,1000.0,400.0,350.0,350.0,900.0,650.0,1500.0,600.0,400.0,900.0,1500.0,600.0,1200.0,400.0,1100.0,300.0,1500.0,400.0,800.0,1000.0,250.0,600.0,250.0,700.0,450.0,700.0,500.0,150.0,500.0,700.0,400.0,500.0,650.0,600.0,800.0,1300.0,300.0,300.0,700.0,900.0,1100.0,250.0,200.0,750.0,750.0,500.0,550.0,1700.0,500.0,200.0,350.0,800.0,1400.0,300.0,400.0,150.0,350.0,350.0,1200.0,1000.0,400.0,150.0,1200.0,400.0,900.0,600.0,600.0,500.0,400.0,1400.0,1000.0,250.0,300.0,600.0,600.0,250.0,400.0,400.0,1200.0,400.0,700.0,300.0,350.0,1100.0,600.0,200.0,500.0,650.0,400.0,500.0,400.0,400.0,500.0,400.0,600.0,600.0,600.0,800.0,800.0,500.0,200.0,350.0,400.0,300.0,500.0,600.0,800.0,650.0,300.0,150.0,450.0,300.0,400.0,200.0,300.0,600.0,400.0,600.0,300.0,500.0,700.0,400.0,800.0,300.0,500.0,800.0,500.0,700.0,200.0,700.0,600.0,1300.0,500.0,400.0,300.0,550.0,250.0,600.0,350.0,1400.0,2000.0,1100.0,550.0,700.0,600.0,800.0,850.0,650.0,700.0,800.0,800.0,650.0,300.0,200.0,350.0,800.0,600.0,200.0,500.0,500.0,200.0,400.0,500.0,250.0,400.0,200.0,700.0,600.0,450.0,250.0,150.0,500.0,350.0,400.0,600.0,550.0,1000.0,400.0,400.0,400.0,500.0,600.0,550.0,500.0,300.0,200.0,200.0,650.0,300.0,250.0,800.0,500.0,500.0,200.0,800.0,350.0,900.0,400.0,450.0,1500.0,200.0,900.0,500.0,400.0,1300.0,600.0,500.0,400.0,800.0,400.0,400.0,400.0,450.0,500.0,300.0,400.0,650.0,400.0,250.0,400.0,1200.0,500.0,350.0,500.0,200.0,400.0,350.0,400.0,200.0,200.0,400.0,400.0,200.0,350.0,250.0,200.0,400.0,800.0,2000.0,600.0,800.0,600.0,500.0,600.0,400.0,550.0,1100.0,500.0,1100.0,650.0,450.0,500.0,200.0,300.0,400.0,400.0,900.0,200.0,300.0,300.0,250.0,700.0,500.0,300.0,700.0,800.0,150.0,300.0,500.0,200.0,400.0,250.0,400.0,500.0,600.0,450.0,500.0,150.0,500.0,600.0,450.0,300.0,300.0,400.0,500.0,450.0,200.0,250.0,200.0,700.0,700.0,500.0,400.0,1200.0,1300.0,1200.0,1400.0,900.0,2000.0,1000.0,1500.0,1300.0,1400.0,1300.0,900.0,2100.0,1600.0,700.0,750.0,800.0,1000.0,1500.0,1500.0,1500.0,1800.0,1300.0,600.0,1400.0,1000.0,600.0,1200.0,800.0,1400.0,600.0,1400.0,600.0,650.0,900.0,750.0,1200.0,500.0,1000.0,900.0,1200.0,1500.0,800.0,800.0,1200.0,600.0,800.0,900.0,800.0,750.0,550.0,1100.0,650.0,600.0,600.0,500.0,750.0,1200.0,800.0,850.0,800.0,1000.0,700.0,600.0,750.0,1200.0,800.0,650.0,1500.0,1000.0,800.0,500.0,500.0,800.0,1200.0,700.0,1400.0,700.0,750.0,1300.0,750.0,700.0,450.0,150.0,350.0,800.0,550.0,800.0,1000.0,600.0,600.0,500.0,600.0,800.0,600.0,1000.0,500.0,600.0,650.0,500.0,900.0,700.0,500.0,400.0,200.0,350.0,400.0,200.0,500.0,600.0,200.0,600.0,750.0,500.0,250.0,500.0,300.0,250.0,600.0,200.0,300.0,300.0,450.0,250.0,800.0,2000.0,1500.0,1100.0,600.0,1600.0,1800.0,1200.0,1000.0,600.0,1600.0,1200.0,600.0,1400.0,1500.0,1000.0,1200.0,800.0,1500.0,1200.0,1500.0,1400.0,500.0,1000.0,400.0,1200.0,1400.0,1300.0,2500.0,2000.0,1100.0,1500.0,600.0,1300.0,1000.0,1000.0,600.0,1000.0,600.0,800.0,850.0,1000.0,650.0,1000.0,700.0,1500.0,550.0,750.0,800.0,1100.0,900.0,700.0,800.0,500.0,700.0,650.0,1100.0,600.0,1200.0,800.0,1000.0,700.0,650.0,800.0,1700.0,1400.0,750.0,1000.0,900.0,900.0,650.0,600.0,600.0,700.0,750.0,700.0,900.0,1500.0,800.0,1000.0,800.0,200.0,1200.0,1100.0,1000.0,750.0,600.0,650.0,600.0,1400.0,500.0,500.0,800.0,650.0,650.0,700.0,1200.0,750.0,600.0,650.0,1700.0,2000.0,700.0,600.0,250.0,1000.0,1500.0,700.0,500.0,900.0,250.0,600.0,600.0,800.0,500.0,1000.0,500.0,500.0,1300.0,250.0,600.0,600.0,750.0,600.0,450.0,1300.0,500.0,400.0,1000.0,500.0,250.0,250.0,800.0,800.0,700.0,450.0,800.0,700.0,650.0,400.0,1500.0,600.0,500.0,800.0,500.0,350.0,700.0,500.0,1200.0,600.0,450.0,600.0,400.0,600.0,400.0,350.0,550.0,600.0,300.0,450.0,250.0,400.0,300.0,450.0,200.0,450.0,250.0,500.0,400.0,450.0,300.0,250.0,500.0,300.0,200.0,400.0,900.0,300.0,400.0,250.0,600.0,500.0,400.0,500.0,400.0,400.0,300.0,200.0,500.0,200.0,400.0,300.0,200.0,500.0,300.0,350.0,400.0,300.0,300.0,400.0,200.0,600.0,500.0,600.0,500.0,200.0,400.0,400.0,300.0,300.0,400.0,600.0,350.0,300.0,600.0,500.0,550.0,200.0,150.0,600.0,300.0,300.0,400.0,450.0,550.0,300.0,200.0,350.0,300.0,400.0,400.0,250.0,200.0,100.0,1300.0,800.0,900.0,900.0,800.0,800.0,300.0,700.0,1100.0,650.0,900.0,800.0,800.0,1300.0,400.0,600.0,400.0,500.0,800.0,600.0,1000.0,200.0,500.0,600.0,900.0,1000.0,400.0,350.0,700.0,150.0,700.0,900.0,800.0,600.0,300.0,200.0,600.0,400.0,500.0,600.0,300.0,200.0,500.0,600.0,250.0,200.0,350.0,500.0,300.0,400.0,300.0,1000.0,300.0,600.0,500.0,600.0,250.0,300.0,550.0,350.0,400.0,400.0,650.0,300.0,500.0,250.0,400.0,400.0,200.0,500.0,300.0,700.0,200.0,1500.0,1800.0,1000.0,2000.0,2100.0,1600.0,1000.0,1400.0,1000.0,1200.0,1200.0,1000.0,1500.0,1000.0,1400.0,1300.0,2000.0,1500.0,1100.0,1600.0,1800.0,1200.0,1000.0,1400.0,1200.0,1200.0,1400.0,1000.0,1200.0,1400.0,2000.0,1300.0,1200.0,1000.0,1400.0,1500.0,1200.0,1400.0,1200.0,1700.0,1500.0,1300.0,1300.0,1500.0,1200.0,1100.0,2100.0,1000.0,1000.0,1400.0,1000.0,1500.0,1300.0,1400.0,1500.0,1800.0,1200.0,1500.0,1200.0,1000.0,1200.0,1000.0,1300.0,1100.0,1600.0,1800.0,1200.0,1200.0,1500.0,1200.0,1200.0,1400.0,1000.0,1200.0,1400.0,1300.0,800.0,1200.0,1000.0,1400.0,1500.0,1000.0,1200.0,1400.0,1200.0,1700.0,1500.0,1300.0,1300.0,1500.0,1100.0,1300.0,1300.0,2000.0,1400.0,2000.0,600.0,1000.0,900.0,1500.0,1200.0,1500.0,1300.0,1000.0,600.0,1500.0,1500.0,1500.0,1500.0,1100.0,750.0,900.0,1700.0,1000.0,700.0,1500.0,1400.0,800.0,1000.0,2000.0,1000.0,1500.0,800.0,1100.0,1000.0,500.0,600.0,600.0,800.0,700.0,700.0,400.0,600.0,600.0,450.0,250.0,900.0,600.0,800.0,600.0,1300.0,800.0,400.0,600.0,600.0,600.0,1000.0,800.0,1000.0,900.0,600.0,500.0,800.0,900.0,800.0,550.0,800.0,900.0,850.0,900.0,300.0,700.0,700.0,600.0,700.0,800.0,800.0,1200.0,600.0,1200.0,650.0,700.0,900.0,450.0,200.0,700.0,650.0,600.0,600.0,600.0,800.0,700.0,650.0,350.0,500.0,700.0,300.0,600.0,500.0,700.0,500.0,800.0,600.0,600.0,450.0,900.0,1600.0,600.0,500.0,500.0,450.0,500.0,450.0,800.0,400.0,800.0,300.0,900.0,200.0,250.0,400.0,250.0,300.0,600.0,400.0,400.0,650.0,500.0,600.0,500.0,600.0,600.0,400.0,800.0,500.0,400.0,300.0,300.0,600.0,200.0,500.0,300.0,150.0,300.0,400.0,600.0,400.0,550.0,750.0,150.0,450.0,650.0,500.0,400.0,400.0,300.0,500.0,400.0,400.0,600.0,600.0,800.0,700.0,250.0,400.0,700.0,250.0,800.0,250.0,250.0,750.0,350.0,600.0,600.0,600.0,200.0,350.0,600.0,1000.0,400.0,700.0,400.0,300.0,500.0,400.0,500.0,650.0,500.0,300.0,500.0,300.0,500.0,1000.0,200.0,750.0,400.0,350.0,800.0,400.0,450.0,300.0,500.0,400.0,600.0,550.0,600.0,650.0,300.0,500.0,150.0,300.0,600.0,250.0,500.0,600.0,500.0,800.0,250.0,600.0,600.0,800.0,750.0,300.0,600.0,600.0,450.0,750.0,450.0,500.0,400.0,200.0,250.0,700.0,500.0,300.0,400.0,800.0,600.0,400.0,300.0,400.0,200.0,800.0,1500.0,800.0,300.0,200.0,450.0,300.0,450.0,500.0,500.0,400.0,400.0,550.0,450.0,1000.0,600.0,300.0,550.0,300.0,650.0,500.0,500.0,1200.0,650.0,400.0,200.0,450.0,300.0,500.0,400.0,600.0,500.0,1600.0,600.0,300.0,800.0,300.0,400.0,40.0,500.0,500.0,600.0,400.0,400.0,300.0,800.0,900.0,600.0,1800.0,300.0,400.0,800.0,500.0,650.0,300.0,700.0,450.0,300.0,500.0,200.0,800.0,500.0,500.0,300.0,300.0,350.0,600.0,800.0,400.0,350.0,600.0,350.0,200.0,700.0,1000.0,1200.0,1500.0,350.0,1300.0,600.0,450.0,1200.0,650.0,400.0,500.0,400.0,400.0,1000.0,600.0,600.0,400.0,250.0,1000.0,250.0,300.0,500.0,500.0,600.0,450.0,600.0,1300.0,400.0,600.0,300.0,800.0,300.0,1000.0,500.0,300.0,400.0,800.0,600.0,300.0,500.0,1000.0,600.0,450.0,1600.0,600.0,400.0,800.0,400.0,1300.0,650.0,800.0,200.0,300.0,700.0,250.0,600.0,700.0,600.0,500.0,500.0,600.0,700.0,600.0,400.0,1100.0,750.0,1500.0,400.0,230.0,800.0,500.0,700.0,1500.0,400.0,300.0,300.0,2500.0,600.0,300.0,500.0,1500.0,900.0,700.0,200.0,600.0,600.0,500.0,900.0,900.0,500.0,400.0,600.0,200.0,500.0,1000.0,1200.0,200.0,400.0,500.0,250.0,700.0,500.0,300.0,250.0,600.0,650.0,650.0,500.0,250.0,1200.0,1200.0,800.0,400.0,500.0,1500.0,150.0,700.0,1000.0,350.0,1000.0,700.0,900.0,750.0,700.0,300.0,650.0,500.0,700.0,400.0,400.0,500.0,800.0,400.0,1000.0,1500.0,300.0,600.0,100.0,1000.0,800.0,700.0,700.0,400.0,350.0,350.0,450.0,200.0,400.0,900.0,450.0,300.0,300.0,300.0,600.0,1000.0,1000.0,550.0,200.0,500.0,1500.0,1000.0,400.0,600.0,900.0,150.0,1400.0,750.0,400.0,900.0,300.0,1200.0,600.0,400.0,500.0,1500.0,450.0,450.0,200.0,1100.0,500.0,1700.0,600.0,400.0,350.0,250.0,600.0,700.0,600.0,400.0,400.0,600.0,750.0,600.0,250.0,2000.0,500.0,1500.0,700.0,1000.0,700.0,1300.0,500.0,500.0,800.0,800.0,500.0,600.0,300.0,700.0,450.0,750.0,350.0,150.0,300.0,1200.0,600.0,1200.0,400.0,300.0,1100.0,700.0,300.0,650.0,700.0,300.0,650.0,400.0,1100.0,900.0,450.0,550.0,400.0,750.0,250.0,1200.0,350.0,400.0,800.0,1000.0,400.0,700.0,1200.0,500.0,1000.0,750.0,550.0,600.0,150.0,1400.0,350.0,700.0,300.0,250.0,400.0,250.0,250.0,450.0,200.0,600.0,600.0,1000.0,200.0,300.0,750.0,250.0,250.0,200.0,600.0,600.0,600.0,600.0,600.0,500.0,150.0,600.0,1000.0,600.0,200.0,800.0,350.0,350.0,650.0,500.0,400.0,400.0,500.0,550.0,300.0,300.0,500.0,1300.0,250.0,500.0,600.0,650.0,150.0,900.0,200.0,700.0,550.0,400.0,800.0,450.0,1400.0,800.0,600.0,150.0,300.0,400.0,200.0,800.0,600.0,300.0,600.0,700.0,250.0,300.0,1000.0,1000.0,1000.0,1400.0,1600.0,300.0,700.0,450.0,900.0,1400.0,800.0,900.0,900.0,1300.0,800.0,1400.0,800.0,650.0,1100.0,400.0,650.0,500.0,800.0,900.0,800.0,850.0,800.0,350.0,1200.0,400.0,650.0,300.0,650.0,200.0,350.0,400.0,150.0,200.0,500.0,400.0,400.0,500.0,600.0,450.0,250.0,150.0,500.0,600.0,300.0,200.0,1000.0,1100.0,400.0,400.0,600.0,500.0,200.0,400.0,650.0,800.0,350.0,700.0,500.0,500.0,250.0,200.0,800.0,350.0,500.0,1500.0,200.0,400.0,600.0,2000.0,500.0,600.0,1100.0,400.0,500.0,250.0,500.0,250.0,300.0,300.0,250.0,400.0,1300.0,600.0,800.0,600.0,600.0,400.0,500.0,800.0,550.0,450.0,450.0,400.0,400.0,300.0,500.0,500.0,400.0,650.0,400.0,1200.0,400.0,1100.0,650.0,300.0,500.0,900.0,350.0,400.0,400.0,300.0,200.0,400.0,250.0,200.0,450.0,300.0,500.0,350.0,200.0,500.0,500.0,200.0,500.0,400.0,400.0,400.0,800.0,700.0,350.0,150.0,200.0,200.0,300.0,400.0,400.0,500.0,400.0,600.0,150.0,700.0,500.0,600.0,200.0,450.0,400.0,400.0,200.0,800.0,450.0,200.0,400.0,200.0,500.0,2000.0,1000.0,500.0,2500.0,1100.0,2000.0,600.0,1100.0,700.0,1000.0,600.0,650.0,800.0,700.0,1000.0,600.0,700.0,1000.0,1400.0,750.0,1000.0,250.0,900.0,1700.0,250.0,250.0,600.0,700.0,800.0,500.0,600.0,250.0,800.0,1500.0,450.0,1300.0,400.0,500.0,1200.0,500.0,750.0,600.0,400.0,600.0,400.0,250.0,300.0,400.0,400.0,200.0,550.0,450.0,400.0,300.0,200.0,400.0,400.0,200.0,600.0,600.0,350.0,200.0,550.0,300.0,400.0,1400.0,900.0,1500.0,2000.0,1000.0,1100.0,1500.0,2100.0,1200.0,600.0,1300.0,1300.0,1400.0,800.0,1800.0,1600.0,1200.0,1600.0,700.0,900.0,1500.0,750.0,1300.0,1500.0,1000.0,1000.0,600.0,1300.0,1500.0,1500.0,1400.0,1800.0,600.0,1200.0,1600.0,1400.0,600.0,1400.0,1000.0,1200.0,800.0,1500.0,1500.0,1200.0,400.0,1000.0,1000.0,1400.0,600.0,1400.0,800.0,1200.0,600.0,1300.0,1200.0,600.0,1300.0,1500.0,1400.0,1200.0,650.0,600.0,550.0,1000.0,1100.0,1000.0,800.0,1000.0,650.0,900.0,600.0,750.0,500.0,1500.0,1500.0,1200.0,800.0,900.0,800.0,550.0,800.0,900.0,800.0,900.0,1700.0,600.0,800.0,750.0,850.0,750.0,800.0,1200.0,1000.0,1200.0,900.0,1000.0,500.0,900.0,750.0,500.0,800.0,700.0,600.0,700.0,1200.0,800.0,600.0,700.0,800.0,650.0,600.0,800.0,800.0,850.0,750.0,1200.0,500.0,600.0,1500.0,750.0,1100.0,1200.0,750.0,1000.0,650.0,1000.0,700.0,700.0,750.0,1200.0,800.0,650.0,800.0,1100.0,650.0,500.0,1500.0,1000.0,450.0,500.0,800.0,1300.0,200.0,750.0,1200.0,600.0,1400.0,800.0,600.0,1000.0,750.0,650.0,700.0,700.0,600.0,650.0,500.0,600.0,600.0,800.0,500.0,1000.0,600.0,600.0,700.0,2000.0,600.0,150.0,250.0,500.0,600.0,800.0,1500.0,700.0,350.0,500.0,800.0,650.0,600.0,550.0,650.0,650.0,700.0,900.0,500.0,600.0,1000.0,800.0,400.0,450.0,1000.0,1300.0,500.0,750.0,700.0,500.0,500.0,700.0,650.0,800.0,1000.0,600.0,700.0,250.0,800.0,500.0,600.0,500.0,600.0,700.0,350.0,450.0,400.0,500.0,600.0,200.0,450.0,250.0,350.0,300.0,450.0,350.0,500.0,300.0,200.0,600.0,400.0,250.0,450.0,600.0,200.0,500.0,500.0,900.0,500.0,250.0,200.0,500.0,300.0,400.0,400.0,600.0,300.0,300.0,400.0,500.0,400.0,400.0,450.0,200.0,200.0,500.0,400.0,500.0,300.0,500.0,300.0,200.0,300.0,600.0,400.0,500.0,400.0,500.0,350.0,300.0,200.0,400.0,300.0,300.0,600.0,150.0,500.0,300.0,400.0,300.0,450.0,250.0,600.0,300.0,600.0,400.0,550.0,200.0,300.0,300.0,350.0,400.0,250.0,800.0,300.0,250.0,350.0,200.0,100.0,1200.0,800.0,1700.0,900.0,1600.0,800.0,700.0,1500.0,1800.0,300.0,800.0,800.0,1000.0,1300.0,900.0,400.0,200.0,1000.0,600.0,600.0,800.0,400.0,500.0,200.0,250.0,400.0,500.0,600.0,200.0,300.0,300.0,300.0,600.0,600.0,1800.0,400.0,250.0,900.0,350.0,300.0,1000.0,1100.0,350.0,600.0,500.0,300.0,400.0,400.0,650.0,500.0,400.0,700.0,400.0,500.0,200.0,300.0,2100.0,1100.0,1300.0,2000.0,1000.0,2000.0,1000.0,1400.0,1700.0,1500.0,1200.0,1500.0,2000.0,1000.0,1800.0,1600.0,1200.0,1600.0,1000.0,1000.0,1500.0,1400.0,1800.0,1400.0,1200.0,1200.0,1000.0,1400.0,1200.0,1200.0,1300.0,1400.0,1200.0,1200.0,1500.0,1000.0,1000.0,1200.0,1500.0,1300.0,1200.0,1400.0,1500.0,1300.0,1200.0,1700.0,1600.0,1400.0,1200.0,2000.0,1500.0,1500.0,1500.0,800.0,1000.0,1500.0,1300.0,1500.0,1300.0,1000.0,600.0,1500.0,2000.0,600.0,1100.0,750.0,900.0,1700.0,1000.0,700.0,1100.0,1500.0,1000.0,1400.0,2000.0,900.0,1000.0,1300.0,1100.0,800.0,1000.0,800.0,1000.0,550.0,700.0,600.0,900.0,650.0,700.0,350.0,600.0,650.0,900.0,600.0,800.0,600.0,1300.0,800.0,500.0,400.0,600.0,600.0,600.0,800.0,1000.0,900.0,600.0,500.0,800.0,900.0,800.0,900.0,850.0,600.0,900.0,300.0,700.0,800.0,600.0,700.0,800.0,800.0,700.0,1200.0,1200.0,650.0,700.0,450.0,200.0,700.0,600.0,600.0,600.0,800.0,650.0,500.0,700.0,400.0,300.0,500.0,600.0,600.0,700.0,500.0,800.0,450.0,250.0,450.0,600.0,900.0,1000.0,700.0,700.0,600.0,600.0,500.0,600.0,500.0,450.0,500.0,450.0,250.0,800.0,300.0,400.0,400.0,400.0,800.0,900.0,200.0,250.0,300.0,600.0,400.0,400.0,650.0,500.0,250.0,600.0,500.0,600.0,600.0,400.0,800.0,450.0,500.0,400.0,300.0,200.0,500.0,300.0,150.0,300.0,600.0,400.0,550.0,150.0,450.0,500.0,400.0,400.0,500.0,400.0,400.0,400.0,600.0,600.0,800.0,250.0,700.0,250.0,300.0,400.0,900.0,700.0,250.0,450.0,300.0,800.0,250.0,250.0,750.0,350.0,600.0,600.0,600.0,200.0,350.0,600.0,400.0,700.0,500.0,600.0,200.0,400.0,300.0,500.0,650.0,500.0,300.0,500.0,350.0,500.0,600.0,200.0,300.0,750.0,800.0,400.0,350.0,800.0,400.0,450.0,400.0,300.0,300.0,500.0,400.0,600.0,550.0,600.0,650.0,300.0,500.0,150.0,300.0,600.0,250.0,650.0,400.0,800.0,200.0,1000.0,250.0,600.0,1200.0,700.0,600.0,800.0,400.0,750.0,400.0,300.0,600.0,450.0,750.0,450.0,500.0,400.0,200.0,100.0,250.0,650.0,500.0,300.0,400.0,500.0,1200.0,400.0,400.0,200.0,800.0,400.0,1500.0,800.0,400.0,300.0,200.0,450.0,400.0,400.0,450.0,1000.0,600.0,700.0,250.0,300.0,200.0,600.0,400.0,650.0,500.0,650.0,650.0,400.0,200.0,450.0,500.0,400.0,600.0,500.0,600.0,300.0,800.0,300.0,400.0,500.0,400.0,600.0,800.0,900.0,600.0,300.0,400.0,800.0,500.0,650.0,300.0,700.0,450.0,300.0,500.0,500.0,200.0,800.0,500.0,300.0,500.0,300.0,600.0,800.0,400.0,350.0,200.0,300.0,700.0,1000.0,1200.0,1500.0,350.0,200.0,1300.0,600.0,1000.0,450.0,1200.0,300.0,350.0,650.0,500.0,400.0,600.0,300.0,600.0,250.0,500.0,800.0,1000.0,600.0,250.0,300.0,500.0,500.0,500.0,600.0,450.0,600.0,1300.0,400.0,300.0,400.0,300.0,1000.0,500.0,800.0,300.0,500.0,200.0,800.0,600.0,300.0,500.0,600.0,450.0,1600.0,600.0,400.0,400.0,1300.0,1000.0,400.0,750.0,700.0,650.0,800.0,1000.0,300.0,700.0,600.0,600.0,1500.0,500.0,700.0,400.0,1100.0,750.0,1500.0,400.0,230.0,500.0,700.0,400.0,300.0,2500.0,1200.0,300.0,250.0,600.0,300.0,900.0,350.0,1500.0,200.0,900.0,700.0,200.0,600.0,600.0,900.0,900.0,500.0,500.0,400.0,600.0,500.0,500.0,1200.0,1000.0,200.0,400.0,500.0,700.0,500.0,180.0,300.0,550.0,400.0,250.0,600.0,650.0,500.0,250.0,300.0,450.0,600.0,1200.0,800.0,800.0,400.0,500.0,1500.0,150.0,700.0,1000.0,1000.0,700.0,900.0,750.0,700.0,500.0,650.0,500.0,700.0,400.0,150.0,400.0,400.0,400.0,400.0,1500.0,300.0,600.0,400.0,400.0,100.0,1200.0,300.0,1000.0,800.0,700.0,350.0,350.0,450.0,200.0,200.0,400.0,400.0,600.0,300.0,300.0,200.0,300.0,500.0,600.0,1000.0,1000.0,550.0,200.0,300.0,500.0,1500.0,1000.0,250.0,400.0,600.0,900.0,150.0,1400.0,750.0,400.0,1000.0,900.0,300.0,1200.0,300.0,600.0,400.0,300.0,1500.0,450.0,450.0,200.0,1100.0,400.0,800.0,1700.0,1500.0,600.0,400.0,600.0,800.0,600.0,400.0,700.0,400.0,1000.0,600.0,700.0,700.0,750.0,600.0,250.0,400.0,150.0,1200.0,400.0,700.0,100.0,1000.0,900.0,700.0,1300.0,500.0,500.0,800.0,550.0,800.0,500.0,600.0,300.0,700.0,750.0,500.0,350.0,300.0,650.0,600.0,1200.0,200.0,400.0,1100.0,700.0,300.0,650.0,700.0,400.0,300.0,650.0,400.0,1100.0,600.0,900.0,450.0,550.0,350.0,400.0,750.0,250.0,1200.0,200.0,500.0,350.0,400.0,800.0,500.0,650.0,1000.0,750.0,400.0,700.0,1200.0,500.0,500.0,1000.0,750.0,550.0,600.0,1400.0,400.0,300.0,1000.0,350.0,700.0,750.0,200.0,400.0,250.0,250.0,600.0,600.0,650.0,1000.0,200.0,800.0,300.0,750.0,600.0,600.0,600.0,600.0,600.0,250.0,550.0,400.0,500.0,400.0,150.0,600.0,1000.0,250.0,600.0,100.0,800.0,450.0,500.0,400.0,650.0,500.0,1300.0,400.0,600.0,650.0,350.0,150.0,200.0,700.0,550.0,400.0,800.0,600.0,450.0,500.0,800.0,600.0,300.0,400.0,900.0,200.0,200.0,800.0,900.0,600.0,300.0,600.0,700.0,250.0,1000.0,1000.0,1000.0,1400.0,2000.0,300.0,450.0,700.0,1100.0,900.0,1400.0,1000.0,800.0,900.0,900.0,1300.0,800.0,600.0,1400.0,800.0,650.0,1100.0,400.0,650.0,500.0,550.0,800.0,900.0,800.0,850.0,800.0,350.0,1200.0,400.0,650.0,600.0,150.0,700.0,300.0,200.0,800.0,150.0,500.0,200.0,500.0,200.0,500.0,400.0,400.0,500.0,250.0,200.0,700.0,450.0,250.0,350.0,400.0,600.0,500.0,300.0,200.0,550.0,1000.0,400.0,400.0,400.0,500.0,600.0,550.0,500.0,300.0,200.0,200.0,400.0,650.0,300.0,250.0,800.0,500.0,700.0,500.0,250.0,800.0,500.0,350.0,400.0,500.0,1500.0,500.0,400.0,550.0,400.0,900.0,400.0,300.0,200.0,450.0,250.0,500.0,500.0,800.0,700.0,150.0,600.0,150.0,400.0,2000.0,400.0,1300.0,600.0,800.0,500.0,600.0,600.0,400.0,500.0,800.0,1100.0,450.0,450.0,400.0,400.0,300.0,500.0,500.0,400.0,400.0,1200.0,400.0,1100.0,650.0,500.0,300.0,500.0,350.0,400.0,300.0,400.0,250.0,300.0,500.0,350.0,200.0,200.0,400.0,400.0,350.0,200.0,200.0,300.0,400.0,400.0,500.0,400.0,250.0,500.0,250.0,700.0,500.0,600.0,200.0,450.0,300.0,400.0,300.0,200.0,800.0,450.0,600.0,200.0,200.0,200.0,700.0,400.0,1600.0,2100.0,1500.0,1500.0,1100.0,1500.0,600.0,1500.0,1400.0,550.0,900.0,500.0,600.0,750.0,650.0,1100.0,1000.0,600.0,650.0,650.0,500.0,800.0,1000.0,750.0,700.0,800.0,650.0,750.0,800.0,400.0,750.0,700.0,650.0,700.0,650.0,500.0,700.0,450.0,350.0,300.0,450.0,600.0,900.0,200.0,400.0,400.0,200.0,500.0,200.0,450.0,600.0,400.0,500.0,200.0,250.0,400.0,500.0,300.0,400.0,550.0,200.0,300.0,400.0,300.0,600.0,1400.0,900.0,2000.0,2000.0,1000.0,1500.0,1200.0,600.0,1300.0,1300.0,1400.0,800.0,1200.0,1800.0,1600.0,700.0,900.0,1500.0,750.0,1300.0,1500.0,1000.0,1000.0,600.0,1300.0,1500.0,1400.0,1800.0,1400.0,600.0,1400.0,1000.0,1200.0,800.0,1000.0,1500.0,500.0,1200.0,400.0,1000.0,1000.0,1400.0,600.0,1400.0,800.0,1200.0,1300.0,2500.0,600.0,1300.0,1100.0,1200.0,650.0,550.0,600.0,2000.0,600.0,1100.0,1000.0,800.0,1000.0,650.0,900.0,600.0,500.0,1500.0,1500.0,800.0,1200.0,900.0,800.0,800.0,900.0,1100.0,800.0,900.0,700.0,1700.0,800.0,1000.0,600.0,750.0,850.0,750.0,1200.0,800.0,1000.0,600.0,1200.0,900.0,1000.0,650.0,500.0,750.0,800.0,700.0,700.0,1200.0,800.0,600.0,700.0,800.0,650.0,600.0,800.0,700.0,800.0,1000.0,750.0,600.0,1200.0,500.0,1500.0,750.0,1100.0,1200.0,1000.0,1000.0,650.0,700.0,750.0,700.0,1200.0,800.0,800.0,1300.0,1500.0,450.0,500.0,800.0,200.0,750.0,600.0,1000.0,1400.0,1400.0,800.0,1000.0,750.0,750.0,700.0,700.0,1000.0,600.0,500.0,250.0,600.0,600.0,700.0,2000.0,600.0,150.0,250.0,500.0,600.0,800.0,1500.0,350.0,900.0,600.0,550.0,650.0,1700.0,250.0,700.0,900.0,250.0,600.0,600.0,1000.0,700.0,800.0,450.0,500.0,1000.0,1300.0,600.0,500.0,250.0,700.0,500.0,500.0,800.0,1000.0,600.0,250.0,800.0,1500.0,800.0,450.0,1300.0,500.0,400.0,500.0,1200.0,500.0,350.0,450.0,600.0,400.0,600.0,400.0,400.0,500.0,600.0,200.0,200.0,450.0,250.0,350.0,300.0,400.0,500.0,400.0,200.0,600.0,400.0,250.0,200.0,550.0,200.0,500.0,500.0,400.0,250.0,500.0,300.0,400.0,400.0,600.0,300.0,300.0,200.0,200.0,500.0,200.0,300.0,400.0,500.0,400.0,300.0,200.0,600.0,400.0,600.0,300.0,600.0,350.0,300.0,450.0,200.0,600.0,300.0,600.0,550.0,300.0,250.0,800.0,400.0,350.0,200.0,1600.0,1300.0,1200.0,1100.0,800.0,600.0,1200.0,900.0,1000.0,550.0,800.0,900.0,600.0,800.0,600.0,700.0,300.0,800.0,700.0,400.0,800.0,1100.0,650.0,500.0,1000.0,550.0,650.0,700.0,600.0,250.0,1300.0,300.0,600.0,600.0,1000.0,500.0,900.0,600.0,900.0,800.0,400.0,200.0,1000.0,400.0,600.0,450.0,600.0,350.0,500.0,1000.0,500.0,350.0,200.0,400.0,500.0,500.0,1000.0,700.0,300.0,250.0,500.0,150.0,600.0,500.0,600.0,500.0,300.0,600.0,200.0,300.0,400.0,500.0,300.0,200.0,300.0,300.0,600.0,600.0,600.0,450.0,200.0,400.0,250.0,900.0,500.0,600.0,350.0,300.0,200.0,150.0,250.0,1000.0,400.0,350.0,600.0,600.0,500.0,300.0,400.0,150.0,300.0,550.0,400.0,300.0,400.0,400.0,650.0,500.0,400.0,700.0,400.0,600.0,500.0,250.0,200.0,300.0,1000.0,2000.0,2100.0,1500.0,1100.0,1600.0,1400.0,2000.0,1800.0,1200.0,1600.0,1000.0,1000.0,1500.0,1400.0,1800.0,1400.0,1200.0,1000.0,1200.0,1000.0,1400.0,1200.0,1300.0,1100.0,2000.0,1200.0,1200.0,1000.0,1500.0,1000.0,1000.0,1200.0,1500.0,1300.0,1400.0,1400.0,1500.0,1700.0,1300.0,1500.0,1300.0,1200.0,1100.0,1200.0,1100.0,1000.0,1000.0,1600.0,1100.0,1000.0,1500.0,1400.0,1000.0,1400.0,1500.0,2100.0,1300.0,1400.0,1800.0,1200.0,1500.0,1000.0,1800.0,1200.0,1000.0,1200.0,1400.0,1200.0,1300.0,1100.0,1000.0,1500.0,800.0,1200.0,1200.0,1000.0,1200.0,1000.0,1000.0,1200.0,1500.0,1300.0,1400.0,1500.0,1800.0,1300.0,1500.0,1300.0,1200.0,1100.0,1200.0,1100.0,1300.0,1000.0,1000.0,1600.0,2200.0,1200.0,1400.0,1000.0,1500.0,1600.0,1200.0,1800.0,1500.0,1500.0,2100.0,3000.0,1200.0,1700.0,750.0,3000.0,1500.0,500.0,2500.0,1500.0,3400.0,2000.0,1200.0,800.0,1700.0,1200.0,2000.0,1300.0,1300.0,1600.0,3000.0,1000.0,1000.0,650.0,1400.0,1900.0,800.0,1000.0,1000.0,500.0,1200.0,650.0,2800.0,1600.0,4100.0,3400.0,1300.0,1700.0,1800.0,1100.0,750.0,1200.0,750.0,600.0,1400.0,1100.0,1000.0,1200.0,1100.0,800.0,900.0,1700.0,1000.0,600.0,2500.0,650.0,400.0,900.0,700.0,450.0,700.0,800.0,750.0,650.0,500.0,500.0,400.0,650.0,500.0,600.0,800.0,1000.0,500.0,700.0,800.0,900.0,350.0,1300.0,1100.0,750.0,750.0,300.0,1000.0,750.0,1000.0,500.0,1100.0,600.0,2000.0,500.0,500.0,450.0,400.0,500.0,200.0,550.0,300.0,250.0,500.0,500.0,350.0,650.0,500.0,200.0,750.0,650.0,750.0,400.0,400.0,200.0,800.0,600.0,450.0,400.0,800.0,250.0,500.0,500.0,600.0,400.0,250.0,650.0,1300.0,1600.0,1200.0,500.0,300.0,450.0,750.0,1300.0,500.0,150.0,200.0,350.0,600.0,500.0,500.0,1500.0,400.0,400.0,250.0,800.0,900.0,1600.0,300.0,550.0,1300.0,400.0,900.0,1100.0,400.0,400.0,700.0,700.0,200.0,700.0,500.0,300.0,300.0,400.0,600.0,250.0,350.0,400.0,400.0,500.0,3000.0,700.0,700.0,400.0,1500.0,450.0,300.0,500.0,800.0,180.0,150.0,500.0,750.0,400.0,700.0,500.0,750.0,1200.0,1300.0,1300.0,300.0,850.0,500.0,600.0,1000.0,700.0,1000.0,300.0,800.0,950.0,300.0,800.0,900.0,600.0,800.0,350.0,500.0,1000.0,500.0,300.0,1400.0,1500.0,750.0,550.0,2000.0,550.0,1000.0,600.0,250.0,1400.0,200.0,1500.0,700.0,400.0,400.0,350.0,200.0,450.0,1000.0,700.0,300.0,350.0,400.0,250.0,400.0,2000.0,400.0,750.0,700.0,300.0,700.0,1200.0,800.0,600.0,1000.0,500.0,700.0,300.0,600.0,1200.0,800.0,600.0,650.0,500.0,400.0,2100.0,400.0,2000.0,300.0,600.0,600.0,1000.0,200.0,800.0,600.0,1000.0,1500.0,150.0,400.0,400.0,1200.0,700.0,1200.0,800.0,650.0,400.0,1700.0,600.0,1700.0,800.0,700.0,1500.0,1300.0,300.0,2100.0,600.0,600.0,1700.0,750.0,2100.0,700.0,1500.0,700.0,1700.0,1400.0,650.0,800.0,1000.0,600.0,1000.0,2000.0,750.0,1000.0,1000.0,1400.0,1200.0,850.0,1500.0,300.0,850.0,1000.0,1800.0,550.0,800.0,300.0,500.0,1800.0,1300.0,800.0,700.0,400.0,550.0,800.0,1000.0,550.0,600.0,1000.0,450.0,500.0,1300.0,1000.0,1200.0,1300.0,700.0,250.0,500.0,1300.0,1000.0,1000.0,1500.0,800.0,900.0,1700.0,1100.0,1400.0,550.0,400.0,600.0,750.0,400.0,900.0,500.0,800.0,450.0,800.0,500.0,800.0,150.0,1200.0,500.0,500.0,650.0,400.0,450.0,500.0,200.0,800.0,500.0,1100.0,500.0,200.0,500.0,300.0,450.0,350.0,100.0,300.0,250.0,550.0,500.0,400.0,600.0,1800.0,1600.0,1600.0,600.0,1400.0,300.0,400.0,300.0,400.0,550.0,800.0,800.0,2000.0,1000.0,550.0,400.0,1250.0,400.0,300.0,300.0,700.0,450.0,500.0,1000.0,500.0,450.0,300.0,350.0,400.0,800.0,400.0,400.0,250.0,450.0,300.0,150.0,150.0,250.0,180.0,400.0,500.0,200.0,300.0,200.0,300.0,300.0,500.0,350.0,600.0,900.0,1300.0,1100.0,750.0,700.0,500.0,200.0,300.0,400.0,2200.0,3000.0,1800.0,2500.0,3000.0,3000.0,1500.0,1200.0,1300.0,2100.0,1700.0,1600.0,1500.0,2200.0,1400.0,1500.0,1000.0,1000.0,1500.0,1500.0,1500.0,1300.0,1200.0,1600.0,1000.0,1100.0,600.0,1000.0,1200.0,1200.0,1800.0,2500.0,2000.0,600.0,400.0,350.0,500.0,1700.0,1800.0,1500.0,1500.0,1500.0,2000.0,800.0,2800.0,700.0,1100.0,1500.0,2100.0,1500.0,2000.0,3000.0,2500.0,3500.0,1700.0,1700.0,1500.0,1200.0,1500.0,1300.0,1200.0,700.0,800.0,1600.0,1000.0,1500.0,800.0,2000.0,1500.0,2500.0,2100.0,1000.0,1900.0,1700.0,2000.0,1100.0,1300.0,600.0,900.0,1200.0,1700.0,1400.0,1300.0,1000.0,600.0,2500.0,1400.0,200.0,1500.0,550.0,750.0,1000.0,1500.0,3000.0,1500.0,3000.0,1100.0,650.0,1200.0,2500.0,2000.0,600.0,1400.0,1100.0,3200.0,650.0,750.0,850.0,1800.0,500.0,2500.0,1000.0,1500.0,1000.0,1200.0,3400.0,2000.0,1000.0,1400.0,3500.0,700.0,1600.0,1200.0,400.0,900.0,1500.0,1200.0,800.0,1500.0,1200.0,4000.0,500.0,1300.0,700.0,4000.0,4000.0,1200.0,800.0,600.0,1100.0,1100.0,1000.0,1700.0,2000.0,1200.0,800.0,2000.0,3000.0,2000.0,800.0,2000.0,3500.0,1000.0,1300.0,700.0,1000.0,500.0,800.0,2800.0,2500.0,800.0,500.0,3000.0,750.0,800.0,650.0,1800.0,950.0,1500.0,3000.0,750.0,750.0,1500.0,1000.0,1500.0,550.0,500.0,700.0,500.0,600.0,700.0,800.0,700.0,1200.0,1000.0,300.0,700.0,1300.0,1000.0,500.0,1600.0,500.0,1600.0,3000.0,900.0,450.0,1000.0,650.0,550.0,650.0,1000.0,1000.0,2000.0,350.0,400.0,300.0,3000.0,1200.0,3000.0,400.0,500.0,650.0,800.0,2500.0,700.0,1400.0,500.0,600.0,500.0,800.0,600.0,850.0,700.0,500.0,1900.0,800.0,1000.0,500.0,1300.0,1500.0,250.0,1000.0,1000.0,700.0,500.0,3000.0,600.0,500.0,800.0,600.0,500.0,800.0,1200.0,500.0,550.0,800.0,800.0,1200.0,800.0,600.0,350.0,800.0,700.0,600.0,2500.0,800.0,600.0,1000.0,550.0,250.0,700.0,400.0,300.0,500.0,200.0,300.0,150.0,450.0,300.0,500.0,300.0,300.0,150.0,300.0,450.0,500.0,150.0,300.0,600.0,400.0,250.0,350.0,400.0,200.0,400.0,250.0,400.0,500.0,300.0,400.0,500.0,500.0,400.0,200.0,400.0,350.0,250.0,400.0,500.0,250.0,300.0,300.0,300.0,450.0,300.0,100.0,500.0,1300.0,2800.0,3000.0,2500.0,1600.0,1100.0,1100.0,4100.0,1300.0,3000.0,600.0,2000.0,2000.0,1000.0,1300.0,1100.0,750.0,3400.0,750.0,1800.0,3000.0,1300.0,700.0,1500.0,1700.0,300.0,600.0,1200.0,2300.0,1000.0,750.0,3000.0,2000.0,1000.0,500.0,3000.0,1300.0,750.0,850.0,450.0,700.0,1000.0,600.0,750.0,1800.0,400.0,650.0,500.0,750.0,400.0,500.0,400.0,450.0,150.0,200.0,2200.0,200.0,150.0,700.0,2400.0,350.0,400.0,400.0,1100.0,600.0,200.0,2000.0,1100.0,450.0,600.0,300.0,150.0,750.0,600.0,350.0,1200.0,1300.0,1800.0,1200.0,2100.0,1700.0,1000.0,1000.0,1300.0,1200.0,1800.0,1200.0,2000.0,1500.0,2500.0,1700.0,1200.0,1300.0,1500.0,2500.0,1900.0,1700.0,1000.0,1500.0,1100.0,1200.0,1400.0,1100.0,1000.0,1000.0,1600.0,1200.0,1200.0,1500.0,4000.0,1100.0,1100.0,1000.0,1700.0,2000.0,2000.0,2000.0,3500.0,1300.0,1800.0,1500.0,1500.0,600.0,1000.0,1000.0,1000.0,3000.0,1200.0,1300.0,1500.0,800.0,1300.0,3000.0,3000.0,2000.0,1000.0,3400.0,1200.0,1300.0,2200.0,1100.0,1200.0,2000.0,1700.0,1500.0,950.0,1000.0,1200.0,2400.0,800.0,4100.0,1500.0,1400.0,3000.0,1200.0,600.0,800.0,600.0,900.0,500.0,600.0,500.0,700.0,700.0,400.0,350.0,500.0,400.0,800.0,1000.0,400.0,800.0,600.0,650.0,500.0,500.0,650.0,200.0,120.0,350.0,400.0,450.0,400.0,600.0,400.0,750.0,300.0,250.0,500.0,400.0,600.0,500.0,400.0,600.0,400.0,250.0,400.0,450.0,250.0,300.0,300.0,300.0,300.0,700.0,750.0,500.0,400.0,500.0,400.0,300.0,200.0,350.0,600.0,500.0,150.0,250.0,800.0,400.0,500.0,700.0,350.0,150.0,450.0,700.0,750.0,500.0,600.0,300.0,500.0,250.0,100.0,450.0,800.0,600.0,650.0,300.0,550.0,450.0,1400.0,300.0,250.0,600.0,800.0,500.0,1200.0,2000.0,1100.0,1200.0,150.0,900.0,700.0,500.0,150.0,500.0,200.0,300.0,800.0,250.0,350.0,650.0,1000.0,1300.0,450.0,800.0,900.0,200.0,300.0,700.0,150.0,150.0,300.0,500.0,800.0,300.0,400.0,100.0,300.0,450.0,500.0,400.0,300.0,450.0,500.0,400.0,500.0,500.0,600.0,1100.0,1000.0,300.0,400.0,1500.0,500.0,600.0,400.0,750.0,400.0,800.0,400.0,600.0,300.0,300.0,600.0,300.0,1000.0,350.0,700.0,300.0,750.0,400.0,800.0,150.0,750.0,400.0,600.0,400.0,500.0,400.0,400.0,400.0,700.0,900.0,300.0,650.0,600.0,200.0,500.0,700.0,400.0,150.0,450.0,600.0,800.0,400.0,1000.0,1100.0,1200.0,200.0,550.0,200.0,500.0,500.0,500.0,350.0,800.0,500.0,650.0,200.0,600.0,300.0,400.0,700.0,500.0,350.0,600.0,450.0,1700.0,650.0,950.0,400.0,500.0,1100.0,600.0,600.0,650.0,400.0,150.0,600.0,1000.0,600.0,450.0,500.0,1700.0,1500.0,600.0,100.0,600.0,800.0,1200.0,500.0,750.0,800.0,900.0,500.0,500.0,1000.0,700.0,1000.0,850.0,900.0,300.0,1100.0,900.0,1200.0,1200.0,800.0,1400.0,600.0,1000.0,900.0,750.0,750.0,800.0,800.0,1000.0,300.0,500.0,700.0,1500.0,1400.0,650.0,1800.0,600.0,400.0,400.0,250.0,700.0,200.0,250.0,250.0,300.0,500.0,300.0,400.0,400.0,400.0,100.0,250.0,200.0,450.0,400.0,800.0,400.0,400.0,1250.0,800.0,200.0,600.0,450.0,500.0,500.0,1100.0,2600.0,2000.0,1800.0,2000.0,1300.0,2500.0,1200.0,1700.0,1400.0,700.0,1000.0,1400.0,1500.0,800.0,1000.0,1400.0,950.0,500.0,600.0,1100.0,1000.0,1500.0,500.0,600.0,1200.0,100.0,1500.0,650.0,700.0,500.0,500.0,2500.0,1500.0,700.0,1500.0,600.0,400.0,1100.0,750.0,1100.0,600.0,150.0,2000.0,400.0,500.0,600.0,800.0,600.0,250.0,150.0,250.0,300.0,250.0,300.0,200.0,200.0,350.0,150.0,300.0,400.0,800.0,400.0,300.0,350.0,250.0,600.0,400.0,600.0,200.0,500.0,200.0,250.0,200.0,300.0,500.0,300.0,400.0,300.0,500.0,300.0,100.0,300.0,300.0,550.0,400.0,500.0,800.0,500.0,150.0,500.0,1200.0,1200.0,1200.0,2400.0,1000.0,800.0,4100.0,1500.0,2000.0,900.0,5000.0,800.0,1400.0,3000.0,3000.0,1500.0,1000.0,1000.0,4000.0,2200.0,1800.0,4000.0,1200.0,700.0,800.0,700.0,600.0,2200.0,2500.0,450.0,650.0,3700.0,700.0,600.0,750.0,600.0,800.0,300.0,200.0,300.0,200.0,200.0,250.0,1650.0,1100.0,1300.0,400.0,1200.0,1200.0,600.0,600.0,800.0,700.0,1400.0,850.0,300.0,900.0,650.0,1100.0,800.0,450.0,700.0,400.0,600.0,300.0,600.0,400.0,600.0,900.0,500.0,450.0,450.0,600.0,750.0,300.0,450.0,1200.0,2600.0,1800.0,1200.0,1400.0,1400.0,1100.0,1500.0,1500.0,1100.0,2000.0,2000.0,3000.0,1500.0,2200.0,1650.0,1200.0,1100.0,1200.0,1400.0,1400.0,1100.0,1500.0,1100.0,2000.0,3000.0,2500.0,1650.0,1300.0,1400.0,2500.0,1400.0,1500.0,1500.0,1600.0,1300.0,1400.0,1100.0,1300.0,1200.0,2700.0,1000.0,1600.0,1500.0,1500.0,1700.0,1300.0,750.0,1000.0,1000.0,1200.0,600.0,700.0,750.0,1200.0,600.0,400.0,600.0,700.0,300.0,700.0,400.0,650.0,300.0,600.0,500.0,500.0,600.0,300.0,400.0,700.0,600.0,450.0,450.0,250.0,500.0,700.0,300.0,600.0,850.0,500.0,500.0,650.0,400.0,400.0,500.0,650.0,400.0,800.0,300.0,400.0,400.0,450.0,1000.0,800.0,500.0,400.0,300.0,250.0,350.0,400.0,400.0,300.0,700.0,150.0,600.0,800.0,250.0,650.0,250.0,500.0,350.0,800.0,200.0,1400.0,500.0,1100.0,350.0,650.0,400.0,1400.0,700.0,300.0,800.0,600.0,900.0,600.0,300.0,450.0,300.0,300.0,800.0,600.0,800.0,400.0,200.0,300.0,1100.0,450.0,400.0,450.0,400.0,200.0,500.0,200.0,700.0,650.0,600.0,400.0,1000.0,300.0,400.0,800.0,600.0,800.0,400.0,150.0,200.0,1000.0,1000.0,500.0,300.0,600.0,600.0,400.0,500.0,550.0,1400.0,300.0,300.0,500.0,300.0,350.0,1300.0,250.0,450.0,400.0,600.0,600.0,400.0,1000.0,600.0,1000.0,300.0,300.0,800.0,600.0,400.0,700.0,700.0,400.0,1400.0,900.0,750.0,750.0,400.0,500.0,500.0,750.0,200.0,800.0,300.0,600.0,300.0,1500.0,1500.0,450.0,700.0,1000.0,500.0,350.0,1000.0,1200.0,300.0,600.0,200.0,600.0,400.0,800.0,250.0,150.0,1000.0,800.0,350.0,250.0,550.0,800.0,400.0,650.0,200.0,400.0,300.0,600.0,600.0,200.0,300.0,1100.0,500.0,600.0,500.0,400.0,550.0,500.0,400.0,400.0,450.0,300.0,650.0,450.0,800.0,600.0,450.0,800.0,750.0,400.0,750.0,300.0,600.0,650.0,600.0,250.0,800.0,250.0,700.0,250.0,400.0,500.0,1000.0,350.0,700.0,900.0,300.0,200.0,400.0,350.0,500.0,800.0,500.0,800.0,300.0,700.0,650.0,750.0,150.0,750.0,600.0,500.0,700.0,300.0,300.0,250.0,450.0,1000.0,300.0,700.0,300.0,400.0,500.0,700.0,800.0,500.0,300.0,750.0,300.0,800.0,200.0,450.0,900.0,600.0,300.0,450.0,650.0,600.0,750.0,500.0,750.0,750.0,500.0,1200.0,600.0,350.0,400.0,750.0,400.0,600.0,650.0,800.0,500.0,600.0,500.0,200.0,750.0,200.0,250.0,800.0,600.0,1500.0,150.0,750.0,150.0,500.0,450.0,400.0,750.0,500.0,300.0,450.0,1000.0,500.0,850.0,800.0,400.0,500.0,250.0,400.0,600.0,1700.0,400.0,1000.0,1000.0,1100.0,500.0,400.0,1400.0,400.0,200.0,250.0,500.0,500.0,500.0,300.0,350.0,300.0,300.0,700.0,300.0,400.0,600.0,500.0,400.0,400.0,400.0,550.0,400.0,1100.0,1400.0,2500.0,1500.0,1600.0,1300.0,1400.0,1100.0,1500.0,1300.0,1300.0,1500.0,1800.0,650.0,1200.0,2700.0,800.0,1600.0,1000.0,600.0,1000.0,600.0,1600.0,1100.0,900.0,1000.0,800.0,750.0,800.0,800.0,1500.0,1500.0,1000.0,600.0,2500.0,1300.0,500.0,1400.0,800.0,2000.0,1100.0,700.0,1100.0,850.0,1700.0,650.0,1500.0,800.0,750.0,750.0,800.0,800.0,800.0,850.0,800.0,1000.0,600.0,800.0,650.0,1300.0,1000.0,900.0,750.0,400.0,900.0,700.0,700.0,4500.0,800.0,600.0,1000.0,800.0,600.0,800.0,400.0,1100.0,650.0,750.0,450.0,500.0,300.0,500.0,1000.0,750.0,1200.0,650.0,650.0,700.0,500.0,500.0,400.0,1000.0,1000.0,450.0,750.0,2500.0,600.0,600.0,800.0,800.0,1000.0,400.0,550.0,1000.0,1200.0,500.0,600.0,400.0,650.0,800.0,700.0,750.0,600.0,700.0,250.0,600.0,1000.0,800.0,600.0,200.0,450.0,150.0,400.0,450.0,200.0,300.0,300.0,250.0,400.0,300.0,500.0,600.0,400.0,350.0,350.0,600.0,350.0,400.0,300.0,250.0,400.0,300.0,300.0,200.0,500.0,400.0,350.0,400.0,200.0,200.0,250.0,150.0,400.0,450.0,250.0,300.0,700.0,400.0,400.0,500.0,300.0,400.0,150.0,500.0,300.0,500.0,300.0,250.0,200.0,200.0,600.0,500.0,350.0,450.0,400.0,400.0,300.0,300.0,600.0,450.0,1200.0,1000.0,700.0,600.0,300.0,750.0,1500.0,600.0,600.0,800.0,800.0,800.0,700.0,750.0,750.0,800.0,500.0,250.0,300.0,550.0,400.0,600.0,500.0,500.0,400.0,400.0,500.0,500.0,850.0,300.0,600.0,500.0,500.0,600.0,900.0,600.0,400.0,450.0,350.0,400.0,450.0,1200.0,250.0,750.0,600.0,150.0,350.0,500.0,500.0,500.0,350.0,450.0,550.0,350.0,650.0,300.0,450.0,600.0,500.0,150.0,500.0,250.0,300.0,750.0,300.0,800.0,600.0,1400.0,1800.0,4500.0,1100.0,1500.0,1300.0,1500.0,1200.0,1600.0,1000.0,1500.0,1300.0,1100.0,1200.0,2500.0,1000.0,1200.0,1200.0,1500.0,1500.0,1500.0,2200.0,2100.0,3000.0,3000.0,1500.0,1600.0,3000.0,800.0,1800.0,1200.0,2800.0,1700.0,1400.0,1600.0,1500.0,2500.0,750.0,500.0,1000.0,1500.0,3400.0,2000.0,1200.0,800.0,1700.0,1600.0,2000.0,1300.0,2200.0,1200.0,1000.0,1200.0,650.0,1400.0,1900.0,1000.0,1000.0,500.0,1200.0,650.0,1300.0,1700.0,1200.0,1300.0,1000.0,1100.0,750.0,1200.0,1700.0,2500.0,450.0,500.0,800.0,700.0,1100.0,800.0,900.0,1000.0,600.0,600.0,650.0,1400.0,750.0,700.0,400.0,900.0,700.0,700.0,800.0,750.0,800.0,500.0,1000.0,1000.0,400.0,650.0,1200.0,500.0,500.0,600.0,400.0,1000.0,500.0,600.0,800.0,350.0,1300.0,1100.0,750.0,1000.0,800.0,650.0,500.0,600.0,1200.0,500.0,300.0,200.0,500.0,450.0,400.0,600.0,800.0,300.0,500.0,300.0,650.0,600.0,200.0,400.0,400.0,350.0,750.0,500.0,800.0,500.0,300.0,800.0,800.0,1000.0,500.0,750.0,400.0,550.0,400.0,750.0,950.0,400.0,600.0,400.0,800.0,150.0,1500.0,450.0,200.0,250.0,300.0,750.0,400.0,800.0,250.0,700.0,150.0,800.0,650.0,400.0,1200.0,900.0,1200.0,300.0,1100.0,400.0,500.0,600.0,1400.0,650.0,900.0,400.0,1300.0,500.0,700.0,800.0,300.0,800.0,800.0,750.0,1500.0,400.0,700.0,350.0,850.0,1600.0,500.0,400.0,650.0,800.0,1700.0,500.0,1200.0,1300.0,500.0,500.0,700.0,400.0,350.0,400.0,600.0,1600.0,650.0,700.0,400.0,550.0,500.0,300.0,1000.0,1500.0,650.0,1300.0,600.0,1200.0,600.0,1100.0,500.0,1500.0,400.0,700.0,900.0,400.0,600.0,500.0,400.0,500.0,500.0,800.0,600.0,1600.0,400.0,250.0,3000.0,350.0,250.0,250.0,1700.0,900.0,350.0,400.0,600.0,300.0,200.0,800.0,200.0,300.0,550.0,750.0,600.0,450.0,600.0,100.0,350.0,600.0,1300.0,180.0,1700.0,500.0,2100.0,700.0,300.0,500.0,2000.0,1000.0,1500.0,300.0,150.0,800.0,1500.0,700.0,750.0,400.0,1300.0,600.0,400.0,1000.0,700.0,500.0,800.0,1300.0,500.0,450.0,500.0,750.0,500.0,400.0,1300.0,600.0,700.0,500.0,700.0,750.0,500.0,1000.0,1200.0,500.0,2100.0,1000.0,500.0,1900.0,400.0,450.0,300.0,1400.0,300.0,600.0,2000.0,400.0,1000.0,650.0,950.0,1000.0,500.0,300.0,1400.0,800.0,1200.0,1000.0,1000.0,150.0,700.0,700.0,700.0,750.0,500.0,1500.0,300.0,700.0,700.0,800.0,450.0,1200.0,1800.0,500.0,800.0,200.0,1500.0,500.0,200.0,700.0,700.0,400.0,500.0,400.0,450.0,1000.0,400.0,1400.0,800.0,600.0,700.0,350.0,1500.0,1500.0,200.0,500.0,300.0,600.0,400.0,700.0,300.0,1800.0,800.0,1800.0,1000.0,800.0,2000.0,1200.0,300.0,500.0,300.0,600.0,1200.0,1000.0,700.0,400.0,250.0,200.0,250.0,200.0,1700.0,300.0,1000.0,350.0,400.0,650.0,300.0,800.0,1000.0,800.0,750.0,2000.0,1700.0,850.0,1000.0,850.0,650.0,500.0,600.0,400.0,1200.0,800.0,350.0,300.0,1500.0,550.0,300.0,700.0,300.0,700.0,300.0,800.0,750.0,1000.0,550.0,2000.0,700.0,300.0,400.0,800.0,550.0,250.0,600.0,300.0,1700.0,500.0,1200.0,1300.0,700.0,1300.0,1000.0,1200.0,1000.0,1400.0,800.0,700.0,2100.0,800.0,900.0,550.0,400.0,750.0,400.0,500.0,900.0,500.0,800.0,500.0,800.0,600.0,800.0,150.0,750.0,600.0,1200.0,1300.0,600.0,500.0,650.0,500.0,400.0,500.0,200.0,800.0,350.0,1000.0,500.0,1100.0,500.0,500.0,200.0,500.0,300.0,450.0,100.0,600.0,500.0,1600.0,600.0,1600.0,450.0,500.0,800.0,900.0,300.0,800.0,2000.0,1000.0,600.0,550.0,400.0,1250.0,400.0,1400.0,700.0,300.0,300.0,700.0,500.0,300.0,400.0,2000.0,1000.0,700.0,400.0,450.0,300.0,350.0,400.0,300.0,400.0,400.0,250.0,450.0,400.0,300.0,150.0,250.0,200.0,180.0,400.0,150.0,500.0,400.0,200.0,300.0,300.0,500.0,350.0,600.0,1300.0,800.0,200.0,1100.0,750.0,500.0,2100.0,1800.0,1500.0,1700.0,2800.0,2100.0,3000.0,1200.0,1500.0,1500.0,1700.0,200.0,1500.0,1000.0,3000.0,1500.0,2500.0,2000.0,1500.0,600.0,2000.0,3000.0,1000.0,2800.0,3000.0,1800.0,500.0,1000.0,1600.0,3000.0,3000.0,3000.0,2500.0,800.0,800.0,1500.0,750.0,350.0,700.0,2500.0,2500.0,1000.0,700.0,450.0,500.0,400.0,500.0,200.0,250.0,1800.0,1500.0,1500.0,2500.0,2000.0,3000.0,2200.0,3000.0,800.0,700.0,1100.0,1500.0,1500.0,2000.0,1500.0,2500.0,3500.0,1700.0,1700.0,1500.0,1200.0,1200.0,1300.0,1500.0,1300.0,2800.0,2100.0,700.0,1700.0,1600.0,1000.0,3000.0,800.0,2000.0,1500.0,1000.0,1900.0,1700.0,2000.0,1100.0,1300.0,2200.0,1400.0,1500.0,600.0,900.0,1200.0,2500.0,1600.0,1400.0,1300.0,1500.0,1000.0,1000.0,600.0,2500.0,4000.0,550.0,750.0,1300.0,1500.0,3000.0,500.0,1000.0,1100.0,650.0,1200.0,1500.0,1400.0,1500.0,1100.0,600.0,1300.0,1000.0,1300.0,650.0,850.0,750.0,1800.0,1000.0,1500.0,750.0,1000.0,1200.0,3400.0,700.0,1800.0,2000.0,3000.0,1000.0,1400.0,3500.0,700.0,1600.0,400.0,900.0,1500.0,1200.0,1200.0,800.0,1200.0,4000.0,500.0,1300.0,700.0,4000.0,1200.0,800.0,600.0,1200.0,1100.0,1100.0,1000.0,1700.0,2000.0,550.0,2000.0,650.0,3000.0,1600.0,800.0,2000.0,2000.0,3500.0,1300.0,700.0,1000.0,750.0,800.0,1800.0,800.0,650.0,800.0,2000.0,2200.0,950.0,800.0,3000.0,750.0,1500.0,1000.0,1100.0,550.0,700.0,500.0,1000.0,600.0,700.0,800.0,2000.0,700.0,1200.0,300.0,700.0,500.0,1000.0,1000.0,450.0,1000.0,650.0,550.0,650.0,1200.0,1200.0,1000.0,2000.0,1500.0,350.0,300.0,400.0,400.0,1800.0,500.0,500.0,2500.0,650.0,800.0,1400.0,500.0,600.0,500.0,800.0,600.0,850.0,700.0,400.0,2400.0,1400.0,1900.0,1000.0,500.0,1300.0,250.0,1000.0,600.0,700.0,500.0,3000.0,600.0,500.0,800.0,600.0,500.0,800.0,1200.0,500.0,800.0,1200.0,800.0,600.0,800.0,2000.0,600.0,800.0,600.0,600.0,550.0,400.0,250.0,400.0,300.0,500.0,200.0,150.0,300.0,300.0,500.0,300.0,300.0,150.0,250.0,200.0,450.0,150.0,300.0,600.0,400.0,350.0,200.0,250.0,400.0,250.0,400.0,300.0,400.0,500.0,500.0,500.0,400.0,500.0,350.0,400.0,500.0,300.0,300.0,300.0,300.0,450.0,300.0,100.0,500.0,1300.0,800.0,1600.0,2500.0,1100.0,1100.0,750.0,700.0,1300.0,1700.0,600.0,1000.0,1200.0,550.0,600.0,500.0,800.0,650.0,200.0,700.0,650.0,200.0,750.0,1300.0,500.0,200.0,1000.0,650.0,300.0,400.0,500.0,500.0,300.0,300.0,500.0,300.0,250.0,700.0,400.0,350.0,300.0,1100.0,500.0,400.0,250.0,800.0,600.0,700.0,600.0,300.0,1300.0,2000.0,2000.0,1700.0,1500.0,1000.0,1500.0,2800.0,3000.0,1000.0,3000.0,1500.0,1500.0,2500.0,2000.0,3000.0,3000.0,1500.0,1500.0,1500.0,2500.0,1700.0,1700.0,1200.0,1300.0,1300.0,1700.0,2000.0,1500.0,1900.0,1300.0,1000.0,1300.0,1500.0,3000.0,1100.0,1200.0,1400.0,1100.0,1000.0,1000.0,1600.0,1200.0,1200.0,1100.0,1100.0,1000.0,2000.0,2000.0,1500.0,1100.0,600.0,1000.0,1000.0,2000.0,1500.0,2500.0,2400.0,1400.0,1300.0,2500.0,1200.0,1300.0,1300.0,1200.0,1500.0,1000.0,1500.0,2000.0,1800.0,1000.0,3000.0,1500.0,2000.0,1500.0,2500.0,1700.0,1200.0,1200.0,1300.0,2100.0,1700.0,1900.0,1700.0,1000.0,1500.0,1300.0,1000.0,1100.0,1200.0,1400.0,1100.0,1300.0,1000.0,1000.0,1000.0,1600.0,1200.0,1200.0,4000.0,1200.0,1100.0,1200.0,1100.0,1000.0,1700.0,2000.0,2000.0,3500.0,1300.0,1800.0,1100.0,600.0,1000.0,1200.0,1000.0,1800.0,1400.0,1300.0,800.0,1300.0,2500.0,1400.0,1100.0,1800.0,900.0,900.0,1200.0,700.0,650.0,800.0,600.0,600.0,800.0,1000.0,500.0,900.0,800.0,1100.0,700.0,900.0,700.0,250.0,400.0,600.0,500.0,650.0,650.0,300.0,350.0,400.0,300.0,450.0,400.0,800.0,500.0,600.0,300.0,600.0,1400.0,500.0,600.0,500.0,400.0,850.0,500.0,800.0,250.0,300.0,300.0,500.0,400.0,300.0,500.0,100.0,600.0,700.0,750.0,400.0,750.0,450.0,500.0,400.0,600.0,1700.0,800.0,200.0,300.0,500.0,600.0,300.0,700.0,400.0,650.0,500.0,500.0,300.0,1200.0,700.0,250.0,400.0,300.0,200.0,900.0,350.0,450.0,700.0,500.0,650.0,700.0,800.0,150.0,400.0,500.0,800.0,700.0,300.0,650.0,300.0,450.0,400.0,400.0,500.0,500.0,600.0,1000.0,400.0,900.0,1250.0,650.0,500.0,300.0,600.0,600.0,800.0,1000.0,600.0,400.0,400.0,1100.0,800.0,800.0,400.0,600.0,300.0,700.0,700.0,700.0,100.0,700.0,1100.0,400.0,900.0,900.0,400.0,350.0,500.0,400.0,200.0,600.0,150.0,800.0,350.0,200.0,1100.0,1400.0,450.0,450.0,400.0,700.0,800.0,250.0,600.0,650.0,400.0,700.0,400.0,400.0,300.0,600.0,500.0,600.0,900.0,700.0,400.0,500.0,400.0,300.0,200.0,400.0,500.0,400.0,300.0,400.0,200.0,500.0,350.0,1400.0,900.0,1200.0,1400.0,1200.0,600.0,500.0,1000.0,800.0,700.0,800.0,1000.0,700.0,700.0,650.0,1100.0,500.0,500.0,400.0,800.0,600.0,700.0,400.0,600.0,400.0,800.0,800.0,1400.0,600.0,750.0,600.0,700.0,650.0,1400.0,800.0,1000.0,500.0,1100.0,900.0,700.0,300.0,650.0,800.0,1100.0,750.0,1800.0,850.0,700.0,800.0,900.0,700.0,400.0,900.0,700.0,650.0,700.0,250.0,650.0,400.0,600.0,400.0,600.0,700.0,300.0,350.0,500.0,400.0,400.0,500.0,300.0,600.0,500.0,300.0,300.0,500.0,500.0,450.0,350.0,300.0,400.0,400.0,400.0,250.0,400.0,400.0,400.0,600.0,200.0,400.0,300.0,300.0,350.0,400.0,400.0,300.0,350.0,1400.0,1200.0,1400.0,1200.0,1400.0,1100.0,1200.0,1400.0,1400.0,1200.0,1000.0,1400.0,1100.0,1800.0,1200.0,3000.0,3500.0,2200.0,1400.0,1500.0,1600.0,1900.0,1400.0,1700.0,1500.0,1200.0,1300.0,600.0,750.0,800.0,1000.0,1200.0,1200.0,1500.0,1700.0,1000.0,1100.0,700.0,450.0,700.0,500.0,800.0,900.0,1000.0,1000.0,1600.0,200.0,700.0,500.0,1000.0,700.0,800.0,650.0,400.0,400.0,700.0,700.0,450.0,800.0,500.0,800.0,750.0,600.0,700.0,500.0,500.0,200.0,600.0,500.0,500.0,600.0,500.0,500.0,300.0,200.0,800.0,450.0,450.0,300.0,400.0,400.0,150.0,200.0,400.0,600.0,300.0,750.0,600.0,250.0,400.0,200.0,300.0,400.0,400.0,300.0,600.0,700.0,250.0,700.0,400.0,500.0,400.0,650.0,350.0,1000.0,300.0,450.0,400.0,600.0,1000.0,500.0,500.0,800.0,1000.0,350.0,800.0,800.0,1000.0,600.0,400.0,500.0,800.0,400.0,650.0,850.0,700.0,300.0,300.0,950.0,800.0,500.0,350.0,600.0,350.0,600.0,250.0,800.0,600.0,400.0,1500.0,600.0,200.0,600.0,600.0,300.0,300.0,500.0,200.0,700.0,800.0,600.0,300.0,250.0,600.0,700.0,750.0,800.0,300.0,500.0,500.0,500.0,1200.0,750.0,300.0,300.0,500.0,1200.0,400.0,1200.0,300.0,800.0,1200.0,1600.0,1100.0,400.0,250.0,500.0,650.0,600.0,400.0,900.0,500.0,100.0,700.0,500.0,400.0,300.0,500.0,600.0,1700.0,500.0,600.0,400.0,800.0,1200.0,800.0,1500.0,600.0,1300.0,400.0,750.0,350.0,450.0,500.0,500.0,1500.0,500.0,650.0,150.0,800.0,1400.0,500.0,350.0,350.0,400.0,600.0,500.0,300.0,650.0,400.0,550.0,450.0,600.0,400.0,500.0,300.0,1200.0,1500.0,1800.0,800.0,400.0,200.0,800.0,900.0,1100.0,600.0,500.0,500.0,500.0,450.0,800.0,250.0,600.0,1600.0,600.0,300.0,350.0,400.0,800.0,800.0,550.0,550.0,900.0,350.0,400.0,600.0,400.0,450.0,200.0,200.0,300.0,1500.0,550.0,200.0,750.0,450.0,600.0,500.0,650.0,300.0,300.0,600.0,800.0,1400.0,600.0,200.0,500.0,500.0,800.0,600.0,1000.0,600.0,400.0,350.0,350.0,700.0,400.0,500.0,400.0,500.0,700.0,300.0,800.0,500.0,1200.0,250.0,500.0,400.0,400.0,300.0,600.0,700.0,1200.0,450.0,200.0,600.0,1000.0,300.0,500.0,150.0,700.0,250.0,1500.0,700.0,300.0,1000.0,450.0,200.0,500.0,750.0,500.0,450.0,500.0,1400.0,1200.0,400.0,300.0,550.0,500.0,500.0,150.0,400.0,450.0,450.0,400.0,300.0,1200.0,750.0,300.0,300.0,1000.0,450.0,250.0,200.0,300.0,250.0,1900.0,750.0,400.0,200.0,500.0,1200.0,150.0,1500.0,900.0,400.0,800.0,700.0,700.0,600.0,800.0,2000.0,500.0,350.0,700.0,800.0,300.0,400.0,400.0,200.0,200.0,600.0,500.0,500.0,1700.0,1500.0,1600.0,400.0,1400.0,900.0,700.0,800.0,800.0,900.0,1500.0,650.0,700.0,500.0,800.0,300.0,600.0,350.0,600.0,400.0,200.0,700.0,150.0,500.0,400.0,700.0,400.0,450.0,250.0,1100.0,400.0,300.0,200.0,500.0,500.0,300.0,500.0,500.0,500.0,500.0,1500.0,600.0,600.0,500.0,400.0,400.0,1200.0,700.0,200.0,400.0,200.0,250.0,300.0,200.0,1200.0,400.0,800.0,900.0,1000.0,200.0,700.0,400.0,300.0,400.0,400.0,400.0,300.0,300.0,450.0,800.0,400.0,500.0,400.0,400.0,400.0,800.0,800.0,750.0,300.0,500.0,300.0,600.0,350.0,400.0,300.0,200.0,300.0,200.0,200.0,300.0,500.0,450.0,600.0,1800.0,3500.0,4000.0,1000.0,1000.0,2200.0,1400.0,2000.0,700.0,6000.0,3500.0,2400.0,900.0,1500.0,700.0,450.0,800.0,300.0,600.0,550.0,400.0,750.0,1900.0,3000.0,500.0,200.0,400.0,250.0,400.0,350.0,150.0,300.0,400.0,400.0,700.0,500.0,500.0,400.0,400.0,500.0,400.0,450.0,250.0,600.0,600.0,850.0,700.0,500.0,750.0,500.0,800.0,500.0,600.0,750.0,650.0,600.0,500.0,400.0,700.0,500.0,500.0,600.0,500.0,500.0,800.0,400.0,350.0,300.0,150.0,250.0,200.0,150.0,200.0,550.0,250.0,450.0,300.0,500.0,350.0,150.0,450.0,350.0,450.0,500.0,400.0,200.0,250.0,400.0,350.0,1600.0,1000.0,800.0,1500.0,1800.0,1400.0,2000.0,1200.0,1500.0,1900.0,1500.0,1500.0,1200.0,1600.0,1400.0,1500.0,2500.0,1300.0,1000.0,1400.0,1700.0,1700.0,900.0,1500.0,1500.0,1200.0,1300.0,1400.0,700.0,1300.0,1600.0,1000.0,1000.0,1200.0,1100.0,1000.0,3000.0,1500.0,600.0,2000.0,800.0,1700.0,750.0,1200.0,600.0,800.0,800.0,1200.0,1600.0,800.0,200.0,1000.0,1100.0,900.0,700.0,1500.0,700.0,1100.0,1300.0,1500.0,1500.0,450.0,650.0,500.0,1000.0,1000.0,1800.0,1500.0,700.0,800.0,650.0,1100.0,1200.0,1200.0,1500.0,800.0,500.0,1400.0,1800.0,1500.0,700.0,1800.0,800.0,500.0,1200.0,1700.0,2000.0,1300.0,1600.0,800.0,500.0,450.0,300.0,1000.0,800.0,300.0,800.0,600.0,800.0,300.0,600.0,3000.0,1000.0,600.0,400.0,350.0,300.0,400.0,700.0,400.0,400.0,200.0,300.0,700.0,150.0,600.0,600.0,300.0,600.0,400.0,500.0,250.0,1800.0,1300.0,350.0,400.0,500.0,350.0,600.0,300.0,500.0,450.0,500.0,250.0,1100.0,600.0,1200.0,500.0,500.0,300.0,250.0,500.0,200.0,600.0,1500.0,1800.0,1000.0,1800.0,2400.0,3000.0,1400.0,2000.0,1900.0,1500.0,1400.0,1300.0,1400.0,1300.0,1300.0,1400.0,1000.0,1500.0,2000.0,1700.0,1600.0,1100.0,1100.0,1500.0,1500.0,1800.0,1500.0,1100.0,1400.0,1800.0,1200.0,1300.0,1600.0,1000.0,1300.0,1300.0,1000.0,1800.0,1000.0,1400.0,1800.0,900.0,1000.0,1400.0,2000.0,1200.0,1500.0,1500.0,2500.0,1300.0,1500.0,1300.0,1400.0,1700.0,800.0,1100.0,1100.0,1500.0,1500.0,1800.0,1100.0,1400.0,1500.0,1200.0,1700.0,2000.0,1300.0,1000.0,1300.0,1200.0,1600.0,800.0,1800.0,750.0,1000.0,600.0,900.0,600.0,2000.0,1200.0,1700.0,1500.0,1100.0,1000.0,1000.0,600.0,600.0,500.0,600.0,500.0,700.0,500.0,700.0,350.0,500.0,400.0,500.0,450.0,500.0,450.0,400.0,750.0,400.0,400.0,300.0,850.0,700.0,250.0,400.0,500.0,450.0,1100.0,250.0,1000.0,350.0,600.0,300.0,250.0,400.0,400.0,800.0,250.0,500.0,400.0,150.0,650.0,500.0,200.0,600.0,350.0,750.0,450.0,450.0,500.0,800.0,300.0,600.0,500.0,400.0,600.0,800.0,600.0,600.0,1400.0,700.0,2000.0,1700.0,1200.0,350.0,500.0,600.0,600.0,1100.0,600.0,450.0,400.0,300.0,800.0,600.0,400.0,1000.0,650.0,600.0,800.0,700.0,500.0,400.0,150.0,250.0,200.0,350.0,400.0,1000.0,300.0,450.0,500.0,1100.0,500.0,1500.0,300.0,1200.0,500.0,500.0,300.0,400.0,250.0,300.0,300.0,500.0,900.0,350.0,600.0,800.0,1100.0,300.0,400.0,600.0,700.0,800.0,800.0,1400.0,600.0,120.0,1000.0,400.0,250.0,400.0,400.0,150.0,100.0,800.0,900.0,500.0,150.0,1000.0,400.0,750.0,150.0,150.0,200.0,350.0,600.0,300.0,150.0,900.0,300.0,100.0,350.0,600.0,600.0,1500.0,500.0,1100.0,200.0,400.0,600.0,750.0,800.0,250.0,500.0,500.0,600.0,200.0,500.0,400.0,500.0,600.0,250.0,200.0,500.0,100.0,500.0,600.0,350.0,250.0,200.0,500.0,400.0,700.0,250.0,250.0,300.0,100.0,250.0,200.0,450.0,300.0,400.0,1650.0,1100.0,1600.0,400.0,600.0,800.0,700.0,1800.0,700.0,750.0,900.0,1100.0,450.0,800.0,900.0,800.0,1000.0,600.0,700.0,700.0,600.0,350.0,500.0,900.0,1000.0,600.0,600.0,1200.0,400.0,300.0,400.0,400.0,400.0,350.0,600.0,450.0,300.0,300.0,450.0,750.0,450.0,800.0,600.0,600.0,350.0,300.0,500.0,500.0,1200.0,800.0,750.0,750.0,600.0,500.0,800.0,250.0,400.0,400.0,500.0,600.0,200.0,400.0,2600.0,2000.0,1800.0,2000.0,1200.0,1300.0,2500.0,1700.0,1400.0,1000.0,1000.0,1500.0,1400.0,800.0,150.0,1400.0,1400.0,1200.0,1200.0,600.0,500.0,1500.0,1100.0,1500.0,1500.0,250.0,1100.0,650.0,1000.0,700.0,500.0,100.0,500.0,600.0,500.0,300.0,1100.0,850.0,2500.0,250.0,600.0,1500.0,150.0,700.0,1100.0,200.0,600.0,350.0,450.0,200.0,150.0,600.0,600.0,200.0,250.0,300.0,300.0,400.0,350.0,2000.0,200.0,250.0,400.0,600.0,1000.0,200.0,500.0,400.0,250.0,500.0,200.0,300.0,500.0,200.0,300.0,300.0,300.0,400.0,400.0,500.0,450.0,800.0,550.0,500.0,150.0,300.0,500.0,1200.0,1650.0,1000.0,2600.0,1800.0,1400.0,1400.0,1200.0,1500.0,1500.0,1100.0,1100.0,800.0,2000.0,1200.0,1650.0,1100.0,1800.0,800.0,900.0,1200.0,800.0,1400.0,1400.0,1400.0,1200.0,1500.0,1100.0,1100.0,800.0,2000.0,1200.0,1500.0,500.0,3400.0,2000.0,1900.0,1800.0,1500.0,2200.0,2100.0,3000.0,1200.0,1700.0,1400.0,2500.0,750.0,3000.0,1500.0,1000.0,1500.0,1500.0,2000.0,1200.0,800.0,1200.0,1700.0,1600.0,1300.0,1600.0,3000.0,1000.0,1200.0,1000.0,650.0,1400.0,800.0,1000.0,1000.0,500.0,1200.0,650.0,2800.0,1600.0,1300.0,1700.0,1300.0,1800.0,1600.0,1000.0,1100.0,750.0,1200.0,800.0,400.0,400.0,600.0,1100.0,900.0,1700.0,1000.0,600.0,600.0,2500.0,650.0,1400.0,700.0,900.0,450.0,700.0,800.0,750.0,650.0,500.0,500.0,1000.0,1200.0,650.0,500.0,800.0,1000.0,500.0,700.0,800.0,350.0,1300.0,750.0,1100.0,750.0,1000.0,750.0,1000.0,600.0,500.0,450.0,300.0,500.0,500.0,650.0,200.0,350.0,500.0,500.0,200.0,650.0,300.0,400.0,600.0,750.0,500.0,550.0,500.0,1200.0,150.0,250.0,600.0,600.0,800.0,750.0,400.0,450.0,300.0,400.0,800.0,650.0,900.0,500.0,600.0,1300.0,400.0,800.0,400.0,550.0,750.0,1400.0,1600.0,400.0,400.0,350.0,500.0,1500.0,300.0,1300.0,400.0,600.0,600.0,300.0,1100.0,1300.0,250.0,850.0,300.0,500.0,400.0,400.0,1700.0,1200.0,1500.0,200.0,400.0,1600.0,800.0,700.0,1200.0,300.0,300.0,500.0,250.0,450.0,700.0,600.0,400.0,700.0,700.0,600.0,400.0,500.0,450.0,550.0,500.0,1000.0,400.0,1000.0,700.0,400.0,750.0,700.0,400.0,300.0,800.0,1300.0,650.0,400.0,750.0,1500.0,350.0,800.0,1000.0,1400.0,500.0,800.0,500.0,1300.0,700.0,600.0,600.0,450.0,500.0,1500.0,800.0,180.0,2100.0,400.0,300.0,400.0,1700.0,400.0,150.0,1000.0,3000.0,200.0,1700.0,1000.0,200.0,1000.0,300.0,600.0,1300.0,2000.0,1300.0,650.0,950.0,200.0,300.0,700.0,800.0,300.0,400.0,600.0,500.0,1400.0,400.0,700.0,300.0,400.0,500.0,600.0,700.0,250.0,200.0,700.0,1500.0,750.0,800.0,900.0,700.0,2000.0,1500.0,1500.0,700.0,1000.0,500.0,350.0,1000.0,1000.0,1000.0,250.0,1000.0,700.0,1900.0,800.0,550.0,2100.0,600.0,750.0,1400.0,1000.0,1200.0,300.0,350.0,300.0,2000.0,300.0,500.0,400.0,1200.0,750.0,700.0,800.0,2000.0,1800.0,850.0,1500.0,200.0,600.0,400.0,800.0,300.0,600.0,1800.0,850.0,1800.0,800.0,500.0,1000.0,750.0,1200.0,650.0,700.0,800.0,100.0,800.0,600.0,1000.0,650.0,500.0,1300.0,700.0,400.0,200.0,1000.0,800.0,300.0,500.0,1700.0,250.0,1200.0,400.0,1200.0,1000.0,1500.0,1600.0,700.0,2100.0,800.0,900.0,1700.0,1400.0,600.0,400.0,750.0,500.0,900.0,450.0,500.0,150.0,450.0,600.0,1200.0,500.0,500.0,550.0,400.0,450.0,500.0,200.0,800.0,800.0,800.0,1000.0,500.0,1100.0,200.0,800.0,500.0,550.0,300.0,450.0,350.0,300.0,250.0,1300.0,600.0,500.0,400.0,600.0,1600.0,1300.0,550.0,800.0,2000.0,400.0,400.0,150.0,400.0,500.0,500.0,350.0,600.0,800.0,1000.0,600.0,550.0,1250.0,400.0,1400.0,300.0,700.0,450.0,300.0,500.0,1000.0,500.0,450.0,300.0,400.0,300.0,800.0,250.0,450.0,400.0,900.0,150.0,250.0,180.0,400.0,500.0,200.0,300.0,300.0,300.0,1300.0,750.0,1100.0,300.0,2000.0,700.0,350.0,400.0,300.0,300.0,400.0,2000.0,1500.0,800.0,3500.0,1700.0,800.0,2000.0,600.0,1200.0,1400.0,550.0,3000.0,500.0,400.0,3400.0,1000.0,800.0,4000.0,1000.0,2000.0,3500.0,1000.0,800.0,550.0,700.0,1000.0,2000.0,600.0,1900.0,250.0,500.0,600.0,300.0,200.0,500.0,400.0,500.0,100.0,500.0,1700.0,1800.0,1500.0,1500.0,2500.0,2000.0,3000.0,2200.0,3000.0,2800.0,700.0,1500.0,1100.0,2100.0,1500.0,1500.0,2000.0,3000.0,2500.0,1700.0,1500.0,1200.0,1200.0,1300.0,1500.0,1300.0,2100.0,1200.0,1600.0,800.0,1700.0,1600.0,1000.0,3000.0,1500.0,1500.0,700.0,1500.0,2500.0,1000.0,2100.0,1900.0,1100.0,1300.0,1700.0,2200.0,1400.0,1500.0,900.0,1700.0,1300.0,1000.0,1000.0,600.0,2500.0,1400.0,200.0,1500.0,4000.0,750.0,1500.0,3000.0,1500.0,1000.0,1100.0,650.0,1200.0,2500.0,1500.0,1500.0,2000.0,1000.0,1400.0,1500.0,1100.0,1300.0,650.0,750.0,850.0,1800.0,1000.0,1500.0,1000.0,1200.0,2000.0,1400.0,3500.0,700.0,1600.0,1500.0,1200.0,1200.0,1500.0,1200.0,4000.0,700.0,1300.0,1200.0,800.0,600.0,1100.0,1100.0,900.0,2000.0,1200.0,1700.0,1600.0,800.0,2000.0,3000.0,2000.0,1200.0,1000.0,700.0,800.0,500.0,2800.0,1800.0,650.0,3000.0,750.0,650.0,1800.0,950.0,3000.0,750.0,500.0,750.0,1500.0,1000.0,1100.0,500.0,600.0,800.0,1200.0,1000.0,700.0,300.0,1300.0,1000.0,500.0,1600.0,500.0,3000.0,1000.0,1000.0,400.0,550.0,1200.0,650.0,1200.0,1000.0,350.0,400.0,3000.0,1200.0,3000.0,400.0,500.0,1800.0,2500.0,650.0,800.0,2500.0,700.0,1400.0,800.0,500.0,800.0,600.0,850.0,700.0,500.0,800.0,1000.0,500.0,1300.0,1500.0,1000.0,700.0,500.0,3000.0,600.0,800.0,600.0,500.0,800.0,1200.0,500.0,550.0,800.0,800.0,1200.0,350.0,650.0,800.0,2000.0,700.0,600.0,2500.0,800.0,600.0,1000.0,600.0,550.0,400.0,250.0,700.0,400.0,500.0,200.0,300.0,150.0,450.0,300.0,500.0,300.0,300.0,150.0,300.0,450.0,500.0,300.0,400.0,250.0,400.0,250.0,350.0,300.0,400.0,500.0,500.0,400.0,200.0,500.0,400.0,350.0,250.0,250.0,300.0,300.0,450.0,600.0,1300.0,2800.0,2500.0,1600.0,1100.0,1300.0,600.0,600.0,1300.0,1000.0,750.0,1100.0,1800.0,3000.0,750.0,1300.0,1700.0,500.0,600.0,1200.0,1000.0,2000.0,750.0,3000.0,1300.0,750.0,800.0,2000.0,850.0,700.0,700.0,600.0,750.0,700.0,1800.0,300.0,1600.0,150.0,900.0,450.0,1000.0,400.0,450.0,300.0,150.0,2200.0,200.0,200.0,500.0,1000.0,2400.0,150.0,350.0,400.0,400.0,400.0,1000.0,600.0,450.0,1100.0,450.0,300.0,800.0,150.0,300.0,300.0,600.0,2000.0,1700.0,1500.0,1500.0,1700.0,1200.0,3000.0,1000.0,1000.0,1000.0,2000.0,2500.0,3000.0,3000.0,1500.0,1500.0,2000.0,1500.0,2500.0,1700.0,1200.0,1300.0,1300.0,1700.0,1500.0,1500.0,2500.0,1900.0,1300.0,1300.0,1000.0,1500.0,1100.0,1200.0,1000.0,1400.0,1100.0,1000.0,1600.0,1200.0,1200.0,1500.0,1100.0,1100.0,2000.0,2000.0,1200.0,2800.0,3000.0,1500.0,1100.0,600.0,1000.0,1000.0,3000.0,1200.0,2500.0,1500.0,1300.0,1300.0,1000.0,2200.0,2400.0,1500.0,2000.0,1400.0,1600.0,1300.0,1800.0,1100.0,1500.0,1500.0,500.0,700.0,1900.0,1000.0,1400.0,1500.0,1200.0,2500.0,1500.0,1500.0,1100.0,1500.0,1000.0,700.0,800.0,500.0,600.0,800.0,600.0,500.0,200.0,600.0,800.0,400.0,600.0,500.0,1000.0,500.0,400.0,650.0,500.0,450.0,200.0,450.0,400.0,300.0,400.0,500.0,200.0,500.0,500.0,400.0,400.0,400.0,600.0,300.0,600.0,250.0,400.0,650.0,450.0,600.0,400.0,950.0,650.0,500.0,200.0,400.0,200.0,600.0,350.0,600.0,1200.0,800.0,150.0,500.0,1500.0,300.0,500.0,400.0,700.0,800.0,400.0,400.0,100.0,800.0,600.0,300.0,100.0,600.0,500.0,400.0,500.0,450.0,1200.0,600.0,700.0,800.0,200.0,600.0,500.0,250.0,200.0,450.0,450.0,500.0,400.0,800.0,800.0,1400.0,600.0,300.0,500.0,200.0,400.0,250.0,900.0,300.0,200.0,500.0,750.0,600.0,400.0,500.0,300.0,350.0,400.0,350.0,450.0,200.0,700.0,400.0,800.0,900.0,750.0,400.0,600.0,700.0,650.0,1000.0,500.0,300.0,200.0,500.0,300.0,800.0,800.0,150.0,500.0,400.0,300.0,600.0,300.0,600.0,750.0,300.0,500.0,400.0,750.0,450.0,400.0,800.0,450.0,750.0,600.0,1300.0,400.0,1400.0,1200.0,800.0,1300.0,1600.0,1800.0,500.0,450.0,400.0,600.0,600.0,1500.0,700.0,600.0,800.0,1500.0,600.0,250.0,1500.0,800.0,850.0,500.0,1800.0,1000.0,1100.0,500.0,900.0,1500.0,600.0,500.0,1000.0,1500.0,500.0,700.0,250.0,500.0,1000.0,700.0,550.0,1100.0,1200.0,600.0,600.0,500.0,1500.0,1700.0,900.0,600.0,400.0,1200.0,800.0,1400.0,1400.0,800.0,300.0,400.0,1400.0,1700.0,500.0,1000.0,1500.0,1000.0,550.0,200.0,700.0,300.0,400.0,500.0,600.0,500.0,700.0,500.0,1500.0,500.0,500.0,400.0,800.0,300.0,400.0,500.0,250.0,600.0,800.0,750.0,500.0,300.0,700.0,500.0,400.0,200.0,800.0,500.0,700.0,450.0,150.0,800.0,550.0,600.0,550.0,300.0,600.0,300.0,100.0,150.0,600.0,330.0,600.0,600.0,400.0,400.0,500.0,400.0,750.0,600.0,200.0,500.0,300.0,200.0,800.0,300.0,500.0,400.0,400.0,350.0,400.0,500.0,500.0,300.0,200.0,500.0,250.0,500.0,600.0,600.0,900.0,300.0,1400.0,1500.0,1500.0,1600.0,1400.0,1500.0,1900.0,1600.0,1400.0,1300.0,1300.0,1800.0,1400.0,600.0,1100.0,1500.0,1500.0,1500.0,2000.0,600.0,700.0,700.0,800.0,800.0,500.0,500.0,850.0,800.0,1200.0,900.0,700.0,800.0,1000.0,600.0,800.0,600.0,700.0,400.0,200.0,800.0,900.0,600.0,600.0,800.0,700.0,500.0,400.0,1000.0,1200.0,1900.0,550.0,500.0,550.0,600.0,500.0,450.0,800.0,300.0,150.0,500.0,500.0,400.0,450.0,200.0,600.0,100.0,250.0,300.0,400.0,500.0,250.0,300.0,200.0,350.0,400.0,400.0,500.0,250.0,600.0,300.0,500.0,400.0,750.0,300.0,300.0,1000.0,1800.0,1700.0,1800.0,1400.0,1500.0,750.0,1200.0,800.0,2000.0,1200.0,950.0,2000.0,600.0,2500.0,400.0,700.0,600.0,750.0,1500.0,1500.0,1100.0,1200.0,600.0,900.0,400.0,500.0,650.0,500.0,1500.0,800.0,1800.0,450.0,1400.0,600.0,500.0,200.0,800.0,300.0,500.0,300.0,550.0,400.0,800.0,500.0,200.0,1000.0,400.0,250.0,500.0,300.0,400.0,600.0,2500.0,200.0,500.0,450.0,800.0,350.0,200.0,700.0,330.0,200.0,400.0,600.0,250.0,400.0,200.0,500.0,450.0,500.0,400.0,800.0,550.0,400.0,400.0,600.0,1000.0,450.0,400.0,800.0,1500.0,1400.0,1400.0,1600.0,1400.0,1500.0,1900.0,1500.0,1300.0,1500.0,1200.0,900.0,1000.0,1700.0,1500.0,1500.0,1800.0,1400.0,2500.0,1500.0,1400.0,1800.0,1400.0,1400.0,1500.0,1900.0,1300.0,1800.0,1200.0,900.0,1700.0,1800.0,1400.0,1500.0,1100.0,700.0,900.0,550.0,600.0,1400.0,500.0,900.0,1100.0,700.0,2000.0,600.0,600.0,1000.0,900.0,700.0,350.0,400.0,650.0,400.0,400.0,700.0,1000.0,800.0,500.0,300.0,400.0,750.0,600.0,250.0,400.0,700.0,600.0,400.0,400.0,400.0,200.0,300.0,400.0,250.0,500.0,500.0,700.0,500.0,400.0,300.0,600.0,800.0,450.0,800.0,350.0,450.0,750.0,550.0,200.0,800.0,600.0,750.0,450.0,400.0,300.0,500.0,400.0,800.0,650.0,1000.0,600.0,500.0,400.0,500.0,500.0,300.0,350.0,600.0,550.0,600.0,1100.0,900.0,300.0,250.0,350.0,150.0,800.0,200.0,400.0,400.0,200.0,750.0,450.0,200.0,900.0,550.0,500.0,300.0,500.0,250.0,600.0,900.0,1000.0,1700.0,1200.0,2000.0,400.0,400.0,400.0,1400.0,450.0,300.0,600.0,400.0,600.0,500.0,650.0,300.0,600.0,500.0,300.0,500.0,300.0,300.0,450.0,1000.0,850.0,2000.0,300.0,700.0,300.0,750.0,500.0,400.0,400.0,300.0,250.0,400.0,300.0,500.0,400.0,1500.0,300.0,400.0,700.0,400.0,500.0,1500.0,400.0,1400.0,400.0,500.0,500.0,1800.0,450.0,400.0,1500.0,1600.0,1500.0,1500.0,900.0,500.0,200.0,600.0,500.0,400.0,1600.0,1000.0,550.0,250.0,600.0,500.0,550.0,500.0,1400.0,800.0,300.0,600.0,1200.0,400.0,600.0,400.0,500.0,1500.0,500.0,450.0,800.0,150.0,1000.0,600.0,300.0,650.0,300.0,200.0,500.0,700.0,300.0,450.0,1500.0,400.0,150.0,300.0,800.0,700.0,700.0,900.0,200.0,350.0,900.0,1200.0,750.0,700.0,700.0,500.0,200.0,600.0,2000.0,700.0,800.0,200.0,300.0,1200.0,400.0,500.0,750.0,1000.0,800.0,1400.0,300.0,800.0,800.0,800.0,350.0,500.0,350.0,400.0,400.0,350.0,1000.0,1400.0,750.0,1100.0,800.0,600.0,350.0,1100.0,750.0,900.0,400.0,700.0,1700.0,600.0,600.0,1200.0,800.0,350.0,1000.0,300.0,500.0,700.0,500.0,650.0,700.0,300.0,300.0,500.0,600.0,400.0,400.0,400.0,450.0,450.0,1500.0,1200.0,800.0,400.0,500.0,1100.0,500.0,800.0,800.0,600.0,400.0,600.0,300.0,750.0,800.0,500.0,900.0,700.0,600.0,700.0,1000.0,500.0,1700.0,500.0,1000.0,450.0,800.0,900.0,550.0,600.0,400.0,400.0,500.0,700.0,150.0,500.0,400.0,600.0,1500.0,450.0,500.0,450.0,400.0,1000.0,200.0,300.0,300.0,150.0,800.0,250.0,500.0,1500.0,400.0,600.0,400.0,400.0,200.0,250.0,300.0,300.0,500.0,1000.0,2000.0,2500.0,2400.0,2500.0,1600.0,1600.0,1400.0,1600.0,1700.0,1700.0,1700.0,1100.0,2000.0,1000.0,1500.0,1900.0,1500.0,1600.0,1800.0,1800.0,1700.0,1200.0,1500.0,2000.0,1000.0,1500.0,900.0,550.0,1600.0,2500.0,650.0,800.0,800.0,800.0,1700.0,1400.0,1000.0,1800.0,2000.0,1400.0,800.0,750.0,1500.0,2000.0,700.0,1000.0,850.0,1200.0,900.0,1400.0,700.0,800.0,1200.0,1500.0,750.0,1700.0,2000.0,800.0,550.0,1400.0,2000.0,1500.0,900.0,1100.0,700.0,2500.0,1100.0,900.0,400.0,1000.0,3000.0,1000.0,700.0,800.0,1450.0,300.0,2000.0,800.0,1000.0,1400.0,700.0,600.0,750.0,1500.0,1500.0,1500.0,1000.0,700.0,2000.0,900.0,2500.0,800.0,600.0,900.0,2100.0,800.0,400.0,1200.0,600.0,1200.0,800.0,700.0,1000.0,1500.0,600.0,3000.0,300.0,300.0,350.0,400.0,500.0,800.0,800.0,700.0,1700.0,750.0,400.0,1200.0,500.0,2000.0,350.0,1500.0,600.0,750.0,2000.0,400.0,3000.0,650.0,500.0,800.0,1900.0,450.0,1200.0,750.0,1000.0,800.0,2000.0,700.0,1200.0,600.0,700.0,400.0,700.0,1800.0,700.0,700.0,250.0,700.0,600.0,600.0,800.0,150.0,650.0,550.0,1100.0,1600.0,900.0,500.0,350.0,450.0,500.0,600.0,700.0,600.0,500.0,200.0,600.0,350.0,400.0,300.0,350.0,600.0,400.0,500.0,300.0,350.0,400.0,300.0,400.0,450.0,250.0,500.0,300.0,400.0,500.0,400.0,200.0,200.0,400.0,400.0,300.0,300.0,600.0,400.0,350.0,400.0,400.0,350.0,400.0,400.0,400.0,600.0,450.0,300.0,300.0,400.0,200.0,300.0,550.0,350.0,500.0,600.0,550.0,400.0,450.0,500.0,300.0,400.0,400.0,450.0,500.0,500.0,600.0,300.0,500.0,400.0,400.0,450.0,400.0,400.0,350.0,700.0,500.0,500.0,300.0,400.0,1500.0,2500.0,1000.0,800.0,500.0,500.0,300.0,500.0,600.0,1800.0,400.0,300.0,1700.0,1200.0,1600.0,2400.0,2500.0,1700.0,1000.0,1900.0,1500.0,1000.0,1500.0,1600.0,1700.0,1800.0,1200.0,1500.0,1400.0,1450.0,1500.0,1500.0,2100.0,1700.0,1200.0,2000.0,1800.0,800.0,2500.0,1600.0,1900.0,1700.0,2400.0,2500.0,1700.0,1100.0,1000.0,1500.0,1800.0,1000.0,1200.0,1500.0,1600.0,1700.0,1800.0,1200.0,1200.0,1500.0,1400.0,1450.0,1500.0,1500.0,1200.0,2000.0,1200.0,800.0,2500.0],\"type\":\"box\"}],                        {\"height\":800,\"template\":{\"data\":{\"barpolar\":[{\"marker\":{\"line\":{\"color\":\"#E5ECF6\",\"width\":0.5},\"pattern\":{\"fillmode\":\"overlay\",\"size\":10,\"solidity\":0.2}},\"type\":\"barpolar\"}],\"bar\":[{\"error_x\":{\"color\":\"#2a3f5f\"},\"error_y\":{\"color\":\"#2a3f5f\"},\"marker\":{\"line\":{\"color\":\"#E5ECF6\",\"width\":0.5},\"pattern\":{\"fillmode\":\"overlay\",\"size\":10,\"solidity\":0.2}},\"type\":\"bar\"}],\"carpet\":[{\"aaxis\":{\"endlinecolor\":\"#2a3f5f\",\"gridcolor\":\"white\",\"linecolor\":\"white\",\"minorgridcolor\":\"white\",\"startlinecolor\":\"#2a3f5f\"},\"baxis\":{\"endlinecolor\":\"#2a3f5f\",\"gridcolor\":\"white\",\"linecolor\":\"white\",\"minorgridcolor\":\"white\",\"startlinecolor\":\"#2a3f5f\"},\"type\":\"carpet\"}],\"choropleth\":[{\"colorbar\":{\"outlinewidth\":0,\"ticks\":\"\"},\"type\":\"choropleth\"}],\"contourcarpet\":[{\"colorbar\":{\"outlinewidth\":0,\"ticks\":\"\"},\"type\":\"contourcarpet\"}],\"contour\":[{\"colorbar\":{\"outlinewidth\":0,\"ticks\":\"\"},\"colorscale\":[[0.0,\"#0d0887\"],[0.1111111111111111,\"#46039f\"],[0.2222222222222222,\"#7201a8\"],[0.3333333333333333,\"#9c179e\"],[0.4444444444444444,\"#bd3786\"],[0.5555555555555556,\"#d8576b\"],[0.6666666666666666,\"#ed7953\"],[0.7777777777777778,\"#fb9f3a\"],[0.8888888888888888,\"#fdca26\"],[1.0,\"#f0f921\"]],\"type\":\"contour\"}],\"heatmapgl\":[{\"colorbar\":{\"outlinewidth\":0,\"ticks\":\"\"},\"colorscale\":[[0.0,\"#0d0887\"],[0.1111111111111111,\"#46039f\"],[0.2222222222222222,\"#7201a8\"],[0.3333333333333333,\"#9c179e\"],[0.4444444444444444,\"#bd3786\"],[0.5555555555555556,\"#d8576b\"],[0.6666666666666666,\"#ed7953\"],[0.7777777777777778,\"#fb9f3a\"],[0.8888888888888888,\"#fdca26\"],[1.0,\"#f0f921\"]],\"type\":\"heatmapgl\"}],\"heatmap\":[{\"colorbar\":{\"outlinewidth\":0,\"ticks\":\"\"},\"colorscale\":[[0.0,\"#0d0887\"],[0.1111111111111111,\"#46039f\"],[0.2222222222222222,\"#7201a8\"],[0.3333333333333333,\"#9c179e\"],[0.4444444444444444,\"#bd3786\"],[0.5555555555555556,\"#d8576b\"],[0.6666666666666666,\"#ed7953\"],[0.7777777777777778,\"#fb9f3a\"],[0.8888888888888888,\"#fdca26\"],[1.0,\"#f0f921\"]],\"type\":\"heatmap\"}],\"histogram2dcontour\":[{\"colorbar\":{\"outlinewidth\":0,\"ticks\":\"\"},\"colorscale\":[[0.0,\"#0d0887\"],[0.1111111111111111,\"#46039f\"],[0.2222222222222222,\"#7201a8\"],[0.3333333333333333,\"#9c179e\"],[0.4444444444444444,\"#bd3786\"],[0.5555555555555556,\"#d8576b\"],[0.6666666666666666,\"#ed7953\"],[0.7777777777777778,\"#fb9f3a\"],[0.8888888888888888,\"#fdca26\"],[1.0,\"#f0f921\"]],\"type\":\"histogram2dcontour\"}],\"histogram2d\":[{\"colorbar\":{\"outlinewidth\":0,\"ticks\":\"\"},\"colorscale\":[[0.0,\"#0d0887\"],[0.1111111111111111,\"#46039f\"],[0.2222222222222222,\"#7201a8\"],[0.3333333333333333,\"#9c179e\"],[0.4444444444444444,\"#bd3786\"],[0.5555555555555556,\"#d8576b\"],[0.6666666666666666,\"#ed7953\"],[0.7777777777777778,\"#fb9f3a\"],[0.8888888888888888,\"#fdca26\"],[1.0,\"#f0f921\"]],\"type\":\"histogram2d\"}],\"histogram\":[{\"marker\":{\"pattern\":{\"fillmode\":\"overlay\",\"size\":10,\"solidity\":0.2}},\"type\":\"histogram\"}],\"mesh3d\":[{\"colorbar\":{\"outlinewidth\":0,\"ticks\":\"\"},\"type\":\"mesh3d\"}],\"parcoords\":[{\"line\":{\"colorbar\":{\"outlinewidth\":0,\"ticks\":\"\"}},\"type\":\"parcoords\"}],\"pie\":[{\"automargin\":true,\"type\":\"pie\"}],\"scatter3d\":[{\"line\":{\"colorbar\":{\"outlinewidth\":0,\"ticks\":\"\"}},\"marker\":{\"colorbar\":{\"outlinewidth\":0,\"ticks\":\"\"}},\"type\":\"scatter3d\"}],\"scattercarpet\":[{\"marker\":{\"colorbar\":{\"outlinewidth\":0,\"ticks\":\"\"}},\"type\":\"scattercarpet\"}],\"scattergeo\":[{\"marker\":{\"colorbar\":{\"outlinewidth\":0,\"ticks\":\"\"}},\"type\":\"scattergeo\"}],\"scattergl\":[{\"marker\":{\"colorbar\":{\"outlinewidth\":0,\"ticks\":\"\"}},\"type\":\"scattergl\"}],\"scattermapbox\":[{\"marker\":{\"colorbar\":{\"outlinewidth\":0,\"ticks\":\"\"}},\"type\":\"scattermapbox\"}],\"scatterpolargl\":[{\"marker\":{\"colorbar\":{\"outlinewidth\":0,\"ticks\":\"\"}},\"type\":\"scatterpolargl\"}],\"scatterpolar\":[{\"marker\":{\"colorbar\":{\"outlinewidth\":0,\"ticks\":\"\"}},\"type\":\"scatterpolar\"}],\"scatter\":[{\"marker\":{\"colorbar\":{\"outlinewidth\":0,\"ticks\":\"\"}},\"type\":\"scatter\"}],\"scatterternary\":[{\"marker\":{\"colorbar\":{\"outlinewidth\":0,\"ticks\":\"\"}},\"type\":\"scatterternary\"}],\"surface\":[{\"colorbar\":{\"outlinewidth\":0,\"ticks\":\"\"},\"colorscale\":[[0.0,\"#0d0887\"],[0.1111111111111111,\"#46039f\"],[0.2222222222222222,\"#7201a8\"],[0.3333333333333333,\"#9c179e\"],[0.4444444444444444,\"#bd3786\"],[0.5555555555555556,\"#d8576b\"],[0.6666666666666666,\"#ed7953\"],[0.7777777777777778,\"#fb9f3a\"],[0.8888888888888888,\"#fdca26\"],[1.0,\"#f0f921\"]],\"type\":\"surface\"}],\"table\":[{\"cells\":{\"fill\":{\"color\":\"#EBF0F8\"},\"line\":{\"color\":\"white\"}},\"header\":{\"fill\":{\"color\":\"#C8D4E3\"},\"line\":{\"color\":\"white\"}},\"type\":\"table\"}]},\"layout\":{\"annotationdefaults\":{\"arrowcolor\":\"#2a3f5f\",\"arrowhead\":0,\"arrowwidth\":1},\"autotypenumbers\":\"strict\",\"coloraxis\":{\"colorbar\":{\"outlinewidth\":0,\"ticks\":\"\"}},\"colorscale\":{\"diverging\":[[0,\"#8e0152\"],[0.1,\"#c51b7d\"],[0.2,\"#de77ae\"],[0.3,\"#f1b6da\"],[0.4,\"#fde0ef\"],[0.5,\"#f7f7f7\"],[0.6,\"#e6f5d0\"],[0.7,\"#b8e186\"],[0.8,\"#7fbc41\"],[0.9,\"#4d9221\"],[1,\"#276419\"]],\"sequential\":[[0.0,\"#0d0887\"],[0.1111111111111111,\"#46039f\"],[0.2222222222222222,\"#7201a8\"],[0.3333333333333333,\"#9c179e\"],[0.4444444444444444,\"#bd3786\"],[0.5555555555555556,\"#d8576b\"],[0.6666666666666666,\"#ed7953\"],[0.7777777777777778,\"#fb9f3a\"],[0.8888888888888888,\"#fdca26\"],[1.0,\"#f0f921\"]],\"sequentialminus\":[[0.0,\"#0d0887\"],[0.1111111111111111,\"#46039f\"],[0.2222222222222222,\"#7201a8\"],[0.3333333333333333,\"#9c179e\"],[0.4444444444444444,\"#bd3786\"],[0.5555555555555556,\"#d8576b\"],[0.6666666666666666,\"#ed7953\"],[0.7777777777777778,\"#fb9f3a\"],[0.8888888888888888,\"#fdca26\"],[1.0,\"#f0f921\"]]},\"colorway\":[\"#636efa\",\"#EF553B\",\"#00cc96\",\"#ab63fa\",\"#FFA15A\",\"#19d3f3\",\"#FF6692\",\"#B6E880\",\"#FF97FF\",\"#FECB52\"],\"font\":{\"color\":\"#2a3f5f\"},\"geo\":{\"bgcolor\":\"white\",\"lakecolor\":\"white\",\"landcolor\":\"#E5ECF6\",\"showlakes\":true,\"showland\":true,\"subunitcolor\":\"white\"},\"hoverlabel\":{\"align\":\"left\"},\"hovermode\":\"closest\",\"mapbox\":{\"style\":\"light\"},\"paper_bgcolor\":\"white\",\"plot_bgcolor\":\"#E5ECF6\",\"polar\":{\"angularaxis\":{\"gridcolor\":\"white\",\"linecolor\":\"white\",\"ticks\":\"\"},\"bgcolor\":\"#E5ECF6\",\"radialaxis\":{\"gridcolor\":\"white\",\"linecolor\":\"white\",\"ticks\":\"\"}},\"scene\":{\"xaxis\":{\"backgroundcolor\":\"#E5ECF6\",\"gridcolor\":\"white\",\"gridwidth\":2,\"linecolor\":\"white\",\"showbackground\":true,\"ticks\":\"\",\"zerolinecolor\":\"white\"},\"yaxis\":{\"backgroundcolor\":\"#E5ECF6\",\"gridcolor\":\"white\",\"gridwidth\":2,\"linecolor\":\"white\",\"showbackground\":true,\"ticks\":\"\",\"zerolinecolor\":\"white\"},\"zaxis\":{\"backgroundcolor\":\"#E5ECF6\",\"gridcolor\":\"white\",\"gridwidth\":2,\"linecolor\":\"white\",\"showbackground\":true,\"ticks\":\"\",\"zerolinecolor\":\"white\"}},\"shapedefaults\":{\"line\":{\"color\":\"#2a3f5f\"}},\"ternary\":{\"aaxis\":{\"gridcolor\":\"white\",\"linecolor\":\"white\",\"ticks\":\"\"},\"baxis\":{\"gridcolor\":\"white\",\"linecolor\":\"white\",\"ticks\":\"\"},\"bgcolor\":\"#E5ECF6\",\"caxis\":{\"gridcolor\":\"white\",\"linecolor\":\"white\",\"ticks\":\"\"}},\"title\":{\"x\":0.05},\"xaxis\":{\"automargin\":true,\"gridcolor\":\"white\",\"linecolor\":\"white\",\"ticks\":\"\",\"title\":{\"standoff\":15},\"zerolinecolor\":\"white\",\"zerolinewidth\":2},\"yaxis\":{\"automargin\":true,\"gridcolor\":\"white\",\"linecolor\":\"white\",\"ticks\":\"\",\"title\":{\"standoff\":15},\"zerolinecolor\":\"white\",\"zerolinewidth\":2}}},\"title\":{\"text\":\"Box plot of approximate cost\"},\"width\":800,\"yaxis\":{\"title\":{\"text\":\"Price\"}}},                        {\"responsive\": true}                    ).then(function(){\n",
              "                            \n",
              "var gd = document.getElementById('02832375-22a0-4ddb-9fe4-a4b487590d16');\n",
              "var x = new MutationObserver(function (mutations, observer) {{\n",
              "        var display = window.getComputedStyle(gd).display;\n",
              "        if (!display || display === 'none') {{\n",
              "            console.log([gd, 'removed!']);\n",
              "            Plotly.purge(gd);\n",
              "            observer.disconnect();\n",
              "        }}\n",
              "}});\n",
              "\n",
              "// Listen for the removal of the full notebook cells\n",
              "var notebookContainer = gd.closest('#notebook-container');\n",
              "if (notebookContainer) {{\n",
              "    x.observe(notebookContainer, {childList: true});\n",
              "}}\n",
              "\n",
              "// Listen for the clearing of the current output cell\n",
              "var outputEl = gd.closest('.output');\n",
              "if (outputEl) {{\n",
              "    x.observe(outputEl, {childList: true});\n",
              "}}\n",
              "\n",
              "                        })                };                            </script>        </div>\n",
              "</body>\n",
              "</html>"
            ]
          },
          "metadata": {}
        }
      ]
    },
    {
      "cell_type": "markdown",
      "source": [
        "**Distribution of charges**"
      ],
      "metadata": {
        "id": "1V88DbIMEXoe"
      }
    },
    {
      "cell_type": "code",
      "source": [
        "plt.figure(figsize=(8,8))\n",
        "sns.distplot(df['cost'])\n",
        "plt.show()"
      ],
      "metadata": {
        "colab": {
          "base_uri": "https://localhost:8080/",
          "height": 496
        },
        "id": "X1iuWff_D8q2",
        "outputId": "f76bb97b-999c-4de2-a393-c193cccce627"
      },
      "execution_count": 32,
      "outputs": [
        {
          "output_type": "display_data",
          "data": {
            "text/plain": [
              "<Figure size 576x576 with 1 Axes>"
            ],
            "image/png": "[encoded data removed]"
          },
          "metadata": {
            "needs_background": "light"
          }
        }
      ]
    },
    {
      "cell_type": "code",
      "source": [],
      "metadata": {
        "id": "pu0tLWM2EcLP"
      },
      "execution_count": 32,
      "outputs": []
    },
    {
      "cell_type": "markdown",
      "source": [
        "# Most Liked Dishes"
      ],
      "metadata": {
        "id": "9NWkEPPFExJS"
      }
    },
    {
      "cell_type": "code",
      "source": [
        "import re\n",
        "\n",
        "df.index = range(df.shape[0])\n",
        "likes=[]\n",
        "for i in range(df.shape[0]):\n",
        "  array_split=re.split(',', df['dish_liked'][i])\n",
        "  for item in array_split:\n",
        "    likes.append(item.strip())"
      ],
      "metadata": {
        "id": "3GdwofP-E2A1"
      },
      "execution_count": 33,
      "outputs": []
    },
    {
      "cell_type": "code",
      "source": [
        "df.index = range(df.shape[0])\n",
        "df.index"
      ],
      "metadata": {
        "colab": {
          "base_uri": "https://localhost:8080/"
        },
        "id": "P_9u4Y9IFiRk",
        "outputId": "4b281968-53b5-46a5-8c58-f262c6014b77"
      },
      "execution_count": 34,
      "outputs": [
        {
          "output_type": "execute_result",
          "data": {
            "text/plain": [
              "RangeIndex(start=0, stop=23248, step=1)"
            ]
          },
          "metadata": {},
          "execution_count": 34
        }
      ]
    },
    {
      "cell_type": "code",
      "source": [
        "favourite_food = pd.Series(likes).value_counts()\n",
        "favourite_food.head(30)"
      ],
      "metadata": {
        "colab": {
          "base_uri": "https://localhost:8080/"
        },
        "id": "KGY8GQZzFoh8",
        "outputId": "95caf684-0553-4e49-b64f-d4f97ff813a6"
      },
      "execution_count": 35,
      "outputs": [
        {
          "output_type": "execute_result",
          "data": {
            "text/plain": [
              "Pasta               3349\n",
              "Burgers             2992\n",
              "Cocktails           2771\n",
              "Pizza               2662\n",
              "Biryani             2056\n",
              "Coffee              1985\n",
              "Mocktails           1854\n",
              "Sandwiches          1657\n",
              "Paratha             1529\n",
              "Salads              1386\n",
              "Noodles             1371\n",
              "Fish                1327\n",
              "Nachos              1324\n",
              "Chicken Biryani     1303\n",
              "Beer                1227\n",
              "Mutton Biryani      1090\n",
              "Tea                 1028\n",
              "Thali                996\n",
              "Rolls                981\n",
              "Fries                964\n",
              "Waffles              964\n",
              "Butter Chicken       950\n",
              "Momos                927\n",
              "Sea Food             926\n",
              "Chaat                901\n",
              "Sandwich             881\n",
              "Roti                 851\n",
              "Tandoori Chicken     850\n",
              "Brownie              832\n",
              "Lassi                825\n",
              "dtype: int64"
            ]
          },
          "metadata": {},
          "execution_count": 35
        }
      ]
    },
    {
      "cell_type": "code",
      "source": [
        "ax= favourite_food.nlargest(n=20, keep='first').plot(kind='bar', figsize=(18,10), title=\"Top 20 food counts\")\n",
        "for i in ax.patches:\n",
        "  ax.annotate(str(i.get_height()), (i.get_x()*1.005, i.get_height()*1.005))\n"
      ],
      "metadata": {
        "colab": {
          "base_uri": "https://localhost:8080/",
          "height": 498
        },
        "id": "TprarYKZF5rj",
        "outputId": "778606f6-6694-4d42-b03c-f0ea80733c02"
      },
      "execution_count": 36,
      "outputs": [
        {
          "output_type": "display_data",
          "data": {
            "text/plain": [
              "<Figure size 1296x720 with 1 Axes>"
            ],
            "image/png": "[encoded data removed]"
          },
          "metadata": {
            "needs_background": "light"
          }
        }
      ]
    },
    {
      "cell_type": "markdown",
      "source": [
        "5 Most liked Dishes: Pizza, Pasta, Cocktails, Burgers and Mocktails"
      ],
      "metadata": {
        "id": "ENnfWHWGH1yO"
      }
    },
    {
      "cell_type": "markdown",
      "source": [
        "Restutrants and their counts"
      ],
      "metadata": {
        "id": "KTnf9EoRIFDy"
      }
    },
    {
      "cell_type": "code",
      "source": [
        "plt.figure(figsize=(15,7))\n",
        "rest = df['rest_type'].value_counts()[:20]\n",
        "sns.barplot(rest,rest.index)\n",
        "plt.title('Restraunt types')\n",
        "plt.xlabel('count')"
      ],
      "metadata": {
        "colab": {
          "base_uri": "https://localhost:8080/",
          "height": 381
        },
        "id": "jgD6MLQaIHsI",
        "outputId": "8f0fad73-6448-4da0-be74-141def07a887"
      },
      "execution_count": 37,
      "outputs": [
        {
          "output_type": "execute_result",
          "data": {
            "text/plain": [
              "Text(0.5, 0, 'count')"
            ]
          },
          "metadata": {},
          "execution_count": 37
        },
        {
          "output_type": "display_data",
          "data": {
            "text/plain": [
              "<Figure size 1080x504 with 1 Axes>"
            ],
            "image/png": "[encoded data removed]"
          },
          "metadata": {
            "needs_background": "light"
          }
        }
      ]
    },
    {
      "cell_type": "markdown",
      "source": [
        "Casual Dining, Quick Bites and Cafes are 3 most common types"
      ],
      "metadata": {
        "id": "-ppHZJ1PIwHc"
      }
    },
    {
      "cell_type": "code",
      "source": [],
      "metadata": {
        "id": "GHn9XfzXIoVt"
      },
      "execution_count": 37,
      "outputs": []
    },
    {
      "cell_type": "code",
      "source": [
        "df.head()"
      ],
      "metadata": {
        "colab": {
          "base_uri": "https://localhost:8080/",
          "height": 634
        },
        "id": "FbUBvuNnJXn-",
        "outputId": "fee284cf-d2f1-4688-c519-26ebb290391f"
      },
      "execution_count": 38,
      "outputs": [
        {
          "output_type": "execute_result",
          "data": {
            "text/plain": [
              "                                             address                   name  \\\n",
              "0  942, 21st Main Road, 2nd Stage, Banashankari, ...                  Jalsa   \n",
              "1  2nd Floor, 80 Feet Road, Near Big Bazaar, 6th ...         Spice Elephant   \n",
              "2  1112, Next to KIMS Medical College, 17th Cross...        San Churro Cafe   \n",
              "3  1st Floor, Annakuteera, 3rd Stage, Banashankar...  Addhuri Udupi Bhojana   \n",
              "4  10, 3rd Floor, Lakshmi Associates, Gandhi Baza...          Grand Village   \n",
              "\n",
              "  online_order book_table  rate  votes      location            rest_type  \\\n",
              "0          Yes        Yes   4.1    775  Banashankari        Casual Dining   \n",
              "1          Yes         No   4.1    787  Banashankari        Casual Dining   \n",
              "2          Yes         No   3.8    918  Banashankari  Cafe, Casual Dining   \n",
              "3           No         No   3.7     88  Banashankari          Quick Bites   \n",
              "4           No         No   3.8    166  Basavanagudi        Casual Dining   \n",
              "\n",
              "                                          dish_liked  \\\n",
              "0  Pasta, Lunch Buffet, Masala Papad, Paneer Laja...   \n",
              "1  Momos, Lunch Buffet, Chocolate Nirvana, Thai G...   \n",
              "2  Churros, Cannelloni, Minestrone Soup, Hot Choc...   \n",
              "3                                        Masala Dosa   \n",
              "4                                Panipuri, Gol Gappe   \n",
              "\n",
              "                         cuisines   cost  \\\n",
              "0  North Indian, Mughlai, Chinese  800.0   \n",
              "1     Chinese, North Indian, Thai  800.0   \n",
              "2          Cafe, Mexican, Italian  800.0   \n",
              "3      South Indian, North Indian  300.0   \n",
              "4        North Indian, Rajasthani  600.0   \n",
              "\n",
              "                                        reviews_list    type          city  \n",
              "0  [('Rated 4.0', 'RATED\\n  A beautiful place to ...  Buffet  Banashankari  \n",
              "1  [('Rated 4.0', 'RATED\\n  Had been here for din...  Buffet  Banashankari  \n",
              "2  [('Rated 3.0', \"RATED\\n  Ambience is not that ...  Buffet  Banashankari  \n",
              "3  [('Rated 4.0', \"RATED\\n  Great food and proper...  Buffet  Banashankari  \n",
              "4  [('Rated 4.0', 'RATED\\n  Very good restaurant ...  Buffet  Banashankari  "
            ],
            "text/html": [
              "\n",
              "  <div id=\"df-8da485a0-fdae-4f33-bf1a-5bf2abdfbe4c\">\n",
              "    <div class=\"colab-df-container\">\n",
              "      <div>\n",
              "<style scoped>\n",
              "    .dataframe tbody tr th:only-of-type {\n",
              "        vertical-align: middle;\n",
              "    }\n",
              "\n",
              "    .dataframe tbody tr th {\n",
              "        vertical-align: top;\n",
              "    }\n",
              "\n",
              "    .dataframe thead th {\n",
              "        text-align: right;\n",
              "    }\n",
              "</style>\n",
              "<table border=\"1\" class=\"dataframe\">\n",
              "  <thead>\n",
              "    <tr style=\"text-align: right;\">\n",
              "      <th></th>\n",
              "      <th>address</th>\n",
              "      <th>name</th>\n",
              "      <th>online_order</th>\n",
              "      <th>book_table</th>\n",
              "      <th>rate</th>\n",
              "      <th>votes</th>\n",
              "      <th>location</th>\n",
              "      <th>rest_type</th>\n",
              "      <th>dish_liked</th>\n",
              "      <th>cuisines</th>\n",
              "      <th>cost</th>\n",
              "      <th>reviews_list</th>\n",
              "      <th>type</th>\n",
              "      <th>city</th>\n",
              "    </tr>\n",
              "  </thead>\n",
              "  <tbody>\n",
              "    <tr>\n",
              "      <th>0</th>\n",
              "      <td>942, 21st Main Road, 2nd Stage, Banashankari, ...</td>\n",
              "      <td>Jalsa</td>\n",
              "      <td>Yes</td>\n",
              "      <td>Yes</td>\n",
              "      <td>4.1</td>\n",
              "      <td>775</td>\n",
              "      <td>Banashankari</td>\n",
              "      <td>Casual Dining</td>\n",
              "      <td>Pasta, Lunch Buffet, Masala Papad, Paneer Laja...</td>\n",
              "      <td>North Indian, Mughlai, Chinese</td>\n",
              "      <td>800.0</td>\n",
              "      <td>[('Rated 4.0', 'RATED\\n  A beautiful place to ...</td>\n",
              "      <td>Buffet</td>\n",
              "      <td>Banashankari</td>\n",
              "    </tr>\n",
              "    <tr>\n",
              "      <th>1</th>\n",
              "      <td>2nd Floor, 80 Feet Road, Near Big Bazaar, 6th ...</td>\n",
              "      <td>Spice Elephant</td>\n",
              "      <td>Yes</td>\n",
              "      <td>No</td>\n",
              "      <td>4.1</td>\n",
              "      <td>787</td>\n",
              "      <td>Banashankari</td>\n",
              "      <td>Casual Dining</td>\n",
              "      <td>Momos, Lunch Buffet, Chocolate Nirvana, Thai G...</td>\n",
              "      <td>Chinese, North Indian, Thai</td>\n",
              "      <td>800.0</td>\n",
              "      <td>[('Rated 4.0', 'RATED\\n  Had been here for din...</td>\n",
              "      <td>Buffet</td>\n",
              "      <td>Banashankari</td>\n",
              "    </tr>\n",
              "    <tr>\n",
              "      <th>2</th>\n",
              "      <td>1112, Next to KIMS Medical College, 17th Cross...</td>\n",
              "      <td>San Churro Cafe</td>\n",
              "      <td>Yes</td>\n",
              "      <td>No</td>\n",
              "      <td>3.8</td>\n",
              "      <td>918</td>\n",
              "      <td>Banashankari</td>\n",
              "      <td>Cafe, Casual Dining</td>\n",
              "      <td>Churros, Cannelloni, Minestrone Soup, Hot Choc...</td>\n",
              "      <td>Cafe, Mexican, Italian</td>\n",
              "      <td>800.0</td>\n",
              "      <td>[('Rated 3.0', \"RATED\\n  Ambience is not that ...</td>\n",
              "      <td>Buffet</td>\n",
              "      <td>Banashankari</td>\n",
              "    </tr>\n",
              "    <tr>\n",
              "      <th>3</th>\n",
              "      <td>1st Floor, Annakuteera, 3rd Stage, Banashankar...</td>\n",
              "      <td>Addhuri Udupi Bhojana</td>\n",
              "      <td>No</td>\n",
              "      <td>No</td>\n",
              "      <td>3.7</td>\n",
              "      <td>88</td>\n",
              "      <td>Banashankari</td>\n",
              "      <td>Quick Bites</td>\n",
              "      <td>Masala Dosa</td>\n",
              "      <td>South Indian, North Indian</td>\n",
              "      <td>300.0</td>\n",
              "      <td>[('Rated 4.0', \"RATED\\n  Great food and proper...</td>\n",
              "      <td>Buffet</td>\n",
              "      <td>Banashankari</td>\n",
              "    </tr>\n",
              "    <tr>\n",
              "      <th>4</th>\n",
              "      <td>10, 3rd Floor, Lakshmi Associates, Gandhi Baza...</td>\n",
              "      <td>Grand Village</td>\n",
              "      <td>No</td>\n",
              "      <td>No</td>\n",
              "      <td>3.8</td>\n",
              "      <td>166</td>\n",
              "      <td>Basavanagudi</td>\n",
              "      <td>Casual Dining</td>\n",
              "      <td>Panipuri, Gol Gappe</td>\n",
              "      <td>North Indian, Rajasthani</td>\n",
              "      <td>600.0</td>\n",
              "      <td>[('Rated 4.0', 'RATED\\n  Very good restaurant ...</td>\n",
              "      <td>Buffet</td>\n",
              "      <td>Banashankari</td>\n",
              "    </tr>\n",
              "  </tbody>\n",
              "</table>\n",
              "</div>\n",
              "      <button class=\"colab-df-convert\" onclick=\"convertToInteractive('df-8da485a0-fdae-4f33-bf1a-5bf2abdfbe4c')\"\n",
              "              title=\"Convert this dataframe to an interactive table.\"\n",
              "              style=\"display:none;\">\n",
              "        \n",
              "  <svg xmlns=\"http://www.w3.org/2000/svg\" height=\"24px\"viewBox=\"0 0 24 24\"\n",
              "       width=\"24px\">\n",
              "    <path d=\"M0 0h24v24H0V0z\" fill=\"none\"/>\n",
              "    <path d=\"M18.56 5.44l.94 2.06.94-2.06 2.06-.94-2.06-.94-.94-2.06-.94 2.06-2.06.94zm-11 1L8.5 8.5l.94-2.06 2.06-.94-2.06-.94L8.5 2.5l-.94 2.06-2.06.94zm10 10l.94 2.06.94-2.06 2.06-.94-2.06-.94-.94-2.06-.94 2.06-2.06.94z\"/><path d=\"M17.41 7.96l-1.37-1.37c-.4-.4-.92-.59-1.43-.59-.52 0-1.04.2-1.43.59L10.3 9.45l-7.72 7.72c-.78.78-.78 2.05 0 2.83L4 21.41c.39.39.9.59 1.41.59.51 0 1.02-.2 1.41-.59l7.78-7.78 2.81-2.81c.8-.78.8-2.07 0-2.86zM5.41 20L4 18.59l7.72-7.72 1.47 1.35L5.41 20z\"/>\n",
              "  </svg>\n",
              "      </button>\n",
              "      \n",
              "  <style>\n",
              "    .colab-df-container {\n",
              "      display:flex;\n",
              "      flex-wrap:wrap;\n",
              "      gap: 12px;\n",
              "    }\n",
              "\n",
              "    .colab-df-convert {\n",
              "      background-color: #E8F0FE;\n",
              "      border: none;\n",
              "      border-radius: 50%;\n",
              "      cursor: pointer;\n",
              "      display: none;\n",
              "      fill: #1967D2;\n",
              "      height: 32px;\n",
              "      padding: 0 0 0 0;\n",
              "      width: 32px;\n",
              "    }\n",
              "\n",
              "    .colab-df-convert:hover {\n",
              "      background-color: #E2EBFA;\n",
              "      box-shadow: 0px 1px 2px rgba(60, 64, 67, 0.3), 0px 1px 3px 1px rgba(60, 64, 67, 0.15);\n",
              "      fill: #174EA6;\n",
              "    }\n",
              "\n",
              "    [theme=dark] .colab-df-convert {\n",
              "      background-color: #3B4455;\n",
              "      fill: #D2E3FC;\n",
              "    }\n",
              "\n",
              "    [theme=dark] .colab-df-convert:hover {\n",
              "      background-color: #434B5C;\n",
              "      box-shadow: 0px 1px 3px 1px rgba(0, 0, 0, 0.15);\n",
              "      filter: drop-shadow(0px 1px 2px rgba(0, 0, 0, 0.3));\n",
              "      fill: #FFFFFF;\n",
              "    }\n",
              "  </style>\n",
              "\n",
              "      <script>\n",
              "        const buttonEl =\n",
              "          document.querySelector('#df-8da485a0-fdae-4f33-bf1a-5bf2abdfbe4c button.colab-df-convert');\n",
              "        buttonEl.style.display =\n",
              "          google.colab.kernel.accessAllowed ? 'block' : 'none';\n",
              "\n",
              "        async function convertToInteractive(key) {\n",
              "          const element = document.querySelector('#df-8da485a0-fdae-4f33-bf1a-5bf2abdfbe4c');\n",
              "          const dataTable =\n",
              "            await google.colab.kernel.invokeFunction('convertToInteractive',\n",
              "                                                     [key], {});\n",
              "          if (!dataTable) return;\n",
              "\n",
              "          const docLinkHtml = 'Like what you see? Visit the ' +\n",
              "            '<a target=\"_blank\" href=https://colab.research.google.com/notebooks/data_table.ipynb>data table notebook</a>'\n",
              "            + ' to learn more about interactive tables.';\n",
              "          element.innerHTML = '';\n",
              "          dataTable['output_type'] = 'display_data';\n",
              "          await google.colab.output.renderOutput(dataTable, element);\n",
              "          const docLink = document.createElement('div');\n",
              "          docLink.innerHTML = docLinkHtml;\n",
              "          element.appendChild(docLink);\n",
              "        }\n",
              "      </script>\n",
              "    </div>\n",
              "  </div>\n",
              "  "
            ]
          },
          "metadata": {},
          "execution_count": 38
        }
      ]
    },
    {
      "cell_type": "markdown",
      "source": [
        "# Convert categorical variables into numeric format"
      ],
      "metadata": {
        "id": "Y08knc2uvRBO"
      }
    },
    {
      "cell_type": "code",
      "source": [
        "df.online_order[df.online_order == 'Yes']=1\n",
        "df.online_order[df.online_order == 'No']=0"
      ],
      "metadata": {
        "id": "msRs4M8zvDdo"
      },
      "execution_count": 39,
      "outputs": []
    },
    {
      "cell_type": "code",
      "source": [
        "df.online_order.value_counts()"
      ],
      "metadata": {
        "colab": {
          "base_uri": "https://localhost:8080/"
        },
        "id": "efzh8ZPRvmNT",
        "outputId": "d83c6c36-7a1b-4094-e4f8-c7d95d481a97"
      },
      "execution_count": 40,
      "outputs": [
        {
          "output_type": "execute_result",
          "data": {
            "text/plain": [
              "1    16378\n",
              "0     6870\n",
              "Name: online_order, dtype: int64"
            ]
          },
          "metadata": {},
          "execution_count": 40
        }
      ]
    },
    {
      "cell_type": "code",
      "source": [
        "df.online_order = pd.to_numeric(df.online_order)"
      ],
      "metadata": {
        "id": "4kT0wlINvrgT"
      },
      "execution_count": 41,
      "outputs": []
    },
    {
      "cell_type": "markdown",
      "source": [
        "# Change the string categorical into int"
      ],
      "metadata": {
        "id": "C12DlUOhwMa-"
      }
    },
    {
      "cell_type": "code",
      "source": [
        "df.book_table[df.book_table== 'Yes']=1\n",
        "df.book_table[df.book_table== 'No']=0"
      ],
      "metadata": {
        "id": "itPByJLUwKdJ"
      },
      "execution_count": 42,
      "outputs": []
    },
    {
      "cell_type": "code",
      "source": [
        "df.book_table = pd.to_numeric(df.book_table)"
      ],
      "metadata": {
        "id": "uJCZwlalwa8h"
      },
      "execution_count": 43,
      "outputs": []
    },
    {
      "cell_type": "code",
      "source": [
        "df.book_table.value_counts()"
      ],
      "metadata": {
        "colab": {
          "base_uri": "https://localhost:8080/"
        },
        "id": "ueRhAqnhwh2N",
        "outputId": "dd769949-6f7c-4cf3-b089-985d466165c3"
      },
      "execution_count": 44,
      "outputs": [
        {
          "output_type": "execute_result",
          "data": {
            "text/plain": [
              "0    17191\n",
              "1     6057\n",
              "Name: book_table, dtype: int64"
            ]
          },
          "metadata": {},
          "execution_count": 44
        }
      ]
    },
    {
      "cell_type": "markdown",
      "source": [
        "Label encode the categorical variables to make it easier to build algoritm"
      ],
      "metadata": {
        "id": "bFNyL0QmxBpC"
      }
    },
    {
      "cell_type": "code",
      "source": [
        "from sklearn.preprocessing import LabelEncoder\n",
        "le = LabelEncoder()"
      ],
      "metadata": {
        "id": "tXpuYwAdwnWE"
      },
      "execution_count": 45,
      "outputs": []
    },
    {
      "cell_type": "code",
      "source": [
        "f = df.copy()"
      ],
      "metadata": {
        "id": "5N9HL4HmymrH"
      },
      "execution_count": 46,
      "outputs": []
    },
    {
      "cell_type": "code",
      "source": [
        "df = f.copy()"
      ],
      "metadata": {
        "colab": {
          "base_uri": "https://localhost:8080/",
          "height": 166
        },
        "id": "-E7FQJNlznCt",
        "outputId": "dd270eac-59a2-499b-88aa-f8944c51cce4"
      },
      "execution_count": 67,
      "outputs": [
        {
          "output_type": "error",
          "ename": "AttributeError",
          "evalue": "ignored",
          "traceback": [
            "\u001b[0;31m---------------------------------------------------------------------------\u001b[0m",
            "\u001b[0;31mAttributeError\u001b[0m                            Traceback (most recent call last)",
            "\u001b[0;32m<ipython-input-67-71af8d34209e>\u001b[0m in \u001b[0;36m<module>\u001b[0;34m\u001b[0m\n\u001b[0;32m----> 1\u001b[0;31m \u001b[0mdf\u001b[0m \u001b[0;34m=\u001b[0m \u001b[0mf\u001b[0m\u001b[0;34m.\u001b[0m\u001b[0mcopy\u001b[0m\u001b[0;34m(\u001b[0m\u001b[0;34m)\u001b[0m\u001b[0;34m\u001b[0m\u001b[0;34m\u001b[0m\u001b[0m\n\u001b[0m",
            "\u001b[0;31mAttributeError\u001b[0m: '_io.TextIOWrapper' object has no attribute 'copy'"
          ]
        }
      ]
    },
    {
      "cell_type": "code",
      "source": [
        "df.location = le.fit_transform(df.location)\n",
        "loc=[]\n",
        "for row in df.location:\n",
        "  temp = le.inverse_transform([row])\n",
        "  loc.append((temp[0],row))\n",
        "\n",
        "df.rest_type = le.fit_transform(df.rest_type)\n",
        "\n",
        "type_of_rest=[]\n",
        "for row in df.rest_type:\n",
        "  temp = le.inverse_transform([row])\n",
        "  type_of_rest.append((temp[0],row))\n",
        "\n",
        "df.cuisines = le.fit_transform(df.cuisines)\n",
        "\n",
        "cuisines=[]\n",
        "for row in df.cuisines:\n",
        "  temp = le.inverse_transform([row])\n",
        "  cuisines.append((temp[0],row))"
      ],
      "metadata": {
        "id": "9Vr6QExIxWxU"
      },
      "execution_count": 68,
      "outputs": []
    },
    {
      "cell_type": "code",
      "source": [
        "df"
      ],
      "metadata": {
        "colab": {
          "base_uri": "https://localhost:8080/",
          "height": 1000
        },
        "id": "ORZDq_J0xxV2",
        "outputId": "97fcae90-84e6-425d-dc2f-9d6e9d01e4e3"
      },
      "execution_count": 69,
      "outputs": [
        {
          "output_type": "execute_result",
          "data": {
            "text/plain": [
              "                                                 address  \\\n",
              "0      942, 21st Main Road, 2nd Stage, Banashankari, ...   \n",
              "1      2nd Floor, 80 Feet Road, Near Big Bazaar, 6th ...   \n",
              "2      1112, Next to KIMS Medical College, 17th Cross...   \n",
              "3      1st Floor, Annakuteera, 3rd Stage, Banashankar...   \n",
              "4      10, 3rd Floor, Lakshmi Associates, Gandhi Baza...   \n",
              "...                                                  ...   \n",
              "23243  2nd Floor, Iona, Virginia Mall, Whitefield Mai...   \n",
              "23244  Bengaluru Marriott Hotel, 75, 8th Road, EPIP A...   \n",
              "23245  Keys Hotel, 6, 1st Phase Industrial Area, Near...   \n",
              "23246  139/C1, Next To GR Tech Park, Pattandur Agraha...   \n",
              "23247  Sheraton Grand Bengaluru Whitefield Hotel & Co...   \n",
              "\n",
              "                                                    name  online_order  \\\n",
              "0                                                  Jalsa             1   \n",
              "1                                         Spice Elephant             1   \n",
              "2                                        San Churro Cafe             1   \n",
              "3                                  Addhuri Udupi Bhojana             0   \n",
              "4                                          Grand Village             0   \n",
              "...                                                  ...           ...   \n",
              "23243                                 Izakaya Gastro Pub             1   \n",
              "23244        M Bar - Bengaluru Marriott Hotel Whitefield             0   \n",
              "23245                             Keys Cafe - Keys Hotel             0   \n",
              "23246                                            Bhagini             0   \n",
              "23247  Chime - Sheraton Grand Bengaluru Whitefield Ho...             0   \n",
              "\n",
              "       book_table  rate  votes  location  rest_type  \\\n",
              "0               1   4.1    775         1         20   \n",
              "1               0   4.1    787         1         20   \n",
              "2               0   3.8    918         1         16   \n",
              "3               0   3.7     88         1         62   \n",
              "4               0   3.8    166         4         20   \n",
              "...           ...   ...    ...       ...        ...   \n",
              "23243           1   3.8    128        84          5   \n",
              "23244           0   3.9     77        84         38   \n",
              "23245           0   2.8    161        84         21   \n",
              "23246           0   2.5     81        84         21   \n",
              "23247           1   4.3    236        25          4   \n",
              "\n",
              "                                              dish_liked  cuisines    cost  \\\n",
              "0      Pasta, Lunch Buffet, Masala Papad, Paneer Laja...      1386   800.0   \n",
              "1      Momos, Lunch Buffet, Chocolate Nirvana, Thai G...       594   800.0   \n",
              "2      Churros, Cannelloni, Minestrone Soup, Hot Choc...       484   800.0   \n",
              "3                                            Masala Dosa      1587   300.0   \n",
              "4                                    Panipuri, Gol Gappe      1406   600.0   \n",
              "...                                                  ...       ...     ...   \n",
              "23243  Beer, Chicken Guntur, Paneer Tikka, Fish, Nood...      1318  1200.0   \n",
              "23244                                   Rooftop Ambience       878  2000.0   \n",
              "23245  Salads, Coffee, Breakfast Buffet, Halwa, Chick...       539  1200.0   \n",
              "23246                               Biryani, Andhra Meal        80   800.0   \n",
              "23247                       Cocktails, Pizza, Buttermilk       878  2500.0   \n",
              "\n",
              "                                            reviews_list           type  \\\n",
              "0      [('Rated 4.0', 'RATED\\n  A beautiful place to ...         Buffet   \n",
              "1      [('Rated 4.0', 'RATED\\n  Had been here for din...         Buffet   \n",
              "2      [('Rated 3.0', \"RATED\\n  Ambience is not that ...         Buffet   \n",
              "3      [('Rated 4.0', \"RATED\\n  Great food and proper...         Buffet   \n",
              "4      [('Rated 4.0', 'RATED\\n  Very good restaurant ...         Buffet   \n",
              "...                                                  ...            ...   \n",
              "23243  [('Rated 3.0', \"RATED\\n  Nice place to hangout...  Pubs and bars   \n",
              "23244  [('Rated 4.0', 'RATED\\n  Went there post dinne...  Pubs and bars   \n",
              "23245  [('Rated 3.0', 'RATED\\n  Place is good not tha...  Pubs and bars   \n",
              "23246  [('Rated 4.0', 'RATED\\n  A fine place to chill...  Pubs and bars   \n",
              "23247  [('Rated 4.0', 'RATED\\n  Nice and friendly pla...  Pubs and bars   \n",
              "\n",
              "               city  \n",
              "0      Banashankari  \n",
              "1      Banashankari  \n",
              "2      Banashankari  \n",
              "3      Banashankari  \n",
              "4      Banashankari  \n",
              "...             ...  \n",
              "23243    Whitefield  \n",
              "23244    Whitefield  \n",
              "23245    Whitefield  \n",
              "23246    Whitefield  \n",
              "23247    Whitefield  \n",
              "\n",
              "[23248 rows x 14 columns]"
            ],
            "text/html": [
              "\n",
              "  <div id=\"df-7fbf9371-5f68-4e88-b2d8-4b5b6e85c9da\">\n",
              "    <div class=\"colab-df-container\">\n",
              "      <div>\n",
              "<style scoped>\n",
              "    .dataframe tbody tr th:only-of-type {\n",
              "        vertical-align: middle;\n",
              "    }\n",
              "\n",
              "    .dataframe tbody tr th {\n",
              "        vertical-align: top;\n",
              "    }\n",
              "\n",
              "    .dataframe thead th {\n",
              "        text-align: right;\n",
              "    }\n",
              "</style>\n",
              "<table border=\"1\" class=\"dataframe\">\n",
              "  <thead>\n",
              "    <tr style=\"text-align: right;\">\n",
              "      <th></th>\n",
              "      <th>address</th>\n",
              "      <th>name</th>\n",
              "      <th>online_order</th>\n",
              "      <th>book_table</th>\n",
              "      <th>rate</th>\n",
              "      <th>votes</th>\n",
              "      <th>location</th>\n",
              "      <th>rest_type</th>\n",
              "      <th>dish_liked</th>\n",
              "      <th>cuisines</th>\n",
              "      <th>cost</th>\n",
              "      <th>reviews_list</th>\n",
              "      <th>type</th>\n",
              "      <th>city</th>\n",
              "    </tr>\n",
              "  </thead>\n",
              "  <tbody>\n",
              "    <tr>\n",
              "      <th>0</th>\n",
              "      <td>942, 21st Main Road, 2nd Stage, Banashankari, ...</td>\n",
              "      <td>Jalsa</td>\n",
              "      <td>1</td>\n",
              "      <td>1</td>\n",
              "      <td>4.1</td>\n",
              "      <td>775</td>\n",
              "      <td>1</td>\n",
              "      <td>20</td>\n",
              "      <td>Pasta, Lunch Buffet, Masala Papad, Paneer Laja...</td>\n",
              "      <td>1386</td>\n",
              "      <td>800.0</td>\n",
              "      <td>[('Rated 4.0', 'RATED\\n  A beautiful place to ...</td>\n",
              "      <td>Buffet</td>\n",
              "      <td>Banashankari</td>\n",
              "    </tr>\n",
              "    <tr>\n",
              "      <th>1</th>\n",
              "      <td>2nd Floor, 80 Feet Road, Near Big Bazaar, 6th ...</td>\n",
              "      <td>Spice Elephant</td>\n",
              "      <td>1</td>\n",
              "      <td>0</td>\n",
              "      <td>4.1</td>\n",
              "      <td>787</td>\n",
              "      <td>1</td>\n",
              "      <td>20</td>\n",
              "      <td>Momos, Lunch Buffet, Chocolate Nirvana, Thai G...</td>\n",
              "      <td>594</td>\n",
              "      <td>800.0</td>\n",
              "      <td>[('Rated 4.0', 'RATED\\n  Had been here for din...</td>\n",
              "      <td>Buffet</td>\n",
              "      <td>Banashankari</td>\n",
              "    </tr>\n",
              "    <tr>\n",
              "      <th>2</th>\n",
              "      <td>1112, Next to KIMS Medical College, 17th Cross...</td>\n",
              "      <td>San Churro Cafe</td>\n",
              "      <td>1</td>\n",
              "      <td>0</td>\n",
              "      <td>3.8</td>\n",
              "      <td>918</td>\n",
              "      <td>1</td>\n",
              "      <td>16</td>\n",
              "      <td>Churros, Cannelloni, Minestrone Soup, Hot Choc...</td>\n",
              "      <td>484</td>\n",
              "      <td>800.0</td>\n",
              "      <td>[('Rated 3.0', \"RATED\\n  Ambience is not that ...</td>\n",
              "      <td>Buffet</td>\n",
              "      <td>Banashankari</td>\n",
              "    </tr>\n",
              "    <tr>\n",
              "      <th>3</th>\n",
              "      <td>1st Floor, Annakuteera, 3rd Stage, Banashankar...</td>\n",
              "      <td>Addhuri Udupi Bhojana</td>\n",
              "      <td>0</td>\n",
              "      <td>0</td>\n",
              "      <td>3.7</td>\n",
              "      <td>88</td>\n",
              "      <td>1</td>\n",
              "      <td>62</td>\n",
              "      <td>Masala Dosa</td>\n",
              "      <td>1587</td>\n",
              "      <td>300.0</td>\n",
              "      <td>[('Rated 4.0', \"RATED\\n  Great food and proper...</td>\n",
              "      <td>Buffet</td>\n",
              "      <td>Banashankari</td>\n",
              "    </tr>\n",
              "    <tr>\n",
              "      <th>4</th>\n",
              "      <td>10, 3rd Floor, Lakshmi Associates, Gandhi Baza...</td>\n",
              "      <td>Grand Village</td>\n",
              "      <td>0</td>\n",
              "      <td>0</td>\n",
              "      <td>3.8</td>\n",
              "      <td>166</td>\n",
              "      <td>4</td>\n",
              "      <td>20</td>\n",
              "      <td>Panipuri, Gol Gappe</td>\n",
              "      <td>1406</td>\n",
              "      <td>600.0</td>\n",
              "      <td>[('Rated 4.0', 'RATED\\n  Very good restaurant ...</td>\n",
              "      <td>Buffet</td>\n",
              "      <td>Banashankari</td>\n",
              "    </tr>\n",
              "    <tr>\n",
              "      <th>...</th>\n",
              "      <td>...</td>\n",
              "      <td>...</td>\n",
              "      <td>...</td>\n",
              "      <td>...</td>\n",
              "      <td>...</td>\n",
              "      <td>...</td>\n",
              "      <td>...</td>\n",
              "      <td>...</td>\n",
              "      <td>...</td>\n",
              "      <td>...</td>\n",
              "      <td>...</td>\n",
              "      <td>...</td>\n",
              "      <td>...</td>\n",
              "      <td>...</td>\n",
              "    </tr>\n",
              "    <tr>\n",
              "      <th>23243</th>\n",
              "      <td>2nd Floor, Iona, Virginia Mall, Whitefield Mai...</td>\n",
              "      <td>Izakaya Gastro Pub</td>\n",
              "      <td>1</td>\n",
              "      <td>1</td>\n",
              "      <td>3.8</td>\n",
              "      <td>128</td>\n",
              "      <td>84</td>\n",
              "      <td>5</td>\n",
              "      <td>Beer, Chicken Guntur, Paneer Tikka, Fish, Nood...</td>\n",
              "      <td>1318</td>\n",
              "      <td>1200.0</td>\n",
              "      <td>[('Rated 3.0', \"RATED\\n  Nice place to hangout...</td>\n",
              "      <td>Pubs and bars</td>\n",
              "      <td>Whitefield</td>\n",
              "    </tr>\n",
              "    <tr>\n",
              "      <th>23244</th>\n",
              "      <td>Bengaluru Marriott Hotel, 75, 8th Road, EPIP A...</td>\n",
              "      <td>M Bar - Bengaluru Marriott Hotel Whitefield</td>\n",
              "      <td>0</td>\n",
              "      <td>0</td>\n",
              "      <td>3.9</td>\n",
              "      <td>77</td>\n",
              "      <td>84</td>\n",
              "      <td>38</td>\n",
              "      <td>Rooftop Ambience</td>\n",
              "      <td>878</td>\n",
              "      <td>2000.0</td>\n",
              "      <td>[('Rated 4.0', 'RATED\\n  Went there post dinne...</td>\n",
              "      <td>Pubs and bars</td>\n",
              "      <td>Whitefield</td>\n",
              "    </tr>\n",
              "    <tr>\n",
              "      <th>23245</th>\n",
              "      <td>Keys Hotel, 6, 1st Phase Industrial Area, Near...</td>\n",
              "      <td>Keys Cafe - Keys Hotel</td>\n",
              "      <td>0</td>\n",
              "      <td>0</td>\n",
              "      <td>2.8</td>\n",
              "      <td>161</td>\n",
              "      <td>84</td>\n",
              "      <td>21</td>\n",
              "      <td>Salads, Coffee, Breakfast Buffet, Halwa, Chick...</td>\n",
              "      <td>539</td>\n",
              "      <td>1200.0</td>\n",
              "      <td>[('Rated 3.0', 'RATED\\n  Place is good not tha...</td>\n",
              "      <td>Pubs and bars</td>\n",
              "      <td>Whitefield</td>\n",
              "    </tr>\n",
              "    <tr>\n",
              "      <th>23246</th>\n",
              "      <td>139/C1, Next To GR Tech Park, Pattandur Agraha...</td>\n",
              "      <td>Bhagini</td>\n",
              "      <td>0</td>\n",
              "      <td>0</td>\n",
              "      <td>2.5</td>\n",
              "      <td>81</td>\n",
              "      <td>84</td>\n",
              "      <td>21</td>\n",
              "      <td>Biryani, Andhra Meal</td>\n",
              "      <td>80</td>\n",
              "      <td>800.0</td>\n",
              "      <td>[('Rated 4.0', 'RATED\\n  A fine place to chill...</td>\n",
              "      <td>Pubs and bars</td>\n",
              "      <td>Whitefield</td>\n",
              "    </tr>\n",
              "    <tr>\n",
              "      <th>23247</th>\n",
              "      <td>Sheraton Grand Bengaluru Whitefield Hotel &amp; Co...</td>\n",
              "      <td>Chime - Sheraton Grand Bengaluru Whitefield Ho...</td>\n",
              "      <td>0</td>\n",
              "      <td>1</td>\n",
              "      <td>4.3</td>\n",
              "      <td>236</td>\n",
              "      <td>25</td>\n",
              "      <td>4</td>\n",
              "      <td>Cocktails, Pizza, Buttermilk</td>\n",
              "      <td>878</td>\n",
              "      <td>2500.0</td>\n",
              "      <td>[('Rated 4.0', 'RATED\\n  Nice and friendly pla...</td>\n",
              "      <td>Pubs and bars</td>\n",
              "      <td>Whitefield</td>\n",
              "    </tr>\n",
              "  </tbody>\n",
              "</table>\n",
              "<p>23248 rows × 14 columns</p>\n",
              "</div>\n",
              "      <button class=\"colab-df-convert\" onclick=\"convertToInteractive('df-7fbf9371-5f68-4e88-b2d8-4b5b6e85c9da')\"\n",
              "              title=\"Convert this dataframe to an interactive table.\"\n",
              "              style=\"display:none;\">\n",
              "        \n",
              "  <svg xmlns=\"http://www.w3.org/2000/svg\" height=\"24px\"viewBox=\"0 0 24 24\"\n",
              "       width=\"24px\">\n",
              "    <path d=\"M0 0h24v24H0V0z\" fill=\"none\"/>\n",
              "    <path d=\"M18.56 5.44l.94 2.06.94-2.06 2.06-.94-2.06-.94-.94-2.06-.94 2.06-2.06.94zm-11 1L8.5 8.5l.94-2.06 2.06-.94-2.06-.94L8.5 2.5l-.94 2.06-2.06.94zm10 10l.94 2.06.94-2.06 2.06-.94-2.06-.94-.94-2.06-.94 2.06-2.06.94z\"/><path d=\"M17.41 7.96l-1.37-1.37c-.4-.4-.92-.59-1.43-.59-.52 0-1.04.2-1.43.59L10.3 9.45l-7.72 7.72c-.78.78-.78 2.05 0 2.83L4 21.41c.39.39.9.59 1.41.59.51 0 1.02-.2 1.41-.59l7.78-7.78 2.81-2.81c.8-.78.8-2.07 0-2.86zM5.41 20L4 18.59l7.72-7.72 1.47 1.35L5.41 20z\"/>\n",
              "  </svg>\n",
              "      </button>\n",
              "      \n",
              "  <style>\n",
              "    .colab-df-container {\n",
              "      display:flex;\n",
              "      flex-wrap:wrap;\n",
              "      gap: 12px;\n",
              "    }\n",
              "\n",
              "    .colab-df-convert {\n",
              "      background-color: #E8F0FE;\n",
              "      border: none;\n",
              "      border-radius: 50%;\n",
              "      cursor: pointer;\n",
              "      display: none;\n",
              "      fill: #1967D2;\n",
              "      height: 32px;\n",
              "      padding: 0 0 0 0;\n",
              "      width: 32px;\n",
              "    }\n",
              "\n",
              "    .colab-df-convert:hover {\n",
              "      background-color: #E2EBFA;\n",
              "      box-shadow: 0px 1px 2px rgba(60, 64, 67, 0.3), 0px 1px 3px 1px rgba(60, 64, 67, 0.15);\n",
              "      fill: #174EA6;\n",
              "    }\n",
              "\n",
              "    [theme=dark] .colab-df-convert {\n",
              "      background-color: #3B4455;\n",
              "      fill: #D2E3FC;\n",
              "    }\n",
              "\n",
              "    [theme=dark] .colab-df-convert:hover {\n",
              "      background-color: #434B5C;\n",
              "      box-shadow: 0px 1px 3px 1px rgba(0, 0, 0, 0.15);\n",
              "      filter: drop-shadow(0px 1px 2px rgba(0, 0, 0, 0.3));\n",
              "      fill: #FFFFFF;\n",
              "    }\n",
              "  </style>\n",
              "\n",
              "      <script>\n",
              "        const buttonEl =\n",
              "          document.querySelector('#df-7fbf9371-5f68-4e88-b2d8-4b5b6e85c9da button.colab-df-convert');\n",
              "        buttonEl.style.display =\n",
              "          google.colab.kernel.accessAllowed ? 'block' : 'none';\n",
              "\n",
              "        async function convertToInteractive(key) {\n",
              "          const element = document.querySelector('#df-7fbf9371-5f68-4e88-b2d8-4b5b6e85c9da');\n",
              "          const dataTable =\n",
              "            await google.colab.kernel.invokeFunction('convertToInteractive',\n",
              "                                                     [key], {});\n",
              "          if (!dataTable) return;\n",
              "\n",
              "          const docLinkHtml = 'Like what you see? Visit the ' +\n",
              "            '<a target=\"_blank\" href=https://colab.research.google.com/notebooks/data_table.ipynb>data table notebook</a>'\n",
              "            + ' to learn more about interactive tables.';\n",
              "          element.innerHTML = '';\n",
              "          dataTable['output_type'] = 'display_data';\n",
              "          await google.colab.output.renderOutput(dataTable, element);\n",
              "          const docLink = document.createElement('div');\n",
              "          docLink.innerHTML = docLinkHtml;\n",
              "          element.appendChild(docLink);\n",
              "        }\n",
              "      </script>\n",
              "    </div>\n",
              "  </div>\n",
              "  "
            ]
          },
          "metadata": {},
          "execution_count": 69
        }
      ]
    },
    {
      "cell_type": "code",
      "source": [
        "my_data = df.iloc[:,[2,3,4,5,6,7,9,10]]\n",
        "my_data.to_csv('Zomato_df.csv')"
      ],
      "metadata": {
        "id": "1xcSqaXXxty0"
      },
      "execution_count": 70,
      "outputs": []
    },
    {
      "cell_type": "code",
      "source": [
        "x = df.iloc[:,[2,3,5,6,7,9,10]]\n",
        "x.head()"
      ],
      "metadata": {
        "colab": {
          "base_uri": "https://localhost:8080/",
          "height": 206
        },
        "id": "qnuvKYAzyGBF",
        "outputId": "e53d2a70-bbe6-4c7b-a38b-6066d8643979"
      },
      "execution_count": 71,
      "outputs": [
        {
          "output_type": "execute_result",
          "data": {
            "text/plain": [
              "   online_order  book_table  votes  location  rest_type  cuisines   cost\n",
              "0             1           1    775         1         20      1386  800.0\n",
              "1             1           0    787         1         20       594  800.0\n",
              "2             1           0    918         1         16       484  800.0\n",
              "3             0           0     88         1         62      1587  300.0\n",
              "4             0           0    166         4         20      1406  600.0"
            ],
            "text/html": [
              "\n",
              "  <div id=\"df-63eaf6ad-26b1-46f4-a159-adfdae1f851c\">\n",
              "    <div class=\"colab-df-container\">\n",
              "      <div>\n",
              "<style scoped>\n",
              "    .dataframe tbody tr th:only-of-type {\n",
              "        vertical-align: middle;\n",
              "    }\n",
              "\n",
              "    .dataframe tbody tr th {\n",
              "        vertical-align: top;\n",
              "    }\n",
              "\n",
              "    .dataframe thead th {\n",
              "        text-align: right;\n",
              "    }\n",
              "</style>\n",
              "<table border=\"1\" class=\"dataframe\">\n",
              "  <thead>\n",
              "    <tr style=\"text-align: right;\">\n",
              "      <th></th>\n",
              "      <th>online_order</th>\n",
              "      <th>book_table</th>\n",
              "      <th>votes</th>\n",
              "      <th>location</th>\n",
              "      <th>rest_type</th>\n",
              "      <th>cuisines</th>\n",
              "      <th>cost</th>\n",
              "    </tr>\n",
              "  </thead>\n",
              "  <tbody>\n",
              "    <tr>\n",
              "      <th>0</th>\n",
              "      <td>1</td>\n",
              "      <td>1</td>\n",
              "      <td>775</td>\n",
              "      <td>1</td>\n",
              "      <td>20</td>\n",
              "      <td>1386</td>\n",
              "      <td>800.0</td>\n",
              "    </tr>\n",
              "    <tr>\n",
              "      <th>1</th>\n",
              "      <td>1</td>\n",
              "      <td>0</td>\n",
              "      <td>787</td>\n",
              "      <td>1</td>\n",
              "      <td>20</td>\n",
              "      <td>594</td>\n",
              "      <td>800.0</td>\n",
              "    </tr>\n",
              "    <tr>\n",
              "      <th>2</th>\n",
              "      <td>1</td>\n",
              "      <td>0</td>\n",
              "      <td>918</td>\n",
              "      <td>1</td>\n",
              "      <td>16</td>\n",
              "      <td>484</td>\n",
              "      <td>800.0</td>\n",
              "    </tr>\n",
              "    <tr>\n",
              "      <th>3</th>\n",
              "      <td>0</td>\n",
              "      <td>0</td>\n",
              "      <td>88</td>\n",
              "      <td>1</td>\n",
              "      <td>62</td>\n",
              "      <td>1587</td>\n",
              "      <td>300.0</td>\n",
              "    </tr>\n",
              "    <tr>\n",
              "      <th>4</th>\n",
              "      <td>0</td>\n",
              "      <td>0</td>\n",
              "      <td>166</td>\n",
              "      <td>4</td>\n",
              "      <td>20</td>\n",
              "      <td>1406</td>\n",
              "      <td>600.0</td>\n",
              "    </tr>\n",
              "  </tbody>\n",
              "</table>\n",
              "</div>\n",
              "      <button class=\"colab-df-convert\" onclick=\"convertToInteractive('df-63eaf6ad-26b1-46f4-a159-adfdae1f851c')\"\n",
              "              title=\"Convert this dataframe to an interactive table.\"\n",
              "              style=\"display:none;\">\n",
              "        \n",
              "  <svg xmlns=\"http://www.w3.org/2000/svg\" height=\"24px\"viewBox=\"0 0 24 24\"\n",
              "       width=\"24px\">\n",
              "    <path d=\"M0 0h24v24H0V0z\" fill=\"none\"/>\n",
              "    <path d=\"M18.56 5.44l.94 2.06.94-2.06 2.06-.94-2.06-.94-.94-2.06-.94 2.06-2.06.94zm-11 1L8.5 8.5l.94-2.06 2.06-.94-2.06-.94L8.5 2.5l-.94 2.06-2.06.94zm10 10l.94 2.06.94-2.06 2.06-.94-2.06-.94-.94-2.06-.94 2.06-2.06.94z\"/><path d=\"M17.41 7.96l-1.37-1.37c-.4-.4-.92-.59-1.43-.59-.52 0-1.04.2-1.43.59L10.3 9.45l-7.72 7.72c-.78.78-.78 2.05 0 2.83L4 21.41c.39.39.9.59 1.41.59.51 0 1.02-.2 1.41-.59l7.78-7.78 2.81-2.81c.8-.78.8-2.07 0-2.86zM5.41 20L4 18.59l7.72-7.72 1.47 1.35L5.41 20z\"/>\n",
              "  </svg>\n",
              "      </button>\n",
              "      \n",
              "  <style>\n",
              "    .colab-df-container {\n",
              "      display:flex;\n",
              "      flex-wrap:wrap;\n",
              "      gap: 12px;\n",
              "    }\n",
              "\n",
              "    .colab-df-convert {\n",
              "      background-color: #E8F0FE;\n",
              "      border: none;\n",
              "      border-radius: 50%;\n",
              "      cursor: pointer;\n",
              "      display: none;\n",
              "      fill: #1967D2;\n",
              "      height: 32px;\n",
              "      padding: 0 0 0 0;\n",
              "      width: 32px;\n",
              "    }\n",
              "\n",
              "    .colab-df-convert:hover {\n",
              "      background-color: #E2EBFA;\n",
              "      box-shadow: 0px 1px 2px rgba(60, 64, 67, 0.3), 0px 1px 3px 1px rgba(60, 64, 67, 0.15);\n",
              "      fill: #174EA6;\n",
              "    }\n",
              "\n",
              "    [theme=dark] .colab-df-convert {\n",
              "      background-color: #3B4455;\n",
              "      fill: #D2E3FC;\n",
              "    }\n",
              "\n",
              "    [theme=dark] .colab-df-convert:hover {\n",
              "      background-color: #434B5C;\n",
              "      box-shadow: 0px 1px 3px 1px rgba(0, 0, 0, 0.15);\n",
              "      filter: drop-shadow(0px 1px 2px rgba(0, 0, 0, 0.3));\n",
              "      fill: #FFFFFF;\n",
              "    }\n",
              "  </style>\n",
              "\n",
              "      <script>\n",
              "        const buttonEl =\n",
              "          document.querySelector('#df-63eaf6ad-26b1-46f4-a159-adfdae1f851c button.colab-df-convert');\n",
              "        buttonEl.style.display =\n",
              "          google.colab.kernel.accessAllowed ? 'block' : 'none';\n",
              "\n",
              "        async function convertToInteractive(key) {\n",
              "          const element = document.querySelector('#df-63eaf6ad-26b1-46f4-a159-adfdae1f851c');\n",
              "          const dataTable =\n",
              "            await google.colab.kernel.invokeFunction('convertToInteractive',\n",
              "                                                     [key], {});\n",
              "          if (!dataTable) return;\n",
              "\n",
              "          const docLinkHtml = 'Like what you see? Visit the ' +\n",
              "            '<a target=\"_blank\" href=https://colab.research.google.com/notebooks/data_table.ipynb>data table notebook</a>'\n",
              "            + ' to learn more about interactive tables.';\n",
              "          element.innerHTML = '';\n",
              "          dataTable['output_type'] = 'display_data';\n",
              "          await google.colab.output.renderOutput(dataTable, element);\n",
              "          const docLink = document.createElement('div');\n",
              "          docLink.innerHTML = docLinkHtml;\n",
              "          element.appendChild(docLink);\n",
              "        }\n",
              "      </script>\n",
              "    </div>\n",
              "  </div>\n",
              "  "
            ]
          },
          "metadata": {},
          "execution_count": 71
        }
      ]
    },
    {
      "cell_type": "code",
      "source": [
        "y = df['rate']"
      ],
      "metadata": {
        "id": "C3GQ5I_LypTn"
      },
      "execution_count": 72,
      "outputs": []
    },
    {
      "cell_type": "code",
      "source": [
        "x_train,x_test,y_train,y_test = train_test_split(x,y,test_size = .3, random_state=10)"
      ],
      "metadata": {
        "id": "heGtDVgMy7DQ"
      },
      "execution_count": 73,
      "outputs": []
    },
    {
      "cell_type": "markdown",
      "source": [
        "# Linear Regression"
      ],
      "metadata": {
        "id": "hpVC1G0TzMnj"
      }
    },
    {
      "cell_type": "code",
      "source": [
        "lr_model = LinearRegression()\n",
        "lr_model.fit(x_train,y_train)"
      ],
      "metadata": {
        "colab": {
          "base_uri": "https://localhost:8080/"
        },
        "id": "fJQADIrmzKjO",
        "outputId": "e66a1956-ad71-43c5-e512-fcd54d17a62c"
      },
      "execution_count": 74,
      "outputs": [
        {
          "output_type": "execute_result",
          "data": {
            "text/plain": [
              "LinearRegression()"
            ]
          },
          "metadata": {},
          "execution_count": 74
        }
      ]
    },
    {
      "cell_type": "code",
      "source": [
        "from sklearn.metrics import r2_score\n",
        "y_pred = lr_model.predict(x_test) \n",
        "r2_score(y_test,y_pred)"
      ],
      "metadata": {
        "colab": {
          "base_uri": "https://localhost:8080/"
        },
        "id": "MBrBNjAKzWdL",
        "outputId": "079e07de-b4fe-4d74-84c6-8ef92ce0e8ac"
      },
      "execution_count": 75,
      "outputs": [
        {
          "output_type": "execute_result",
          "data": {
            "text/plain": [
              "0.22793110062201383"
            ]
          },
          "metadata": {},
          "execution_count": 75
        }
      ]
    },
    {
      "cell_type": "markdown",
      "source": [
        "# Random Forest"
      ],
      "metadata": {
        "id": "BWJUaIzo0JCB"
      }
    },
    {
      "cell_type": "code",
      "source": [
        "from sklearn.ensemble import RandomForestRegressor\n",
        "rf_model = RandomForestRegressor(n_estimators=650, random_state=245,min_samples_leaf=0.0001)\n",
        "rf_model.fit(x_train,y_train)\n",
        "y_pred= rf_model.predict(x_test)\n",
        "r2_score(y_test,y_pred)"
      ],
      "metadata": {
        "colab": {
          "base_uri": "https://localhost:8080/"
        },
        "id": "QB95N8tCz1IN",
        "outputId": "e422a24f-885a-424c-9c93-18cd0bae0ac8"
      },
      "execution_count": 76,
      "outputs": [
        {
          "output_type": "execute_result",
          "data": {
            "text/plain": [
              "0.8876221612791518"
            ]
          },
          "metadata": {},
          "execution_count": 76
        }
      ]
    },
    {
      "cell_type": "markdown",
      "source": [
        "# ExtraTree Regressor"
      ],
      "metadata": {
        "id": "R80E8dXl0-W1"
      }
    },
    {
      "cell_type": "code",
      "source": [
        "et_model = ExtraTreesRegressor(n_estimators=120)\n",
        "et_model.fit(x_train,y_train)\n",
        "y_pred = et_model.predict(x_test)\n",
        "r2_score(y_test,y_pred)"
      ],
      "metadata": {
        "colab": {
          "base_uri": "https://localhost:8080/"
        },
        "id": "5JIPUeVS07QH",
        "outputId": "d3b69481-e883-4d2e-ae18-62ad26880a22"
      },
      "execution_count": 77,
      "outputs": [
        {
          "output_type": "execute_result",
          "data": {
            "text/plain": [
              "0.9404830689780027"
            ]
          },
          "metadata": {},
          "execution_count": 77
        }
      ]
    },
    {
      "cell_type": "markdown",
      "source": [
        "# Saving Model"
      ],
      "metadata": {
        "id": "wbQ_omhf1tkv"
      }
    },
    {
      "cell_type": "code",
      "source": [
        "import pickle\n",
        "pickle.dump(et_model, open('zomato.pkl','wb'))"
      ],
      "metadata": {
        "id": "mUrUUnpT1jIz"
      },
      "execution_count": 78,
      "outputs": []
    },
    {
      "cell_type": "code",
      "source": [],
      "metadata": {
        "id": "z3Dn4z0L2Cy_"
      },
      "execution_count": 168,
      "outputs": []
    }
  ]
}